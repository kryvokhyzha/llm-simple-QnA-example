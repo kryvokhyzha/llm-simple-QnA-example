{
 "cells": [
  {
   "cell_type": "markdown",
   "source": [
    "# Retrieval Augmented Generation"
   ],
   "metadata": {
    "collapsed": false
   },
   "id": "9bffa3d799ee2485"
  },
  {
   "cell_type": "markdown",
   "source": [
    "## Import packages"
   ],
   "metadata": {
    "collapsed": false
   },
   "id": "5cc6c2bc923c1d3f"
  },
  {
   "cell_type": "code",
   "execution_count": 1,
   "outputs": [],
   "source": [
    "import os"
   ],
   "metadata": {
    "collapsed": false,
    "ExecuteTime": {
     "end_time": "2024-01-25T14:13:52.966994Z",
     "start_time": "2024-01-25T14:13:52.956267Z"
    }
   },
   "id": "c643ad4f71391da1"
  },
  {
   "cell_type": "code",
   "execution_count": 2,
   "outputs": [],
   "source": [
    "import langchain\n",
    "import rootutils\n",
    "from dotenv import find_dotenv, load_dotenv\n",
    "from langchain.chat_models import AzureChatOpenAI\n",
    "from langchain.document_loaders import PyPDFLoader, WikipediaLoader\n",
    "from langchain.embeddings import OpenAIEmbeddings\n",
    "from langchain.text_splitter import RecursiveCharacterTextSplitter\n",
    "from langchain.vectorstores import Qdrant"
   ],
   "metadata": {
    "collapsed": false,
    "ExecuteTime": {
     "end_time": "2024-01-25T14:13:54.147241Z",
     "start_time": "2024-01-25T14:13:53.480365Z"
    }
   },
   "id": "1d8b8061024bd8de"
  },
  {
   "cell_type": "markdown",
   "source": [
    "## Settings"
   ],
   "metadata": {
    "collapsed": false
   },
   "id": "5bf5eac230b5bdef"
  },
  {
   "cell_type": "code",
   "execution_count": 3,
   "outputs": [],
   "source": [
    "# read local .env file\n",
    "_ = load_dotenv(find_dotenv())"
   ],
   "metadata": {
    "collapsed": false,
    "ExecuteTime": {
     "end_time": "2024-01-25T14:13:54.416765Z",
     "start_time": "2024-01-25T14:13:54.401665Z"
    }
   },
   "id": "eda4f304c735be86"
  },
  {
   "cell_type": "code",
   "execution_count": 4,
   "outputs": [],
   "source": [
    "class debug_langchain:\n",
    "    def __init__(self, enable: bool = True):\n",
    "        self.enable = enable\n",
    "\n",
    "    def __enter__(self):\n",
    "        langchain.debug = True if self.enable else False\n",
    "\n",
    "    def __exit__(self, exc_type, exc_val, exc_tb):\n",
    "        langchain.debug = False"
   ],
   "metadata": {
    "collapsed": false,
    "ExecuteTime": {
     "end_time": "2024-01-25T14:13:54.760683Z",
     "start_time": "2024-01-25T14:13:54.746042Z"
    }
   },
   "id": "2c52f554c7a8bdc"
  },
  {
   "cell_type": "code",
   "execution_count": 5,
   "outputs": [],
   "source": [
    "SEED = 42\n",
    "SENTENCE_ENDINGS = [\".\", \"!\", \"?\"]\n",
    "WORDS_BREAKS = list(reversed([\",\", \";\", \":\", \" \", \"(\", \")\", \"[\", \"]\", \"{\", \"}\", \"\\t\", \"\\n\"]))"
   ],
   "metadata": {
    "collapsed": false,
    "ExecuteTime": {
     "end_time": "2024-01-25T14:13:55.670913Z",
     "start_time": "2024-01-25T14:13:55.654879Z"
    }
   },
   "id": "ae56625d6b2ac0d8"
  },
  {
   "cell_type": "code",
   "execution_count": 6,
   "outputs": [],
   "source": [
    "path_to_root = rootutils.find_root(indicator=\".project-root\")\n",
    "path_to_data = path_to_root / \"data\"\n",
    "\n",
    "path_to_data.mkdir(exist_ok=True, parents=True)"
   ],
   "metadata": {
    "collapsed": false,
    "ExecuteTime": {
     "end_time": "2024-01-25T14:13:55.999928Z",
     "start_time": "2024-01-25T14:13:55.975564Z"
    }
   },
   "id": "ce0bb6bc2e81737"
  },
  {
   "cell_type": "code",
   "execution_count": 7,
   "outputs": [],
   "source": [
    "llm_deployment_name = os.getenv(\"LLM_DEPLOYMENT_NAME\")\n",
    "embedding_deployment_name = os.getenv(\"EMBEDDING_DEPLOYMENT_NAME\")"
   ],
   "metadata": {
    "collapsed": false,
    "ExecuteTime": {
     "end_time": "2024-01-25T14:13:56.610954Z",
     "start_time": "2024-01-25T14:13:56.589984Z"
    }
   },
   "id": "f0445a14e5662b2c"
  },
  {
   "cell_type": "markdown",
   "source": [
    "## Prepare data"
   ],
   "metadata": {
    "collapsed": false
   },
   "id": "79eb5a21277d2e93"
  },
  {
   "cell_type": "code",
   "execution_count": 8,
   "outputs": [],
   "source": [
    "# Load PDF\n",
    "loaders = (\n",
    "    [\n",
    "        # Duplicate documents on purpose - messy data\n",
    "        PyPDFLoader(file_path=str(path_to_data / file_name))\n",
    "        for file_name in os.listdir(path_to_data)\n",
    "        if file_name.endswith(\".pdf\")\n",
    "    ]\n",
    "    + [\n",
    "        WikipediaLoader(query=\"Розпізнавання іменованих сутностей\", load_max_docs=2, lang=\"uk\"),\n",
    "        WikipediaLoader(query=\"Нейронні мережі\", load_max_docs=2, lang=\"uk\"),\n",
    "        WikipediaLoader(query=\"Дід Панас\", load_max_docs=1, lang=\"uk\"),\n",
    "    ]\n",
    "    + [\n",
    "        WikipediaLoader(query=\"Messi\", load_max_docs=2, lang=\"en\"),\n",
    "        WikipediaLoader(query=\"Дід Панас\", load_max_docs=1, lang=\"en\"),\n",
    "    ]\n",
    ")\n",
    "\n",
    "docs = []\n",
    "for loader in loaders:\n",
    "    docs.extend(loader.load())"
   ],
   "metadata": {
    "collapsed": false,
    "ExecuteTime": {
     "end_time": "2024-01-25T14:14:19.645184Z",
     "start_time": "2024-01-25T14:13:58.194827Z"
    }
   },
   "id": "9ec37dc171b3101c"
  },
  {
   "cell_type": "code",
   "execution_count": 9,
   "id": "initial_id",
   "metadata": {
    "collapsed": true,
    "ExecuteTime": {
     "end_time": "2024-01-25T14:14:19.902273Z",
     "start_time": "2024-01-25T14:14:19.646417Z"
    }
   },
   "outputs": [],
   "source": [
    "text_splitter = RecursiveCharacterTextSplitter.from_tiktoken_encoder(\n",
    "    encoding_name=\"cl100k_base\",\n",
    "    chunk_size=768,  # 2048\n",
    "    chunk_overlap=128,  # 128\n",
    "    separators=SENTENCE_ENDINGS + WORDS_BREAKS,\n",
    ")"
   ]
  },
  {
   "cell_type": "code",
   "execution_count": 10,
   "outputs": [],
   "source": [
    "splits = text_splitter.split_documents(docs)"
   ],
   "metadata": {
    "collapsed": false,
    "ExecuteTime": {
     "end_time": "2024-01-25T14:14:20.014150Z",
     "start_time": "2024-01-25T14:14:19.903166Z"
    }
   },
   "id": "1af7ab0adcda3d26"
  },
  {
   "cell_type": "code",
   "execution_count": 11,
   "outputs": [
    {
     "data": {
      "text/plain": "170"
     },
     "execution_count": 11,
     "metadata": {},
     "output_type": "execute_result"
    }
   ],
   "source": [
    "len(splits)"
   ],
   "metadata": {
    "collapsed": false,
    "ExecuteTime": {
     "end_time": "2024-01-25T14:14:20.025108Z",
     "start_time": "2024-01-25T14:14:20.017569Z"
    }
   },
   "id": "798120a93f38fb9d"
  },
  {
   "cell_type": "markdown",
   "source": [
    "## Create embeddings and fill vector store"
   ],
   "metadata": {
    "collapsed": false
   },
   "id": "714844d158ee6ab0"
  },
  {
   "cell_type": "code",
   "execution_count": 12,
   "outputs": [
    {
     "name": "stderr",
     "output_type": "stream",
     "text": [
      "/opt/homebrew/Caskroom/miniforge/base/envs/llm-simple-QnA-example-1/lib/python3.10/site-packages/langchain_core/_api/deprecation.py:117: LangChainDeprecationWarning: The class `langchain_community.embeddings.openai.OpenAIEmbeddings` was deprecated in langchain-community 0.1.0 and will be removed in 0.2.0. An updated version of the class exists in the langchain-openai package and should be used instead. To use it run `pip install -U langchain-openai` and import as `from langchain_openai import OpenAIEmbeddings`.\n",
      "  warn_deprecated(\n"
     ]
    }
   ],
   "source": [
    "embeddings = OpenAIEmbeddings(deployment=embedding_deployment_name)"
   ],
   "metadata": {
    "collapsed": false,
    "ExecuteTime": {
     "end_time": "2024-01-25T14:14:20.255490Z",
     "start_time": "2024-01-25T14:14:20.026078Z"
    }
   },
   "id": "c569ef0ddecdca0c"
  },
  {
   "cell_type": "code",
   "execution_count": 13,
   "outputs": [],
   "source": [
    "url = os.getenv(\"QDRANT_URL\")\n",
    "# collection_name = os.getenv(\"QDRANT_COLLECTION_NAME\")\n",
    "collection_name = \"my_custom_documents\"\n",
    "\n",
    "qdrant = Qdrant.from_documents(\n",
    "    splits,\n",
    "    embeddings,\n",
    "    url=url,\n",
    "    collection_name=collection_name,\n",
    ")"
   ],
   "metadata": {
    "collapsed": false,
    "ExecuteTime": {
     "end_time": "2024-01-25T14:14:49.871606Z",
     "start_time": "2024-01-25T14:14:45.217760Z"
    }
   },
   "id": "63e69245799ec80a"
  },
  {
   "cell_type": "markdown",
   "source": [
    "## Try out the search"
   ],
   "metadata": {
    "collapsed": false
   },
   "id": "834814fe122ee51"
  },
  {
   "cell_type": "code",
   "execution_count": 14,
   "outputs": [
    {
     "data": {
      "text/plain": "Document(page_content='CS229 Bias-Variance and Error Analysis\\nYoann Le Calonnec\\nOctober 2, 2017\\n1 The Bias-Variance Tradeoﬀ\\nAssume you are given a well ﬁtted machine learning model ˆfthat you want to apply on\\nsome test dataset. For instance, the model could be a linear regression whose parameters\\nwere computed using some training set diﬀerent from your test set. For each point xin your\\ntest set, you want to predict the associated target y∈R, and compute the mean squared\\nerror (MSE)\\nE(x,y)∼test set|ˆf(x)−y|2\\nYou now realize that this MSE is too high, and try to ﬁnd an explanation to this result:\\n•Overﬁtting: the model is too closely related to the examples in the training set and\\ndoesn’t generalize well to other examples.\\n•Underﬁtting: the model didn’t gather enough information from the training set, and\\ndoesn’t capture the link between the features xand the target y.\\n•The data is simply noisy, that is the model is neither overﬁtting or underﬁtting, and\\nthe high MSE is simply due to the amount of noise in the dataset.\\nOur intuition can be formalized by the Bias-Variance tradeoﬀ .\\nAssume that the points in your training/test set are all taken from a similar distribution,\\nwith\\nyi=f(xi) +ϵi,where the noise ϵisatisﬁes E(ϵi) = 0,Var(ϵi) =σ2\\nand your goal is to compute f. By looking at your training set, you obtain an estimate ˆf.\\nNow use this estimate with your test set, meaning that for each example jin the test set,\\nyour prediction for yj=f(xj) +ϵjisˆf(xj). Here,xjis a ﬁxed real number (or vector if the\\nfeature space is multi-dimensional) thus f(xj) is ﬁxed, and ϵjis a real random variable with\\nmean 0 and variance σ2. The crucial observation is that ˆf(xj) is random since it depends on\\nthe valuesϵifrom the training set. That’s why talking about the bias E(ˆf(x)−f(x)) and\\nthe variance of ˆfmakes sense.\\nWe can now compute our MSE on the test set by computing the following expectation\\nwith respect to the possible training sets (since ˆfis a random variable function of the choice\\nof the traning set)\\n1', metadata={'page': 0, 'source': '/Users/romankryvokhyzha/PycharmProjects/llm-simple-QnA-example/data/bias-variance-error-analysis.pdf'})"
     },
     "execution_count": 14,
     "metadata": {},
     "output_type": "execute_result"
    }
   ],
   "source": [
    "query = \"What is Bias-Variance Tradeoff?\"\n",
    "found_docs = qdrant.similarity_search(query)\n",
    "found_docs[0]"
   ],
   "metadata": {
    "collapsed": false,
    "ExecuteTime": {
     "end_time": "2024-01-25T14:14:49.958265Z",
     "start_time": "2024-01-25T14:14:49.872122Z"
    }
   },
   "id": "294722651edc0f3"
  },
  {
   "cell_type": "code",
   "execution_count": 15,
   "outputs": [
    {
     "data": {
      "text/plain": "Document(page_content=\"У обробці природної мови зв'язування сутностей (англ. Entity Linking), яке також називають зв'язування іменованих сутностей (ЗІС), розпізнавання іменованих сутностей (РІС), розпізнавання і неоднозначності іменованих сутностей (РНІС) або нормалізація іменованих сутностей (НІС), — це присвоєння унікальної ідентичності об'єктам (наприклад, відомим особам, місцям чи компаніям), що згадуються у тексті. Наприклад, розглянемо речення «Дніпро — річка України». Ідея полягає в тому, щоб визначити, що «Дніпро» належить до річки Дніпро, а не до Дніпро-арена чи будь-якої іншої організації, яку можна назвати «Дніпро». Зв'язування сутностей відрізняється від розпізнавання іменованих сутностей (РІС) тим, що РІС ідентифікує появу іменованої сутності в тексті, але не визначає, що саме це за сутність (див. Відмінності від інших технік).\\n\\n\\n== Вступ ==\\nУ зв'язуванні сутностей слова, що цікавлять (імена осіб, місцеположення та компанії) відображаються з вхідного тексту до відповідних унікальних сутностей у цільовій базі знань. Слова, що представляють інтерес, називаються названими сутностями (НС), згадками або поверхневими формами\", metadata={'source': 'https://uk.wikipedia.org/wiki/%D0%97%D0%B2%27%D1%8F%D0%B7%D1%83%D0%B2%D0%B0%D0%BD%D0%BD%D1%8F_%D1%96%D0%BC%D0%B5%D0%BD%D0%BE%D0%B2%D0%B0%D0%BD%D0%B8%D1%85_%D1%81%D1%83%D1%82%D0%BD%D0%BE%D1%81%D1%82%D0%B5%D0%B9', 'summary': \"У обробці природної мови зв'язування сутностей (англ. Entity Linking), яке також називають зв'язування іменованих сутностей (ЗІС), розпізнавання іменованих сутностей (РІС), розпізнавання і неоднозначності іменованих сутностей (РНІС) або нормалізація іменованих сутностей (НІС), — це присвоєння унікальної ідентичності об'єктам (наприклад, відомим особам, місцям чи компаніям), що згадуються у тексті. Наприклад, розглянемо речення «Дніпро — річка України». Ідея полягає в тому, щоб визначити, що «Дніпро» належить до річки Дніпро, а не до Дніпро-арена чи будь-якої іншої організації, яку можна назвати «Дніпро». Зв'язування сутностей відрізняється від розпізнавання іменованих сутностей (РІС) тим, що РІС ідентифікує появу іменованої сутності в тексті, але не визначає, що саме це за сутність (див. Відмінності від інших технік).\", 'title': \"Зв'язування іменованих сутностей\"})"
     },
     "execution_count": 15,
     "metadata": {},
     "output_type": "execute_result"
    }
   ],
   "source": [
    "query = \"Що таке розпізнавання іменованих сутностей?\"\n",
    "found_docs = qdrant.similarity_search(query)\n",
    "found_docs[0]"
   ],
   "metadata": {
    "collapsed": false,
    "ExecuteTime": {
     "end_time": "2024-01-25T14:14:50.039904Z",
     "start_time": "2024-01-25T14:14:49.957618Z"
    }
   },
   "id": "acdb7d180fc7c83c"
  },
  {
   "cell_type": "code",
   "execution_count": 16,
   "outputs": [
    {
     "data": {
      "text/plain": "Document(page_content=\".\\n1941 — призваний у військовий театр Південно-Західного фронту, потрапив у полон, але втік. Згодом потрапив до окупованого гітлерівцями Києва, влаштувався на роботу на залізниці, де організував драматичний гурток. 1946 року був скерований до Луцька — у Волинський український музично-драматичний театр імені Тараса Шевченка, де працював до 1959-го.\\nУ Луцьку одружився із секретаркою театру Галиною, де народився його син Богдан.1959—1982 — на Київській кіностудії художніх фільмів імені Олександра Довженка.\\nЗ 1962 р. у ролі діда Панаса розповідав на Українському радіо «вечірню казку» для дітей (перед тим Вескляров працював у цій ролі на підміні іншого актора, якого згодом замінив цілком).1964—1986 — у ролі діда Панаса вів на Українському телебаченні програму «На добраніч, діти».\\n\\n\\n== Вшанування пам'яті ==\\nПохований у колумбарії Байкового кладовища. Вдова виїхала до США, перед тим передавши кіноплівки із записами «діда Панаса» братам Капрановим.\\n\\n2019 року на приміщенні тальнівської школи, на місці якої стояв будинок, де народився Петро Вескляров, встановлено пам'ятну дошку.\\nУ 2022 році у Тальному на Черкащині вулиця Крилова стала вулицею Весклярова.\\n\\n\\n== Ролі в театрі ==\\nМикола Задорожний («Украдене щастя» Івана Франка).\\nКомандор («Камінний господар» Лесі Українки)\", metadata={'source': 'https://uk.wikipedia.org/wiki/%D0%92%D0%B5%D1%81%D0%BA%D0%BB%D1%8F%D1%80%D0%BE%D0%B2_%D0%9F%D0%B5%D1%82%D1%80%D0%BE_%D0%AE%D1%85%D0%B8%D0%BC%D0%BE%D0%B2%D0%B8%D1%87', 'summary': \"Петро́ Юхи́мович Вескляро́в, ім'я при народженні Пінхас Хаїмович Весклер (9 червня 1911(19110609), Тальне, Уманський повіт, Київська губернія, Російська імперія — 5 січня 1994, Київ) — український актор і телеведучий. Заслужений артист Української РСР (1973). Більш відомий під творчим псевдонімом «Дід Панас».\", 'title': 'Вескляров Петро Юхимович'})"
     },
     "execution_count": 16,
     "metadata": {},
     "output_type": "execute_result"
    }
   ],
   "source": [
    "query = \"Хто такий дід Панас?\"\n",
    "found_docs = qdrant.max_marginal_relevance_search(query, k=2, fetch_k=10)\n",
    "found_docs[0]"
   ],
   "metadata": {
    "collapsed": false,
    "ExecuteTime": {
     "end_time": "2024-01-25T14:14:50.188727Z",
     "start_time": "2024-01-25T14:14:50.040087Z"
    }
   },
   "id": "1d7ade496ca27f6d"
  },
  {
   "cell_type": "markdown",
   "source": [
    "## Create simple RAG chain using LlamaCpp"
   ],
   "metadata": {
    "collapsed": false
   },
   "id": "3bd8c8e6c6aa780a"
  },
  {
   "cell_type": "code",
   "execution_count": 17,
   "outputs": [],
   "source": [
    "from langchain.chains import RetrievalQA\n",
    "from langchain.prompts import PromptTemplate\n",
    "from qdrant_client import QdrantClient"
   ],
   "metadata": {
    "collapsed": false,
    "ExecuteTime": {
     "end_time": "2024-01-25T14:14:50.636080Z",
     "start_time": "2024-01-25T14:14:50.163914Z"
    }
   },
   "id": "5f57a5147c210d98"
  },
  {
   "cell_type": "code",
   "execution_count": 18,
   "outputs": [],
   "source": [
    "doc_store = Qdrant(\n",
    "    client=QdrantClient(url=url),\n",
    "    collection_name=collection_name,\n",
    "    embeddings=embeddings,\n",
    ")"
   ],
   "metadata": {
    "collapsed": false,
    "ExecuteTime": {
     "end_time": "2024-01-25T14:14:50.651786Z",
     "start_time": "2024-01-25T14:14:50.632738Z"
    }
   },
   "id": "5ba3d21f224746fb"
  },
  {
   "cell_type": "code",
   "execution_count": 19,
   "outputs": [
    {
     "name": "stderr",
     "output_type": "stream",
     "text": [
      "/opt/homebrew/Caskroom/miniforge/base/envs/llm-simple-QnA-example-1/lib/python3.10/site-packages/langchain_core/_api/deprecation.py:117: LangChainDeprecationWarning: The class `langchain_community.chat_models.azure_openai.AzureChatOpenAI` was deprecated in langchain-community 0.0.10 and will be removed in 0.2.0. An updated version of the class exists in the langchain-openai package and should be used instead. To use it run `pip install -U langchain-openai` and import as `from langchain_openai import AzureChatOpenAI`.\n",
      "  warn_deprecated(\n"
     ]
    }
   ],
   "source": [
    "llm = AzureChatOpenAI(\n",
    "    deployment_name=llm_deployment_name,\n",
    "    temperature=0,\n",
    ")"
   ],
   "metadata": {
    "collapsed": false,
    "ExecuteTime": {
     "end_time": "2024-01-25T14:14:50.706661Z",
     "start_time": "2024-01-25T14:14:50.644748Z"
    }
   },
   "id": "f47525623165fa3f"
  },
  {
   "cell_type": "code",
   "execution_count": 20,
   "outputs": [],
   "source": [
    "qa_chain = RetrievalQA.from_chain_type(\n",
    "    llm=llm,\n",
    "    chain_type=\"stuff\",\n",
    "    retriever=doc_store.as_retriever(),\n",
    "    # retriever=qdrant.as_retriever(search_type=\"mmr\"),\n",
    "    return_source_documents=False,\n",
    "    # chain_type_kwargs={\"prompt\": custom_prompt_template},\n",
    ")"
   ],
   "metadata": {
    "collapsed": false,
    "ExecuteTime": {
     "end_time": "2024-01-25T14:14:50.706810Z",
     "start_time": "2024-01-25T14:14:50.701065Z"
    }
   },
   "id": "d6d51e3f4e2e7aa8"
  },
  {
   "cell_type": "code",
   "execution_count": 21,
   "outputs": [
    {
     "name": "stderr",
     "output_type": "stream",
     "text": [
      "/opt/homebrew/Caskroom/miniforge/base/envs/llm-simple-QnA-example-1/lib/python3.10/site-packages/langchain_core/_api/deprecation.py:117: LangChainDeprecationWarning: The function `run` was deprecated in LangChain 0.1.0 and will be removed in 0.2.0. Use invoke instead.\n",
      "  warn_deprecated(\n"
     ]
    },
    {
     "name": "stdout",
     "output_type": "stream",
     "text": [
      "\u001b[32;1m\u001b[1;3m[chain/start]\u001b[0m \u001b[1m[1:chain:RetrievalQA] Entering Chain run with input:\n",
      "\u001b[0m{\n",
      "  \"query\": \"What is Gaussian kernel?\"\n",
      "}\n",
      "\u001b[32;1m\u001b[1;3m[chain/start]\u001b[0m \u001b[1m[1:chain:RetrievalQA > 3:chain:StuffDocumentsChain] Entering Chain run with input:\n",
      "\u001b[0m[inputs]\n",
      "\u001b[32;1m\u001b[1;3m[chain/start]\u001b[0m \u001b[1m[1:chain:RetrievalQA > 3:chain:StuffDocumentsChain > 4:chain:LLMChain] Entering Chain run with input:\n",
      "\u001b[0m{\n",
      "  \"question\": \"What is Gaussian kernel?\",\n",
      "  \"context\": \"9\\na feature map φsuch that the kernel Kdeﬁned above satisﬁes K(x,z) =\\nφ(x)Tφ(z)? Inthisparticularexample, theanswerisyes. Thiskernel iscalled\\ntheGaussian kernel , and corresponds to an inﬁnite dimensional feature\\nmapping φ. We will give a precise characterization about what propert ies\\na function Kneeds to satisfy so that it can be a valid kernel function that\\ncorresponds to some feature map φ.\\nNecessary conditions for valid kernels. Suppose for now that Kis\\nindeed a valid kernel corresponding to some feature mapping φ, and we will\\nﬁrst see what properties it satisﬁes. Now, consider some ﬁnit e set ofnpoints\\n(not necessarily the training set) {x(1),...,x(n)}, and let a square, n-by-n\\nmatrixKbe deﬁned so that its ( i,j)-entry is given by Kij=K(x(i),x(j)).\\nThis matrix is called the kernel matrix . Note that we’ve overloaded the\\nnotation and used Kto denote both the kernel function K(x,z) and the\\nkernel matrix K, due to their obvious close relationship.\\nNow, ifKis a valid kernel, then Kij=K(x(i),x(j)) =φ(x(i))Tφ(x(j)) =\\nφ(x(j))Tφ(x(i)) =K(x(j),x(i)) =Kji, andhence Kmustbesymmetric. More-\\nover, letting φk(x) denote the k-th coordinate of the vector φ(x), we ﬁnd that\\nfor any vector z, we have\\nzTKz=∑\\ni∑\\njziKijzj\\n=∑\\ni∑\\njziφ(x(i))Tφ(x(j))zj\\n=∑\\ni∑\\njzi∑\\nkφk(x(i))φk(x(j))zj\\n=∑\\nk∑\\ni∑\\njziφk(x(i))φk(x(j))zj\\n=∑\\nk(∑\\niziφk(x(i)))2\\n≥0.\\nThe second-to-last step uses the fact that∑\\ni,jaiaj= (∑\\niai)2forai=\\nziφk(x(i)). Sincezwas arbitrary, this shows that Kis positive semi-deﬁnite\\n(K≥0).\\nHence, we’ve shown that if Kis a valid kernel (i.e., if it corresponds to\\nsome feature mapping φ), then the corresponding kernel matrix K∈Rn×n\\nis symmetric positive semideﬁnite.\\n\\n11\\nApplication of kernel methods: We’ve seen the application of kernels\\nto linear regression. In the next part, we will introduce the support vector\\nmachines to which kernels can be directly applied. dwell too much longer on\\nithere. Infact, theideaofkernelshassigniﬁcantlybroade rapplicabilitythan\\nlinear regression and SVMs. Speciﬁcally, if you have any lear ning algorithm\\nthat you can write in terms of only inner products ⟨x,z⟩between input\\nattribute vectors, then by replacing this with K(x,z) whereKis a kernel,\\nyou can “magically” allow your algorithm to work eﬃciently i n the high\\ndimensional feature space corresponding to K. For instance, this kernel trick\\ncan be applied with the perceptron to derive a kernel percept ron algorithm.\\nMany of the algorithms that we’ll see later in this class will also be amenable\\nto this method, which has come to be known as the “kernel trick .”\\nPart VI\\nSupport Vector Machines\\nThis set of notes presents the Support Vector Machine (SVM) le arning al-\\ngorithm. SVMs are among the best (and many believe are indeed t he best)\\n“oﬀ-the-shelf” supervised learning algorithms. To tell th e SVM story, we’ll\\nneed to ﬁrst talk about margins and the idea of separating dat a with a large\\n“gap.” Next, we’ll talk about the optimal margin classiﬁer, w hich will lead\\nus into a digression on Lagrange duality. We’ll also see kern els, which give\\na way to apply SVMs eﬃciently in very high dimensional (such as inﬁnite-\\ndimensional) feature spaces, and ﬁnally, we’ll close oﬀ the story with the\\nSMO algorithm, which gives an eﬃcient implementation of SVMs .\\n2 Margins: Intuition\\nWe’ll start our story on SVMs by talking about margins. This se ction will\\ngive the intuitions about margins and about the “conﬁdence” of our predic-\\ntions; these ideas will be made formal in Section 4.\\nConsider logistic regression, where the probability p(y= 1|x;θ) is mod-\\neled byhθ(x) =g(θTx). We then predict “1” on an input xif and only if\\nhθ(x)≥0.5, or equivalently, if and only if θTx≥0. Consider a positive\\ntraining example ( y= 1). The larger θTxis, the larger also is hθ(x) =p(y=\\n1|x;θ), and thus also the higher our degree of “conﬁdence” that the label is 1.\\nThus, informally we can think of our prediction as being very conﬁdent that\\n\\n7\\nWe can also write this as\\nK(x,z) =(d∑\\ni=1xizi)(d∑\\nj=1xjzj)\\n=d∑\\ni=1d∑\\nj=1xixjzizj\\n=d∑\\ni,j=1(xixj)(zizj)\\nThus, we see that K(x,z) =⟨φ(x),φ(z)⟩is the kernel function that corre-\\nsponds to the the feature mapping φgiven (shown here for the case of d= 3)\\nby\\nφ(x) =\\nx1x1\\nx1x2\\nx1x3\\nx2x1\\nx2x2\\nx2x3\\nx3x1\\nx3x2\\nx3x3\\n.\\nRevisitingthecomputationaleﬃciencyperspectiveofkern el,notethatwhereas\\ncalculating the high-dimensional φ(x) requires O(d2) time, ﬁnding K(x,z)\\ntakes only O(d) time—linear in the dimension of the input attributes.\\nFor another related example, also consider K(·,·) deﬁned by\\nK(x,z) = (xTz+c)2\\n=d∑\\ni,j=1(xixj)(zizj)+d∑\\ni=1(√\\n2cxi)(√\\n2czi)+c2.\\n(Check this yourself.) This function Kis a kernel function that corresponds\\n\\n10\\nSuﬃcient conditions for valid kernels. More generally, the condition\\nabove turns out to be not only a necessary, but also a suﬃcient , condition\\nforKto be a valid kernel (also called a Mercer kernel). The follow ing result\\nis due to Mercer.3\\nTheorem (Mercer). LetK:Rd×Rd↦→Rbe given. Then for K\\nto be a valid (Mercer) kernel, it is necessary and suﬃcient th at for any\\n{x(1),...,x(n)}, (n <∞), the corresponding kernel matrix is symmetric pos-\\nitive semi-deﬁnite.\\nGiven a function K, apart from trying to ﬁnd a feature mapping φthat\\ncorresponds to it, this theorem therefore gives another way of testing if it is\\na valid kernel. You’ll also have a chance to play with these id eas more in\\nproblem set 2.\\nIn class, we also brieﬂy talked about a couple of other exampl es of ker-\\nnels. For instance, consider the digit recognition problem , in which given\\nan image (16x16 pixels) of a handwritten digit (0-9), we have to ﬁgure out\\nwhich digit it was. Using either a simple polynomial kernel K(x,z) = (xTz)k\\nor the Gaussian kernel, SVMs were able to obtain extremely goo d perfor-\\nmance on this problem. This was particularly surprising sin ce the input\\nattributes xwere just 256-dimensional vectors of the image pixel intens ity\\nvalues, and the system had no prior knowledge about vision, o r even about\\nwhich pixels are adjacent to which other ones. Another exampl e that we\\nbrieﬂy talked about in lecture was that if the objects xthat we are trying\\nto classify are strings (say, xis a list of amino acids, which strung together\\nform a protein), then it seems hard to construct a reasonable , “small” set of\\nfeatures for most learning algorithms, especially if diﬀer ent strings have dif-\\nferent lengths. However, consider letting φ(x) be a feature vector that counts\\nthe number of occurrences of each length- ksubstring in x. If we’re consid-\\nering strings of English letters, then there are 26ksuch strings. Hence, φ(x)\\nis a 26kdimensional vector; even for moderate values of k, this is probably\\ntoo big for us to eﬃciently work with. (e.g., 264≈460000.) However, using\\n(dynamic programming-ish) string matching algorithms, it is possible to ef-\\nﬁciently compute K(x,z) =φ(x)Tφ(z), so that we can now implicitly work\\nin this 26k-dimensional feature space, but without ever explicitly co mputing\\nfeature vectors in this space.\\n3Many texts present Mercer’s theorem in a slightly more compl icated form involving\\nL2functions, but when the input attributes take values in Rd, the version given here is\\nequivalent.\"\n",
      "}\n",
      "\u001b[32;1m\u001b[1;3m[llm/start]\u001b[0m \u001b[1m[1:chain:RetrievalQA > 3:chain:StuffDocumentsChain > 4:chain:LLMChain > 5:llm:AzureChatOpenAI] Entering LLM run with input:\n",
      "\u001b[0m{\n",
      "  \"prompts\": [\n",
      "    \"System: Use the following pieces of context to answer the user's question. \\nIf you don't know the answer, just say that you don't know, don't try to make up an answer.\\n----------------\\n9\\na feature map φsuch that the kernel Kdeﬁned above satisﬁes K(x,z) =\\nφ(x)Tφ(z)? Inthisparticularexample, theanswerisyes. Thiskernel iscalled\\ntheGaussian kernel , and corresponds to an inﬁnite dimensional feature\\nmapping φ. We will give a precise characterization about what propert ies\\na function Kneeds to satisfy so that it can be a valid kernel function that\\ncorresponds to some feature map φ.\\nNecessary conditions for valid kernels. Suppose for now that Kis\\nindeed a valid kernel corresponding to some feature mapping φ, and we will\\nﬁrst see what properties it satisﬁes. Now, consider some ﬁnit e set ofnpoints\\n(not necessarily the training set) {x(1),...,x(n)}, and let a square, n-by-n\\nmatrixKbe deﬁned so that its ( i,j)-entry is given by Kij=K(x(i),x(j)).\\nThis matrix is called the kernel matrix . Note that we’ve overloaded the\\nnotation and used Kto denote both the kernel function K(x,z) and the\\nkernel matrix K, due to their obvious close relationship.\\nNow, ifKis a valid kernel, then Kij=K(x(i),x(j)) =φ(x(i))Tφ(x(j)) =\\nφ(x(j))Tφ(x(i)) =K(x(j),x(i)) =Kji, andhence Kmustbesymmetric. More-\\nover, letting φk(x) denote the k-th coordinate of the vector φ(x), we ﬁnd that\\nfor any vector z, we have\\nzTKz=∑\\ni∑\\njziKijzj\\n=∑\\ni∑\\njziφ(x(i))Tφ(x(j))zj\\n=∑\\ni∑\\njzi∑\\nkφk(x(i))φk(x(j))zj\\n=∑\\nk∑\\ni∑\\njziφk(x(i))φk(x(j))zj\\n=∑\\nk(∑\\niziφk(x(i)))2\\n≥0.\\nThe second-to-last step uses the fact that∑\\ni,jaiaj= (∑\\niai)2forai=\\nziφk(x(i)). Sincezwas arbitrary, this shows that Kis positive semi-deﬁnite\\n(K≥0).\\nHence, we’ve shown that if Kis a valid kernel (i.e., if it corresponds to\\nsome feature mapping φ), then the corresponding kernel matrix K∈Rn×n\\nis symmetric positive semideﬁnite.\\n\\n11\\nApplication of kernel methods: We’ve seen the application of kernels\\nto linear regression. In the next part, we will introduce the support vector\\nmachines to which kernels can be directly applied. dwell too much longer on\\nithere. Infact, theideaofkernelshassigniﬁcantlybroade rapplicabilitythan\\nlinear regression and SVMs. Speciﬁcally, if you have any lear ning algorithm\\nthat you can write in terms of only inner products ⟨x,z⟩between input\\nattribute vectors, then by replacing this with K(x,z) whereKis a kernel,\\nyou can “magically” allow your algorithm to work eﬃciently i n the high\\ndimensional feature space corresponding to K. For instance, this kernel trick\\ncan be applied with the perceptron to derive a kernel percept ron algorithm.\\nMany of the algorithms that we’ll see later in this class will also be amenable\\nto this method, which has come to be known as the “kernel trick .”\\nPart VI\\nSupport Vector Machines\\nThis set of notes presents the Support Vector Machine (SVM) le arning al-\\ngorithm. SVMs are among the best (and many believe are indeed t he best)\\n“oﬀ-the-shelf” supervised learning algorithms. To tell th e SVM story, we’ll\\nneed to ﬁrst talk about margins and the idea of separating dat a with a large\\n“gap.” Next, we’ll talk about the optimal margin classiﬁer, w hich will lead\\nus into a digression on Lagrange duality. We’ll also see kern els, which give\\na way to apply SVMs eﬃciently in very high dimensional (such as inﬁnite-\\ndimensional) feature spaces, and ﬁnally, we’ll close oﬀ the story with the\\nSMO algorithm, which gives an eﬃcient implementation of SVMs .\\n2 Margins: Intuition\\nWe’ll start our story on SVMs by talking about margins. This se ction will\\ngive the intuitions about margins and about the “conﬁdence” of our predic-\\ntions; these ideas will be made formal in Section 4.\\nConsider logistic regression, where the probability p(y= 1|x;θ) is mod-\\neled byhθ(x) =g(θTx). We then predict “1” on an input xif and only if\\nhθ(x)≥0.5, or equivalently, if and only if θTx≥0. Consider a positive\\ntraining example ( y= 1). The larger θTxis, the larger also is hθ(x) =p(y=\\n1|x;θ), and thus also the higher our degree of “conﬁdence” that the label is 1.\\nThus, informally we can think of our prediction as being very conﬁdent that\\n\\n7\\nWe can also write this as\\nK(x,z) =(d∑\\ni=1xizi)(d∑\\nj=1xjzj)\\n=d∑\\ni=1d∑\\nj=1xixjzizj\\n=d∑\\ni,j=1(xixj)(zizj)\\nThus, we see that K(x,z) =⟨φ(x),φ(z)⟩is the kernel function that corre-\\nsponds to the the feature mapping φgiven (shown here for the case of d= 3)\\nby\\nφ(x) =\\nx1x1\\nx1x2\\nx1x3\\nx2x1\\nx2x2\\nx2x3\\nx3x1\\nx3x2\\nx3x3\\n.\\nRevisitingthecomputationaleﬃciencyperspectiveofkern el,notethatwhereas\\ncalculating the high-dimensional φ(x) requires O(d2) time, ﬁnding K(x,z)\\ntakes only O(d) time—linear in the dimension of the input attributes.\\nFor another related example, also consider K(·,·) deﬁned by\\nK(x,z) = (xTz+c)2\\n=d∑\\ni,j=1(xixj)(zizj)+d∑\\ni=1(√\\n2cxi)(√\\n2czi)+c2.\\n(Check this yourself.) This function Kis a kernel function that corresponds\\n\\n10\\nSuﬃcient conditions for valid kernels. More generally, the condition\\nabove turns out to be not only a necessary, but also a suﬃcient , condition\\nforKto be a valid kernel (also called a Mercer kernel). The follow ing result\\nis due to Mercer.3\\nTheorem (Mercer). LetK:Rd×Rd↦→Rbe given. Then for K\\nto be a valid (Mercer) kernel, it is necessary and suﬃcient th at for any\\n{x(1),...,x(n)}, (n <∞), the corresponding kernel matrix is symmetric pos-\\nitive semi-deﬁnite.\\nGiven a function K, apart from trying to ﬁnd a feature mapping φthat\\ncorresponds to it, this theorem therefore gives another way of testing if it is\\na valid kernel. You’ll also have a chance to play with these id eas more in\\nproblem set 2.\\nIn class, we also brieﬂy talked about a couple of other exampl es of ker-\\nnels. For instance, consider the digit recognition problem , in which given\\nan image (16x16 pixels) of a handwritten digit (0-9), we have to ﬁgure out\\nwhich digit it was. Using either a simple polynomial kernel K(x,z) = (xTz)k\\nor the Gaussian kernel, SVMs were able to obtain extremely goo d perfor-\\nmance on this problem. This was particularly surprising sin ce the input\\nattributes xwere just 256-dimensional vectors of the image pixel intens ity\\nvalues, and the system had no prior knowledge about vision, o r even about\\nwhich pixels are adjacent to which other ones. Another exampl e that we\\nbrieﬂy talked about in lecture was that if the objects xthat we are trying\\nto classify are strings (say, xis a list of amino acids, which strung together\\nform a protein), then it seems hard to construct a reasonable , “small” set of\\nfeatures for most learning algorithms, especially if diﬀer ent strings have dif-\\nferent lengths. However, consider letting φ(x) be a feature vector that counts\\nthe number of occurrences of each length- ksubstring in x. If we’re consid-\\nering strings of English letters, then there are 26ksuch strings. Hence, φ(x)\\nis a 26kdimensional vector; even for moderate values of k, this is probably\\ntoo big for us to eﬃciently work with. (e.g., 264≈460000.) However, using\\n(dynamic programming-ish) string matching algorithms, it is possible to ef-\\nﬁciently compute K(x,z) =φ(x)Tφ(z), so that we can now implicitly work\\nin this 26k-dimensional feature space, but without ever explicitly co mputing\\nfeature vectors in this space.\\n3Many texts present Mercer’s theorem in a slightly more compl icated form involving\\nL2functions, but when the input attributes take values in Rd, the version given here is\\nequivalent.\\nHuman: What is Gaussian kernel?\"\n",
      "  ]\n",
      "}\n",
      "\u001b[36;1m\u001b[1;3m[llm/end]\u001b[0m \u001b[1m[1:chain:RetrievalQA > 3:chain:StuffDocumentsChain > 4:chain:LLMChain > 5:llm:AzureChatOpenAI] [1.05s] Exiting LLM run with output:\n",
      "\u001b[0m{\n",
      "  \"generations\": [\n",
      "    [\n",
      "      {\n",
      "        \"text\": \"The Gaussian kernel is a kernel function that corresponds to an infinite dimensional feature mapping. It is defined as K(x,z) = exp(-||x-z||^2/2σ^2), where σ is a parameter that controls the width of the kernel. The Gaussian kernel is symmetric and positive definite, which makes it a valid kernel function. It is commonly used in support vector machines (SVMs) for classification and regression tasks.\",\n",
      "        \"generation_info\": {\n",
      "          \"finish_reason\": \"stop\"\n",
      "        },\n",
      "        \"type\": \"ChatGeneration\",\n",
      "        \"message\": {\n",
      "          \"lc\": 1,\n",
      "          \"type\": \"constructor\",\n",
      "          \"id\": [\n",
      "            \"langchain\",\n",
      "            \"schema\",\n",
      "            \"messages\",\n",
      "            \"AIMessage\"\n",
      "          ],\n",
      "          \"kwargs\": {\n",
      "            \"content\": \"The Gaussian kernel is a kernel function that corresponds to an infinite dimensional feature mapping. It is defined as K(x,z) = exp(-||x-z||^2/2σ^2), where σ is a parameter that controls the width of the kernel. The Gaussian kernel is symmetric and positive definite, which makes it a valid kernel function. It is commonly used in support vector machines (SVMs) for classification and regression tasks.\",\n",
      "            \"additional_kwargs\": {}\n",
      "          }\n",
      "        }\n",
      "      }\n",
      "    ]\n",
      "  ],\n",
      "  \"llm_output\": {\n",
      "    \"token_usage\": {\n",
      "      \"prompt_tokens\": 2315,\n",
      "      \"completion_tokens\": 88,\n",
      "      \"total_tokens\": 2403\n",
      "    },\n",
      "    \"model_name\": \"gpt-35-turbo\",\n",
      "    \"system_fingerprint\": \"\"\n",
      "  },\n",
      "  \"run\": null\n",
      "}\n",
      "\u001b[36;1m\u001b[1;3m[chain/end]\u001b[0m \u001b[1m[1:chain:RetrievalQA > 3:chain:StuffDocumentsChain > 4:chain:LLMChain] [1.05s] Exiting Chain run with output:\n",
      "\u001b[0m{\n",
      "  \"text\": \"The Gaussian kernel is a kernel function that corresponds to an infinite dimensional feature mapping. It is defined as K(x,z) = exp(-||x-z||^2/2σ^2), where σ is a parameter that controls the width of the kernel. The Gaussian kernel is symmetric and positive definite, which makes it a valid kernel function. It is commonly used in support vector machines (SVMs) for classification and regression tasks.\"\n",
      "}\n",
      "\u001b[36;1m\u001b[1;3m[chain/end]\u001b[0m \u001b[1m[1:chain:RetrievalQA > 3:chain:StuffDocumentsChain] [1.05s] Exiting Chain run with output:\n",
      "\u001b[0m{\n",
      "  \"output_text\": \"The Gaussian kernel is a kernel function that corresponds to an infinite dimensional feature mapping. It is defined as K(x,z) = exp(-||x-z||^2/2σ^2), where σ is a parameter that controls the width of the kernel. The Gaussian kernel is symmetric and positive definite, which makes it a valid kernel function. It is commonly used in support vector machines (SVMs) for classification and regression tasks.\"\n",
      "}\n",
      "\u001b[36;1m\u001b[1;3m[chain/end]\u001b[0m \u001b[1m[1:chain:RetrievalQA] [1.14s] Exiting Chain run with output:\n",
      "\u001b[0m{\n",
      "  \"result\": \"The Gaussian kernel is a kernel function that corresponds to an infinite dimensional feature mapping. It is defined as K(x,z) = exp(-||x-z||^2/2σ^2), where σ is a parameter that controls the width of the kernel. The Gaussian kernel is symmetric and positive definite, which makes it a valid kernel function. It is commonly used in support vector machines (SVMs) for classification and regression tasks.\"\n",
      "}\n"
     ]
    }
   ],
   "source": [
    "with debug_langchain():\n",
    "    question = \"What is Gaussian kernel?\"\n",
    "    # qa_chain({\"query\": question})\n",
    "    qa_chain.run(question)"
   ],
   "metadata": {
    "collapsed": false,
    "ExecuteTime": {
     "end_time": "2024-01-25T14:14:51.916837Z",
     "start_time": "2024-01-25T14:14:50.772287Z"
    }
   },
   "id": "cba7fd7b4604b87d"
  },
  {
   "cell_type": "code",
   "execution_count": 22,
   "outputs": [
    {
     "name": "stdout",
     "output_type": "stream",
     "text": [
      "\u001b[32;1m\u001b[1;3m[chain/start]\u001b[0m \u001b[1m[1:chain:RetrievalQA] Entering Chain run with input:\n",
      "\u001b[0m{\n",
      "  \"query\": \"Who is Grandpa Panas?\"\n",
      "}\n",
      "\u001b[32;1m\u001b[1;3m[chain/start]\u001b[0m \u001b[1m[1:chain:RetrievalQA > 3:chain:StuffDocumentsChain] Entering Chain run with input:\n",
      "\u001b[0m[inputs]\n",
      "\u001b[32;1m\u001b[1;3m[chain/start]\u001b[0m \u001b[1m[1:chain:RetrievalQA > 3:chain:StuffDocumentsChain > 4:chain:LLMChain] Entering Chain run with input:\n",
      "\u001b[0m{\n",
      "  \"question\": \"Who is Grandpa Panas?\",\n",
      "  \"context\": \"Petro Yukhymovych Vesklyarov (Ukrainian: Вескляров Петро Юхимович) (June 10 [O.S. May 28] 1911 in Talne, Ukraine – January 5, 1994 in Kyiv) was a Ukrainian theater and television actor. He was also known by the nickname Did Panas (Grandpa Panas, Ukrainian: дід Панас).\\nBetween 1932 and 1940, Vesklyarov was an actor in a travelling workers' theatre, and between 1946 and 1959 he performed at the Taras Shevchenko Musical-Drama Theatre in Lutsk, Volyn. Between 1959 and 1982 Veslklyarov worked in the Dovzhenko Film Studios, appearing in a number of films. He starred in the 1959 drama film Ivanna and appeared in the 1970 comedy film Two Days of Miracles. During this time (1964-1986) he appeared as the character \\\"Дід Панас\\\" (Grandpa Panas) in the Ukrainian television series \\\"На добраніч, діти\\\"  (Goodnight, children).In 1973, he was awarded the title Meritorious Artist of the Ukrainian SSR.\\n\\n\\n== Commemoration ==\\nHe was buried in the columbarium of the Baikove cemetery. The widow left for the United States, before handing over the films with the recordings of \\\"Grandpa Panas\\\" to the Kapranov brothers.In 2019, a memorial plaque was installed on the premises of the Talne school, where the house where Petro Veskliarov was born stood. In 2022, in Talne, Cherkasy region, Krylov Street became Veskliarov Street.\\n\\n\\n== References ==\\n\\n\\n== External links ==\\nPetro Vesklyarov at IMDb\\n\\n.\\n1941 — призваний у військовий театр Південно-Західного фронту, потрапив у полон, але втік. Згодом потрапив до окупованого гітлерівцями Києва, влаштувався на роботу на залізниці, де організував драматичний гурток. 1946 року був скерований до Луцька — у Волинський український музично-драматичний театр імені Тараса Шевченка, де працював до 1959-го.\\nУ Луцьку одружився із секретаркою театру Галиною, де народився його син Богдан.1959—1982 — на Київській кіностудії художніх фільмів імені Олександра Довженка.\\nЗ 1962 р. у ролі діда Панаса розповідав на Українському радіо «вечірню казку» для дітей (перед тим Вескляров працював у цій ролі на підміні іншого актора, якого згодом замінив цілком).1964—1986 — у ролі діда Панаса вів на Українському телебаченні програму «На добраніч, діти».\\n\\n\\n== Вшанування пам'яті ==\\nПохований у колумбарії Байкового кладовища. Вдова виїхала до США, перед тим передавши кіноплівки із записами «діда Панаса» братам Капрановим.\\n\\n2019 року на приміщенні тальнівської школи, на місці якої стояв будинок, де народився Петро Вескляров, встановлено пам'ятну дошку.\\nУ 2022 році у Тальному на Черкащині вулиця Крилова стала вулицею Весклярова.\\n\\n\\n== Ролі в театрі ==\\nМикола Задорожний («Украдене щастя» Івана Франка).\\nКомандор («Камінний господар» Лесі Українки)\\n\\n. Згодом Вескляров переїздить до столиці, де активно знімається у багатьох фільмах. Серед них: «Олекса Довбуш», «Гадюка», «Циган», «Іванна», «Вій», «Забудьте слово смерть» тощо. Відзнявся у приблизно 50 фільмах. Проте найбільше запам'ятався малечі та старшому глядачеві як казкар Дідусь Панас. Українська вишиванка Весклярова часом дратувала керівництво телебачення, його подекуди звинувачували в націоналізмі, а в 1970-х рр. кілька разів навіть намагалися замінити. Але від цієї ідеї довелося відмовитися під тиском обурених телеглядачів, які засипали студію Довженка та дирекцію УТ листами з проханнями повернути дідуся Панаса на екран і він повертався. Відданий українець, який ніколи не зраджував своєї мови та вишиванки, неодноразово звинувачувався у націоналізмі.\\nПетро Юхимович помер 5 січня 1994 році, прах похований у колумбарії Байкового цвинтаря міста Києва.\\n\\n\\n== Хронологія ==\\n1932—1940 — актор Черкаського робітничо-селянського театру, начальник та художній керівник клубу на станції Гребінка.\\n1941 — призваний у військовий театр Південно-Західного фронту, потрапив у полон, але втік. Згодом потрапив до окупованого гітлерівцями Києва, влаштувався на роботу на залізниці, де організував драматичний гурток\\n\\nПетро́ Юхи́мович Вескляро́в, ім'я при народженні Пінхас Хаїмович Весклер (9 червня 1911(19110609), Тальне, Уманський повіт, Київська губернія, Російська імперія — 5 січня 1994, Київ) — український актор і телеведучий. Заслужений артист Української РСР (1973). Більш відомий під творчим псевдонімом «Дід Панас».\\n\\n\\n== Життєпис ==\\nНародився 9 червня 1911 року в райцентрі Тальне, що на Черкащині. \\nПрізвище Петра Юхимовича зазнало змін під час війни з нацизмом: від єврейського Векслер до Вескляров. Це сталося під час перебування в нацистському фільтраційному таборі, щоб приховати єврейське походження.\\nПрацював на київській залізниці, де організував театральний гурток, згодом його відправляють до Луцька, у Волинський обласний музично-драматичний театр ім. Тараса Шевченка, де він працював до 1959 року. Там зіграв чимало ролей: Миколу Задорожнього з  «Украденого щастя», Командора з «Камінного господаря», Монтанеллі з «Овода» тощо. Талановитого, фактурного, харизматичного актора помітили кінорежисери та почали запрошувати на зйомки у фільмах. Згодом Вескляров переїздить до столиці, де активно знімається у багатьох фільмах. Серед них: «Олекса Довбуш», «Гадюка», «Циган», «Іванна», «Вій», «Забудьте слово смерть» тощо\"\n",
      "}\n",
      "\u001b[32;1m\u001b[1;3m[llm/start]\u001b[0m \u001b[1m[1:chain:RetrievalQA > 3:chain:StuffDocumentsChain > 4:chain:LLMChain > 5:llm:AzureChatOpenAI] Entering LLM run with input:\n",
      "\u001b[0m{\n",
      "  \"prompts\": [\n",
      "    \"System: Use the following pieces of context to answer the user's question. \\nIf you don't know the answer, just say that you don't know, don't try to make up an answer.\\n----------------\\nPetro Yukhymovych Vesklyarov (Ukrainian: Вескляров Петро Юхимович) (June 10 [O.S. May 28] 1911 in Talne, Ukraine – January 5, 1994 in Kyiv) was a Ukrainian theater and television actor. He was also known by the nickname Did Panas (Grandpa Panas, Ukrainian: дід Панас).\\nBetween 1932 and 1940, Vesklyarov was an actor in a travelling workers' theatre, and between 1946 and 1959 he performed at the Taras Shevchenko Musical-Drama Theatre in Lutsk, Volyn. Between 1959 and 1982 Veslklyarov worked in the Dovzhenko Film Studios, appearing in a number of films. He starred in the 1959 drama film Ivanna and appeared in the 1970 comedy film Two Days of Miracles. During this time (1964-1986) he appeared as the character \\\"Дід Панас\\\" (Grandpa Panas) in the Ukrainian television series \\\"На добраніч, діти\\\"  (Goodnight, children).In 1973, he was awarded the title Meritorious Artist of the Ukrainian SSR.\\n\\n\\n== Commemoration ==\\nHe was buried in the columbarium of the Baikove cemetery. The widow left for the United States, before handing over the films with the recordings of \\\"Grandpa Panas\\\" to the Kapranov brothers.In 2019, a memorial plaque was installed on the premises of the Talne school, where the house where Petro Veskliarov was born stood. In 2022, in Talne, Cherkasy region, Krylov Street became Veskliarov Street.\\n\\n\\n== References ==\\n\\n\\n== External links ==\\nPetro Vesklyarov at IMDb\\n\\n.\\n1941 — призваний у військовий театр Південно-Західного фронту, потрапив у полон, але втік. Згодом потрапив до окупованого гітлерівцями Києва, влаштувався на роботу на залізниці, де організував драматичний гурток. 1946 року був скерований до Луцька — у Волинський український музично-драматичний театр імені Тараса Шевченка, де працював до 1959-го.\\nУ Луцьку одружився із секретаркою театру Галиною, де народився його син Богдан.1959—1982 — на Київській кіностудії художніх фільмів імені Олександра Довженка.\\nЗ 1962 р. у ролі діда Панаса розповідав на Українському радіо «вечірню казку» для дітей (перед тим Вескляров працював у цій ролі на підміні іншого актора, якого згодом замінив цілком).1964—1986 — у ролі діда Панаса вів на Українському телебаченні програму «На добраніч, діти».\\n\\n\\n== Вшанування пам'яті ==\\nПохований у колумбарії Байкового кладовища. Вдова виїхала до США, перед тим передавши кіноплівки із записами «діда Панаса» братам Капрановим.\\n\\n2019 року на приміщенні тальнівської школи, на місці якої стояв будинок, де народився Петро Вескляров, встановлено пам'ятну дошку.\\nУ 2022 році у Тальному на Черкащині вулиця Крилова стала вулицею Весклярова.\\n\\n\\n== Ролі в театрі ==\\nМикола Задорожний («Украдене щастя» Івана Франка).\\nКомандор («Камінний господар» Лесі Українки)\\n\\n. Згодом Вескляров переїздить до столиці, де активно знімається у багатьох фільмах. Серед них: «Олекса Довбуш», «Гадюка», «Циган», «Іванна», «Вій», «Забудьте слово смерть» тощо. Відзнявся у приблизно 50 фільмах. Проте найбільше запам'ятався малечі та старшому глядачеві як казкар Дідусь Панас. Українська вишиванка Весклярова часом дратувала керівництво телебачення, його подекуди звинувачували в націоналізмі, а в 1970-х рр. кілька разів навіть намагалися замінити. Але від цієї ідеї довелося відмовитися під тиском обурених телеглядачів, які засипали студію Довженка та дирекцію УТ листами з проханнями повернути дідуся Панаса на екран і він повертався. Відданий українець, який ніколи не зраджував своєї мови та вишиванки, неодноразово звинувачувався у націоналізмі.\\nПетро Юхимович помер 5 січня 1994 році, прах похований у колумбарії Байкового цвинтаря міста Києва.\\n\\n\\n== Хронологія ==\\n1932—1940 — актор Черкаського робітничо-селянського театру, начальник та художній керівник клубу на станції Гребінка.\\n1941 — призваний у військовий театр Південно-Західного фронту, потрапив у полон, але втік. Згодом потрапив до окупованого гітлерівцями Києва, влаштувався на роботу на залізниці, де організував драматичний гурток\\n\\nПетро́ Юхи́мович Вескляро́в, ім'я при народженні Пінхас Хаїмович Весклер (9 червня 1911(19110609), Тальне, Уманський повіт, Київська губернія, Російська імперія — 5 січня 1994, Київ) — український актор і телеведучий. Заслужений артист Української РСР (1973). Більш відомий під творчим псевдонімом «Дід Панас».\\n\\n\\n== Життєпис ==\\nНародився 9 червня 1911 року в райцентрі Тальне, що на Черкащині. \\nПрізвище Петра Юхимовича зазнало змін під час війни з нацизмом: від єврейського Векслер до Вескляров. Це сталося під час перебування в нацистському фільтраційному таборі, щоб приховати єврейське походження.\\nПрацював на київській залізниці, де організував театральний гурток, згодом його відправляють до Луцька, у Волинський обласний музично-драматичний театр ім. Тараса Шевченка, де він працював до 1959 року. Там зіграв чимало ролей: Миколу Задорожнього з  «Украденого щастя», Командора з «Камінного господаря», Монтанеллі з «Овода» тощо. Талановитого, фактурного, харизматичного актора помітили кінорежисери та почали запрошувати на зйомки у фільмах. Згодом Вескляров переїздить до столиці, де активно знімається у багатьох фільмах. Серед них: «Олекса Довбуш», «Гадюка», «Циган», «Іванна», «Вій», «Забудьте слово смерть» тощо\\nHuman: Who is Grandpa Panas?\"\n",
      "  ]\n",
      "}\n",
      "\u001b[36;1m\u001b[1;3m[llm/end]\u001b[0m \u001b[1m[1:chain:RetrievalQA > 3:chain:StuffDocumentsChain > 4:chain:LLMChain > 5:llm:AzureChatOpenAI] [1.44s] Exiting LLM run with output:\n",
      "\u001b[0m{\n",
      "  \"generations\": [\n",
      "    [\n",
      "      {\n",
      "        \"text\": \"Grandpa Panas is a character played by Ukrainian actor Petro Yukhymovych Vesklyarov in the Ukrainian television series \\\"На добраніч, діти\\\" (Goodnight, children) from 1964 to 1986. He was a beloved storyteller who told bedtime stories to children on the show. Vesklyarov was also known by the nickname Did Panas (Grandpa Panas).\",\n",
      "        \"generation_info\": {\n",
      "          \"finish_reason\": \"stop\"\n",
      "        },\n",
      "        \"type\": \"ChatGeneration\",\n",
      "        \"message\": {\n",
      "          \"lc\": 1,\n",
      "          \"type\": \"constructor\",\n",
      "          \"id\": [\n",
      "            \"langchain\",\n",
      "            \"schema\",\n",
      "            \"messages\",\n",
      "            \"AIMessage\"\n",
      "          ],\n",
      "          \"kwargs\": {\n",
      "            \"content\": \"Grandpa Panas is a character played by Ukrainian actor Petro Yukhymovych Vesklyarov in the Ukrainian television series \\\"На добраніч, діти\\\" (Goodnight, children) from 1964 to 1986. He was a beloved storyteller who told bedtime stories to children on the show. Vesklyarov was also known by the nickname Did Panas (Grandpa Panas).\",\n",
      "            \"additional_kwargs\": {}\n",
      "          }\n",
      "        }\n",
      "      }\n",
      "    ]\n",
      "  ],\n",
      "  \"llm_output\": {\n",
      "    \"token_usage\": {\n",
      "      \"prompt_tokens\": 2707,\n",
      "      \"completion_tokens\": 88,\n",
      "      \"total_tokens\": 2795\n",
      "    },\n",
      "    \"model_name\": \"gpt-35-turbo\",\n",
      "    \"system_fingerprint\": \"\"\n",
      "  },\n",
      "  \"run\": null\n",
      "}\n",
      "\u001b[36;1m\u001b[1;3m[chain/end]\u001b[0m \u001b[1m[1:chain:RetrievalQA > 3:chain:StuffDocumentsChain > 4:chain:LLMChain] [1.44s] Exiting Chain run with output:\n",
      "\u001b[0m{\n",
      "  \"text\": \"Grandpa Panas is a character played by Ukrainian actor Petro Yukhymovych Vesklyarov in the Ukrainian television series \\\"На добраніч, діти\\\" (Goodnight, children) from 1964 to 1986. He was a beloved storyteller who told bedtime stories to children on the show. Vesklyarov was also known by the nickname Did Panas (Grandpa Panas).\"\n",
      "}\n",
      "\u001b[36;1m\u001b[1;3m[chain/end]\u001b[0m \u001b[1m[1:chain:RetrievalQA > 3:chain:StuffDocumentsChain] [1.44s] Exiting Chain run with output:\n",
      "\u001b[0m{\n",
      "  \"output_text\": \"Grandpa Panas is a character played by Ukrainian actor Petro Yukhymovych Vesklyarov in the Ukrainian television series \\\"На добраніч, діти\\\" (Goodnight, children) from 1964 to 1986. He was a beloved storyteller who told bedtime stories to children on the show. Vesklyarov was also known by the nickname Did Panas (Grandpa Panas).\"\n",
      "}\n",
      "\u001b[36;1m\u001b[1;3m[chain/end]\u001b[0m \u001b[1m[1:chain:RetrievalQA] [1.54s] Exiting Chain run with output:\n",
      "\u001b[0m{\n",
      "  \"result\": \"Grandpa Panas is a character played by Ukrainian actor Petro Yukhymovych Vesklyarov in the Ukrainian television series \\\"На добраніч, діти\\\" (Goodnight, children) from 1964 to 1986. He was a beloved storyteller who told bedtime stories to children on the show. Vesklyarov was also known by the nickname Did Panas (Grandpa Panas).\"\n",
      "}\n"
     ]
    }
   ],
   "source": [
    "with debug_langchain():\n",
    "    question = \"Who is Grandpa Panas?\"\n",
    "    # qa_chain({\"query\": question})\n",
    "    qa_chain.run(question)"
   ],
   "metadata": {
    "collapsed": false,
    "ExecuteTime": {
     "end_time": "2024-01-25T14:14:53.459272Z",
     "start_time": "2024-01-25T14:14:51.916989Z"
    }
   },
   "id": "b3c777f91c31fff9"
  },
  {
   "cell_type": "code",
   "execution_count": 23,
   "outputs": [
    {
     "name": "stdout",
     "output_type": "stream",
     "text": [
      "\u001b[32;1m\u001b[1;3m[chain/start]\u001b[0m \u001b[1m[1:chain:RetrievalQA] Entering Chain run with input:\n",
      "\u001b[0m{\n",
      "  \"query\": \"Хто такий дід Панас?\"\n",
      "}\n",
      "\u001b[32;1m\u001b[1;3m[chain/start]\u001b[0m \u001b[1m[1:chain:RetrievalQA > 3:chain:StuffDocumentsChain] Entering Chain run with input:\n",
      "\u001b[0m[inputs]\n",
      "\u001b[32;1m\u001b[1;3m[chain/start]\u001b[0m \u001b[1m[1:chain:RetrievalQA > 3:chain:StuffDocumentsChain > 4:chain:LLMChain] Entering Chain run with input:\n",
      "\u001b[0m{\n",
      "  \"question\": \"Хто такий дід Панас?\",\n",
      "  \"context\": \".\\n1941 — призваний у військовий театр Південно-Західного фронту, потрапив у полон, але втік. Згодом потрапив до окупованого гітлерівцями Києва, влаштувався на роботу на залізниці, де організував драматичний гурток. 1946 року був скерований до Луцька — у Волинський український музично-драматичний театр імені Тараса Шевченка, де працював до 1959-го.\\nУ Луцьку одружився із секретаркою театру Галиною, де народився його син Богдан.1959—1982 — на Київській кіностудії художніх фільмів імені Олександра Довженка.\\nЗ 1962 р. у ролі діда Панаса розповідав на Українському радіо «вечірню казку» для дітей (перед тим Вескляров працював у цій ролі на підміні іншого актора, якого згодом замінив цілком).1964—1986 — у ролі діда Панаса вів на Українському телебаченні програму «На добраніч, діти».\\n\\n\\n== Вшанування пам'яті ==\\nПохований у колумбарії Байкового кладовища. Вдова виїхала до США, перед тим передавши кіноплівки із записами «діда Панаса» братам Капрановим.\\n\\n2019 року на приміщенні тальнівської школи, на місці якої стояв будинок, де народився Петро Вескляров, встановлено пам'ятну дошку.\\nУ 2022 році у Тальному на Черкащині вулиця Крилова стала вулицею Весклярова.\\n\\n\\n== Ролі в театрі ==\\nМикола Задорожний («Украдене щастя» Івана Франка).\\nКомандор («Камінний господар» Лесі Українки)\\n\\nПетро́ Юхи́мович Вескляро́в, ім'я при народженні Пінхас Хаїмович Весклер (9 червня 1911(19110609), Тальне, Уманський повіт, Київська губернія, Російська імперія — 5 січня 1994, Київ) — український актор і телеведучий. Заслужений артист Української РСР (1973). Більш відомий під творчим псевдонімом «Дід Панас».\\n\\n\\n== Життєпис ==\\nНародився 9 червня 1911 року в райцентрі Тальне, що на Черкащині. \\nПрізвище Петра Юхимовича зазнало змін під час війни з нацизмом: від єврейського Векслер до Вескляров. Це сталося під час перебування в нацистському фільтраційному таборі, щоб приховати єврейське походження.\\nПрацював на київській залізниці, де організував театральний гурток, згодом його відправляють до Луцька, у Волинський обласний музично-драматичний театр ім. Тараса Шевченка, де він працював до 1959 року. Там зіграв чимало ролей: Миколу Задорожнього з  «Украденого щастя», Командора з «Камінного господаря», Монтанеллі з «Овода» тощо. Талановитого, фактурного, харизматичного актора помітили кінорежисери та почали запрошувати на зйомки у фільмах. Згодом Вескляров переїздить до столиці, де активно знімається у багатьох фільмах. Серед них: «Олекса Довбуш», «Гадюка», «Циган», «Іванна», «Вій», «Забудьте слово смерть» тощо\\n\\n. Згодом Вескляров переїздить до столиці, де активно знімається у багатьох фільмах. Серед них: «Олекса Довбуш», «Гадюка», «Циган», «Іванна», «Вій», «Забудьте слово смерть» тощо. Відзнявся у приблизно 50 фільмах. Проте найбільше запам'ятався малечі та старшому глядачеві як казкар Дідусь Панас. Українська вишиванка Весклярова часом дратувала керівництво телебачення, його подекуди звинувачували в націоналізмі, а в 1970-х рр. кілька разів навіть намагалися замінити. Але від цієї ідеї довелося відмовитися під тиском обурених телеглядачів, які засипали студію Довженка та дирекцію УТ листами з проханнями повернути дідуся Панаса на екран і він повертався. Відданий українець, який ніколи не зраджував своєї мови та вишиванки, неодноразово звинувачувався у націоналізмі.\\nПетро Юхимович помер 5 січня 1994 році, прах похований у колумбарії Байкового цвинтаря міста Києва.\\n\\n\\n== Хронологія ==\\n1932—1940 — актор Черкаського робітничо-селянського театру, начальник та художній керівник клубу на станції Гребінка.\\n1941 — призваний у військовий театр Південно-Західного фронту, потрапив у полон, але втік. Згодом потрапив до окупованого гітлерівцями Києва, влаштувався на роботу на залізниці, де організував драматичний гурток\\n\\nPetro Yukhymovych Vesklyarov (Ukrainian: Вескляров Петро Юхимович) (June 10 [O.S. May 28] 1911 in Talne, Ukraine – January 5, 1994 in Kyiv) was a Ukrainian theater and television actor. He was also known by the nickname Did Panas (Grandpa Panas, Ukrainian: дід Панас).\\nBetween 1932 and 1940, Vesklyarov was an actor in a travelling workers' theatre, and between 1946 and 1959 he performed at the Taras Shevchenko Musical-Drama Theatre in Lutsk, Volyn. Between 1959 and 1982 Veslklyarov worked in the Dovzhenko Film Studios, appearing in a number of films. He starred in the 1959 drama film Ivanna and appeared in the 1970 comedy film Two Days of Miracles. During this time (1964-1986) he appeared as the character \\\"Дід Панас\\\" (Grandpa Panas) in the Ukrainian television series \\\"На добраніч, діти\\\"  (Goodnight, children).In 1973, he was awarded the title Meritorious Artist of the Ukrainian SSR.\\n\\n\\n== Commemoration ==\\nHe was buried in the columbarium of the Baikove cemetery. The widow left for the United States, before handing over the films with the recordings of \\\"Grandpa Panas\\\" to the Kapranov brothers.In 2019, a memorial plaque was installed on the premises of the Talne school, where the house where Petro Veskliarov was born stood. In 2022, in Talne, Cherkasy region, Krylov Street became Veskliarov Street.\\n\\n\\n== References ==\\n\\n\\n== External links ==\\nPetro Vesklyarov at IMDb\"\n",
      "}\n",
      "\u001b[32;1m\u001b[1;3m[llm/start]\u001b[0m \u001b[1m[1:chain:RetrievalQA > 3:chain:StuffDocumentsChain > 4:chain:LLMChain > 5:llm:AzureChatOpenAI] Entering LLM run with input:\n",
      "\u001b[0m{\n",
      "  \"prompts\": [\n",
      "    \"System: Use the following pieces of context to answer the user's question. \\nIf you don't know the answer, just say that you don't know, don't try to make up an answer.\\n----------------\\n.\\n1941 — призваний у військовий театр Південно-Західного фронту, потрапив у полон, але втік. Згодом потрапив до окупованого гітлерівцями Києва, влаштувався на роботу на залізниці, де організував драматичний гурток. 1946 року був скерований до Луцька — у Волинський український музично-драматичний театр імені Тараса Шевченка, де працював до 1959-го.\\nУ Луцьку одружився із секретаркою театру Галиною, де народився його син Богдан.1959—1982 — на Київській кіностудії художніх фільмів імені Олександра Довженка.\\nЗ 1962 р. у ролі діда Панаса розповідав на Українському радіо «вечірню казку» для дітей (перед тим Вескляров працював у цій ролі на підміні іншого актора, якого згодом замінив цілком).1964—1986 — у ролі діда Панаса вів на Українському телебаченні програму «На добраніч, діти».\\n\\n\\n== Вшанування пам'яті ==\\nПохований у колумбарії Байкового кладовища. Вдова виїхала до США, перед тим передавши кіноплівки із записами «діда Панаса» братам Капрановим.\\n\\n2019 року на приміщенні тальнівської школи, на місці якої стояв будинок, де народився Петро Вескляров, встановлено пам'ятну дошку.\\nУ 2022 році у Тальному на Черкащині вулиця Крилова стала вулицею Весклярова.\\n\\n\\n== Ролі в театрі ==\\nМикола Задорожний («Украдене щастя» Івана Франка).\\nКомандор («Камінний господар» Лесі Українки)\\n\\nПетро́ Юхи́мович Вескляро́в, ім'я при народженні Пінхас Хаїмович Весклер (9 червня 1911(19110609), Тальне, Уманський повіт, Київська губернія, Російська імперія — 5 січня 1994, Київ) — український актор і телеведучий. Заслужений артист Української РСР (1973). Більш відомий під творчим псевдонімом «Дід Панас».\\n\\n\\n== Життєпис ==\\nНародився 9 червня 1911 року в райцентрі Тальне, що на Черкащині. \\nПрізвище Петра Юхимовича зазнало змін під час війни з нацизмом: від єврейського Векслер до Вескляров. Це сталося під час перебування в нацистському фільтраційному таборі, щоб приховати єврейське походження.\\nПрацював на київській залізниці, де організував театральний гурток, згодом його відправляють до Луцька, у Волинський обласний музично-драматичний театр ім. Тараса Шевченка, де він працював до 1959 року. Там зіграв чимало ролей: Миколу Задорожнього з  «Украденого щастя», Командора з «Камінного господаря», Монтанеллі з «Овода» тощо. Талановитого, фактурного, харизматичного актора помітили кінорежисери та почали запрошувати на зйомки у фільмах. Згодом Вескляров переїздить до столиці, де активно знімається у багатьох фільмах. Серед них: «Олекса Довбуш», «Гадюка», «Циган», «Іванна», «Вій», «Забудьте слово смерть» тощо\\n\\n. Згодом Вескляров переїздить до столиці, де активно знімається у багатьох фільмах. Серед них: «Олекса Довбуш», «Гадюка», «Циган», «Іванна», «Вій», «Забудьте слово смерть» тощо. Відзнявся у приблизно 50 фільмах. Проте найбільше запам'ятався малечі та старшому глядачеві як казкар Дідусь Панас. Українська вишиванка Весклярова часом дратувала керівництво телебачення, його подекуди звинувачували в націоналізмі, а в 1970-х рр. кілька разів навіть намагалися замінити. Але від цієї ідеї довелося відмовитися під тиском обурених телеглядачів, які засипали студію Довженка та дирекцію УТ листами з проханнями повернути дідуся Панаса на екран і він повертався. Відданий українець, який ніколи не зраджував своєї мови та вишиванки, неодноразово звинувачувався у націоналізмі.\\nПетро Юхимович помер 5 січня 1994 році, прах похований у колумбарії Байкового цвинтаря міста Києва.\\n\\n\\n== Хронологія ==\\n1932—1940 — актор Черкаського робітничо-селянського театру, начальник та художній керівник клубу на станції Гребінка.\\n1941 — призваний у військовий театр Південно-Західного фронту, потрапив у полон, але втік. Згодом потрапив до окупованого гітлерівцями Києва, влаштувався на роботу на залізниці, де організував драматичний гурток\\n\\nPetro Yukhymovych Vesklyarov (Ukrainian: Вескляров Петро Юхимович) (June 10 [O.S. May 28] 1911 in Talne, Ukraine – January 5, 1994 in Kyiv) was a Ukrainian theater and television actor. He was also known by the nickname Did Panas (Grandpa Panas, Ukrainian: дід Панас).\\nBetween 1932 and 1940, Vesklyarov was an actor in a travelling workers' theatre, and between 1946 and 1959 he performed at the Taras Shevchenko Musical-Drama Theatre in Lutsk, Volyn. Between 1959 and 1982 Veslklyarov worked in the Dovzhenko Film Studios, appearing in a number of films. He starred in the 1959 drama film Ivanna and appeared in the 1970 comedy film Two Days of Miracles. During this time (1964-1986) he appeared as the character \\\"Дід Панас\\\" (Grandpa Panas) in the Ukrainian television series \\\"На добраніч, діти\\\"  (Goodnight, children).In 1973, he was awarded the title Meritorious Artist of the Ukrainian SSR.\\n\\n\\n== Commemoration ==\\nHe was buried in the columbarium of the Baikove cemetery. The widow left for the United States, before handing over the films with the recordings of \\\"Grandpa Panas\\\" to the Kapranov brothers.In 2019, a memorial plaque was installed on the premises of the Talne school, where the house where Petro Veskliarov was born stood. In 2022, in Talne, Cherkasy region, Krylov Street became Veskliarov Street.\\n\\n\\n== References ==\\n\\n\\n== External links ==\\nPetro Vesklyarov at IMDb\\nHuman: Хто такий дід Панас?\"\n",
      "  ]\n",
      "}\n",
      "\u001b[36;1m\u001b[1;3m[llm/end]\u001b[0m \u001b[1m[1:chain:RetrievalQA > 3:chain:StuffDocumentsChain > 4:chain:LLMChain > 5:llm:AzureChatOpenAI] [3.74s] Exiting LLM run with output:\n",
      "\u001b[0m{\n",
      "  \"generations\": [\n",
      "    [\n",
      "      {\n",
      "        \"text\": \"Дід Панас - це творчий псевдонім українського актора та телеведучого Петра Юхимовича Весклярова. Він став відомим завдяки своїй ролі діда Панаса в програмі \\\"На добраніч, діти\\\" на Українському телебаченні, де він розповідав вечірні казки для дітей. Він також був актором театру та знімався у багатьох фільмах. Петро Вескляров помер у 1994 році, але його творчість залишається популярною серед української громади.\",\n",
      "        \"generation_info\": {\n",
      "          \"finish_reason\": \"stop\"\n",
      "        },\n",
      "        \"type\": \"ChatGeneration\",\n",
      "        \"message\": {\n",
      "          \"lc\": 1,\n",
      "          \"type\": \"constructor\",\n",
      "          \"id\": [\n",
      "            \"langchain\",\n",
      "            \"schema\",\n",
      "            \"messages\",\n",
      "            \"AIMessage\"\n",
      "          ],\n",
      "          \"kwargs\": {\n",
      "            \"content\": \"Дід Панас - це творчий псевдонім українського актора та телеведучого Петра Юхимовича Весклярова. Він став відомим завдяки своїй ролі діда Панаса в програмі \\\"На добраніч, діти\\\" на Українському телебаченні, де він розповідав вечірні казки для дітей. Він також був актором театру та знімався у багатьох фільмах. Петро Вескляров помер у 1994 році, але його творчість залишається популярною серед української громади.\",\n",
      "            \"additional_kwargs\": {}\n",
      "          }\n",
      "        }\n",
      "      }\n",
      "    ]\n",
      "  ],\n",
      "  \"llm_output\": {\n",
      "    \"token_usage\": {\n",
      "      \"prompt_tokens\": 2712,\n",
      "      \"completion_tokens\": 250,\n",
      "      \"total_tokens\": 2962\n",
      "    },\n",
      "    \"model_name\": \"gpt-35-turbo\",\n",
      "    \"system_fingerprint\": \"\"\n",
      "  },\n",
      "  \"run\": null\n",
      "}\n",
      "\u001b[36;1m\u001b[1;3m[chain/end]\u001b[0m \u001b[1m[1:chain:RetrievalQA > 3:chain:StuffDocumentsChain > 4:chain:LLMChain] [3.75s] Exiting Chain run with output:\n",
      "\u001b[0m{\n",
      "  \"text\": \"Дід Панас - це творчий псевдонім українського актора та телеведучого Петра Юхимовича Весклярова. Він став відомим завдяки своїй ролі діда Панаса в програмі \\\"На добраніч, діти\\\" на Українському телебаченні, де він розповідав вечірні казки для дітей. Він також був актором театру та знімався у багатьох фільмах. Петро Вескляров помер у 1994 році, але його творчість залишається популярною серед української громади.\"\n",
      "}\n",
      "\u001b[36;1m\u001b[1;3m[chain/end]\u001b[0m \u001b[1m[1:chain:RetrievalQA > 3:chain:StuffDocumentsChain] [3.75s] Exiting Chain run with output:\n",
      "\u001b[0m{\n",
      "  \"output_text\": \"Дід Панас - це творчий псевдонім українського актора та телеведучого Петра Юхимовича Весклярова. Він став відомим завдяки своїй ролі діда Панаса в програмі \\\"На добраніч, діти\\\" на Українському телебаченні, де він розповідав вечірні казки для дітей. Він також був актором театру та знімався у багатьох фільмах. Петро Вескляров помер у 1994 році, але його творчість залишається популярною серед української громади.\"\n",
      "}\n",
      "\u001b[36;1m\u001b[1;3m[chain/end]\u001b[0m \u001b[1m[1:chain:RetrievalQA] [3.83s] Exiting Chain run with output:\n",
      "\u001b[0m{\n",
      "  \"result\": \"Дід Панас - це творчий псевдонім українського актора та телеведучого Петра Юхимовича Весклярова. Він став відомим завдяки своїй ролі діда Панаса в програмі \\\"На добраніч, діти\\\" на Українському телебаченні, де він розповідав вечірні казки для дітей. Він також був актором театру та знімався у багатьох фільмах. Петро Вескляров помер у 1994 році, але його творчість залишається популярною серед української громади.\"\n",
      "}\n"
     ]
    }
   ],
   "source": [
    "with debug_langchain():\n",
    "    question = \"Хто такий дід Панас?\"\n",
    "    # qa_chain({\"query\": question})\n",
    "    qa_chain.run(question)"
   ],
   "metadata": {
    "collapsed": false,
    "ExecuteTime": {
     "end_time": "2024-01-25T14:14:57.299161Z",
     "start_time": "2024-01-25T14:14:53.459108Z"
    }
   },
   "id": "481c84dd64b87c3e"
  },
  {
   "cell_type": "markdown",
   "source": [
    "## Modify the chain to use custom prompt in English"
   ],
   "metadata": {
    "collapsed": false
   },
   "id": "1c2421713fc2a6cf"
  },
  {
   "cell_type": "code",
   "execution_count": 24,
   "outputs": [],
   "source": [
    "custom_prompt = \"\"\"Use the following pieces of context to answer the question at the end. Please provide a short single-sentence summary answer only. If you don't know the answer or if it's not present in given context, don't try to make up an answer.\n",
    "Context: {context}\n",
    "Question: {question}\n",
    "Helpful Answer:\n",
    "\"\"\"\n",
    "custom_prompt_template = PromptTemplate(template=custom_prompt, input_variables=[\"context\", \"question\"])"
   ],
   "metadata": {
    "collapsed": false,
    "ExecuteTime": {
     "end_time": "2024-01-25T14:14:57.307171Z",
     "start_time": "2024-01-25T14:14:57.301006Z"
    }
   },
   "id": "44158a6fdb5ae091"
  },
  {
   "cell_type": "code",
   "execution_count": 25,
   "outputs": [],
   "source": [
    "qa_chain = RetrievalQA.from_chain_type(\n",
    "    llm=llm,\n",
    "    chain_type=\"stuff\",\n",
    "    retriever=doc_store.as_retriever(),\n",
    "    # retriever=qdrant.as_retriever(search_type=\"mmr\"),\n",
    "    return_source_documents=False,\n",
    "    chain_type_kwargs={\"prompt\": custom_prompt_template},\n",
    ")"
   ],
   "metadata": {
    "collapsed": false,
    "ExecuteTime": {
     "end_time": "2024-01-25T14:14:57.310096Z",
     "start_time": "2024-01-25T14:14:57.305126Z"
    }
   },
   "id": "90c1cbd63cc105eb"
  },
  {
   "cell_type": "code",
   "execution_count": 26,
   "outputs": [
    {
     "name": "stdout",
     "output_type": "stream",
     "text": [
      "\u001b[32;1m\u001b[1;3m[chain/start]\u001b[0m \u001b[1m[1:chain:RetrievalQA] Entering Chain run with input:\n",
      "\u001b[0m{\n",
      "  \"query\": \"What is Gaussian kernel?\"\n",
      "}\n",
      "\u001b[32;1m\u001b[1;3m[chain/start]\u001b[0m \u001b[1m[1:chain:RetrievalQA > 3:chain:StuffDocumentsChain] Entering Chain run with input:\n",
      "\u001b[0m[inputs]\n",
      "\u001b[32;1m\u001b[1;3m[chain/start]\u001b[0m \u001b[1m[1:chain:RetrievalQA > 3:chain:StuffDocumentsChain > 4:chain:LLMChain] Entering Chain run with input:\n",
      "\u001b[0m{\n",
      "  \"question\": \"What is Gaussian kernel?\",\n",
      "  \"context\": \"9\\na feature map φsuch that the kernel Kdeﬁned above satisﬁes K(x,z) =\\nφ(x)Tφ(z)? Inthisparticularexample, theanswerisyes. Thiskernel iscalled\\ntheGaussian kernel , and corresponds to an inﬁnite dimensional feature\\nmapping φ. We will give a precise characterization about what propert ies\\na function Kneeds to satisfy so that it can be a valid kernel function that\\ncorresponds to some feature map φ.\\nNecessary conditions for valid kernels. Suppose for now that Kis\\nindeed a valid kernel corresponding to some feature mapping φ, and we will\\nﬁrst see what properties it satisﬁes. Now, consider some ﬁnit e set ofnpoints\\n(not necessarily the training set) {x(1),...,x(n)}, and let a square, n-by-n\\nmatrixKbe deﬁned so that its ( i,j)-entry is given by Kij=K(x(i),x(j)).\\nThis matrix is called the kernel matrix . Note that we’ve overloaded the\\nnotation and used Kto denote both the kernel function K(x,z) and the\\nkernel matrix K, due to their obvious close relationship.\\nNow, ifKis a valid kernel, then Kij=K(x(i),x(j)) =φ(x(i))Tφ(x(j)) =\\nφ(x(j))Tφ(x(i)) =K(x(j),x(i)) =Kji, andhence Kmustbesymmetric. More-\\nover, letting φk(x) denote the k-th coordinate of the vector φ(x), we ﬁnd that\\nfor any vector z, we have\\nzTKz=∑\\ni∑\\njziKijzj\\n=∑\\ni∑\\njziφ(x(i))Tφ(x(j))zj\\n=∑\\ni∑\\njzi∑\\nkφk(x(i))φk(x(j))zj\\n=∑\\nk∑\\ni∑\\njziφk(x(i))φk(x(j))zj\\n=∑\\nk(∑\\niziφk(x(i)))2\\n≥0.\\nThe second-to-last step uses the fact that∑\\ni,jaiaj= (∑\\niai)2forai=\\nziφk(x(i)). Sincezwas arbitrary, this shows that Kis positive semi-deﬁnite\\n(K≥0).\\nHence, we’ve shown that if Kis a valid kernel (i.e., if it corresponds to\\nsome feature mapping φ), then the corresponding kernel matrix K∈Rn×n\\nis symmetric positive semideﬁnite.\\n\\n11\\nApplication of kernel methods: We’ve seen the application of kernels\\nto linear regression. In the next part, we will introduce the support vector\\nmachines to which kernels can be directly applied. dwell too much longer on\\nithere. Infact, theideaofkernelshassigniﬁcantlybroade rapplicabilitythan\\nlinear regression and SVMs. Speciﬁcally, if you have any lear ning algorithm\\nthat you can write in terms of only inner products ⟨x,z⟩between input\\nattribute vectors, then by replacing this with K(x,z) whereKis a kernel,\\nyou can “magically” allow your algorithm to work eﬃciently i n the high\\ndimensional feature space corresponding to K. For instance, this kernel trick\\ncan be applied with the perceptron to derive a kernel percept ron algorithm.\\nMany of the algorithms that we’ll see later in this class will also be amenable\\nto this method, which has come to be known as the “kernel trick .”\\nPart VI\\nSupport Vector Machines\\nThis set of notes presents the Support Vector Machine (SVM) le arning al-\\ngorithm. SVMs are among the best (and many believe are indeed t he best)\\n“oﬀ-the-shelf” supervised learning algorithms. To tell th e SVM story, we’ll\\nneed to ﬁrst talk about margins and the idea of separating dat a with a large\\n“gap.” Next, we’ll talk about the optimal margin classiﬁer, w hich will lead\\nus into a digression on Lagrange duality. We’ll also see kern els, which give\\na way to apply SVMs eﬃciently in very high dimensional (such as inﬁnite-\\ndimensional) feature spaces, and ﬁnally, we’ll close oﬀ the story with the\\nSMO algorithm, which gives an eﬃcient implementation of SVMs .\\n2 Margins: Intuition\\nWe’ll start our story on SVMs by talking about margins. This se ction will\\ngive the intuitions about margins and about the “conﬁdence” of our predic-\\ntions; these ideas will be made formal in Section 4.\\nConsider logistic regression, where the probability p(y= 1|x;θ) is mod-\\neled byhθ(x) =g(θTx). We then predict “1” on an input xif and only if\\nhθ(x)≥0.5, or equivalently, if and only if θTx≥0. Consider a positive\\ntraining example ( y= 1). The larger θTxis, the larger also is hθ(x) =p(y=\\n1|x;θ), and thus also the higher our degree of “conﬁdence” that the label is 1.\\nThus, informally we can think of our prediction as being very conﬁdent that\\n\\n7\\nWe can also write this as\\nK(x,z) =(d∑\\ni=1xizi)(d∑\\nj=1xjzj)\\n=d∑\\ni=1d∑\\nj=1xixjzizj\\n=d∑\\ni,j=1(xixj)(zizj)\\nThus, we see that K(x,z) =⟨φ(x),φ(z)⟩is the kernel function that corre-\\nsponds to the the feature mapping φgiven (shown here for the case of d= 3)\\nby\\nφ(x) =\\nx1x1\\nx1x2\\nx1x3\\nx2x1\\nx2x2\\nx2x3\\nx3x1\\nx3x2\\nx3x3\\n.\\nRevisitingthecomputationaleﬃciencyperspectiveofkern el,notethatwhereas\\ncalculating the high-dimensional φ(x) requires O(d2) time, ﬁnding K(x,z)\\ntakes only O(d) time—linear in the dimension of the input attributes.\\nFor another related example, also consider K(·,·) deﬁned by\\nK(x,z) = (xTz+c)2\\n=d∑\\ni,j=1(xixj)(zizj)+d∑\\ni=1(√\\n2cxi)(√\\n2czi)+c2.\\n(Check this yourself.) This function Kis a kernel function that corresponds\\n\\n10\\nSuﬃcient conditions for valid kernels. More generally, the condition\\nabove turns out to be not only a necessary, but also a suﬃcient , condition\\nforKto be a valid kernel (also called a Mercer kernel). The follow ing result\\nis due to Mercer.3\\nTheorem (Mercer). LetK:Rd×Rd↦→Rbe given. Then for K\\nto be a valid (Mercer) kernel, it is necessary and suﬃcient th at for any\\n{x(1),...,x(n)}, (n <∞), the corresponding kernel matrix is symmetric pos-\\nitive semi-deﬁnite.\\nGiven a function K, apart from trying to ﬁnd a feature mapping φthat\\ncorresponds to it, this theorem therefore gives another way of testing if it is\\na valid kernel. You’ll also have a chance to play with these id eas more in\\nproblem set 2.\\nIn class, we also brieﬂy talked about a couple of other exampl es of ker-\\nnels. For instance, consider the digit recognition problem , in which given\\nan image (16x16 pixels) of a handwritten digit (0-9), we have to ﬁgure out\\nwhich digit it was. Using either a simple polynomial kernel K(x,z) = (xTz)k\\nor the Gaussian kernel, SVMs were able to obtain extremely goo d perfor-\\nmance on this problem. This was particularly surprising sin ce the input\\nattributes xwere just 256-dimensional vectors of the image pixel intens ity\\nvalues, and the system had no prior knowledge about vision, o r even about\\nwhich pixels are adjacent to which other ones. Another exampl e that we\\nbrieﬂy talked about in lecture was that if the objects xthat we are trying\\nto classify are strings (say, xis a list of amino acids, which strung together\\nform a protein), then it seems hard to construct a reasonable , “small” set of\\nfeatures for most learning algorithms, especially if diﬀer ent strings have dif-\\nferent lengths. However, consider letting φ(x) be a feature vector that counts\\nthe number of occurrences of each length- ksubstring in x. If we’re consid-\\nering strings of English letters, then there are 26ksuch strings. Hence, φ(x)\\nis a 26kdimensional vector; even for moderate values of k, this is probably\\ntoo big for us to eﬃciently work with. (e.g., 264≈460000.) However, using\\n(dynamic programming-ish) string matching algorithms, it is possible to ef-\\nﬁciently compute K(x,z) =φ(x)Tφ(z), so that we can now implicitly work\\nin this 26k-dimensional feature space, but without ever explicitly co mputing\\nfeature vectors in this space.\\n3Many texts present Mercer’s theorem in a slightly more compl icated form involving\\nL2functions, but when the input attributes take values in Rd, the version given here is\\nequivalent.\"\n",
      "}\n",
      "\u001b[32;1m\u001b[1;3m[llm/start]\u001b[0m \u001b[1m[1:chain:RetrievalQA > 3:chain:StuffDocumentsChain > 4:chain:LLMChain > 5:llm:AzureChatOpenAI] Entering LLM run with input:\n",
      "\u001b[0m{\n",
      "  \"prompts\": [\n",
      "    \"Human: Use the following pieces of context to answer the question at the end. Please provide a short single-sentence summary answer only. If you don't know the answer or if it's not present in given context, don't try to make up an answer.\\nContext: 9\\na feature map φsuch that the kernel Kdeﬁned above satisﬁes K(x,z) =\\nφ(x)Tφ(z)? Inthisparticularexample, theanswerisyes. Thiskernel iscalled\\ntheGaussian kernel , and corresponds to an inﬁnite dimensional feature\\nmapping φ. We will give a precise characterization about what propert ies\\na function Kneeds to satisfy so that it can be a valid kernel function that\\ncorresponds to some feature map φ.\\nNecessary conditions for valid kernels. Suppose for now that Kis\\nindeed a valid kernel corresponding to some feature mapping φ, and we will\\nﬁrst see what properties it satisﬁes. Now, consider some ﬁnit e set ofnpoints\\n(not necessarily the training set) {x(1),...,x(n)}, and let a square, n-by-n\\nmatrixKbe deﬁned so that its ( i,j)-entry is given by Kij=K(x(i),x(j)).\\nThis matrix is called the kernel matrix . Note that we’ve overloaded the\\nnotation and used Kto denote both the kernel function K(x,z) and the\\nkernel matrix K, due to their obvious close relationship.\\nNow, ifKis a valid kernel, then Kij=K(x(i),x(j)) =φ(x(i))Tφ(x(j)) =\\nφ(x(j))Tφ(x(i)) =K(x(j),x(i)) =Kji, andhence Kmustbesymmetric. More-\\nover, letting φk(x) denote the k-th coordinate of the vector φ(x), we ﬁnd that\\nfor any vector z, we have\\nzTKz=∑\\ni∑\\njziKijzj\\n=∑\\ni∑\\njziφ(x(i))Tφ(x(j))zj\\n=∑\\ni∑\\njzi∑\\nkφk(x(i))φk(x(j))zj\\n=∑\\nk∑\\ni∑\\njziφk(x(i))φk(x(j))zj\\n=∑\\nk(∑\\niziφk(x(i)))2\\n≥0.\\nThe second-to-last step uses the fact that∑\\ni,jaiaj= (∑\\niai)2forai=\\nziφk(x(i)). Sincezwas arbitrary, this shows that Kis positive semi-deﬁnite\\n(K≥0).\\nHence, we’ve shown that if Kis a valid kernel (i.e., if it corresponds to\\nsome feature mapping φ), then the corresponding kernel matrix K∈Rn×n\\nis symmetric positive semideﬁnite.\\n\\n11\\nApplication of kernel methods: We’ve seen the application of kernels\\nto linear regression. In the next part, we will introduce the support vector\\nmachines to which kernels can be directly applied. dwell too much longer on\\nithere. Infact, theideaofkernelshassigniﬁcantlybroade rapplicabilitythan\\nlinear regression and SVMs. Speciﬁcally, if you have any lear ning algorithm\\nthat you can write in terms of only inner products ⟨x,z⟩between input\\nattribute vectors, then by replacing this with K(x,z) whereKis a kernel,\\nyou can “magically” allow your algorithm to work eﬃciently i n the high\\ndimensional feature space corresponding to K. For instance, this kernel trick\\ncan be applied with the perceptron to derive a kernel percept ron algorithm.\\nMany of the algorithms that we’ll see later in this class will also be amenable\\nto this method, which has come to be known as the “kernel trick .”\\nPart VI\\nSupport Vector Machines\\nThis set of notes presents the Support Vector Machine (SVM) le arning al-\\ngorithm. SVMs are among the best (and many believe are indeed t he best)\\n“oﬀ-the-shelf” supervised learning algorithms. To tell th e SVM story, we’ll\\nneed to ﬁrst talk about margins and the idea of separating dat a with a large\\n“gap.” Next, we’ll talk about the optimal margin classiﬁer, w hich will lead\\nus into a digression on Lagrange duality. We’ll also see kern els, which give\\na way to apply SVMs eﬃciently in very high dimensional (such as inﬁnite-\\ndimensional) feature spaces, and ﬁnally, we’ll close oﬀ the story with the\\nSMO algorithm, which gives an eﬃcient implementation of SVMs .\\n2 Margins: Intuition\\nWe’ll start our story on SVMs by talking about margins. This se ction will\\ngive the intuitions about margins and about the “conﬁdence” of our predic-\\ntions; these ideas will be made formal in Section 4.\\nConsider logistic regression, where the probability p(y= 1|x;θ) is mod-\\neled byhθ(x) =g(θTx). We then predict “1” on an input xif and only if\\nhθ(x)≥0.5, or equivalently, if and only if θTx≥0. Consider a positive\\ntraining example ( y= 1). The larger θTxis, the larger also is hθ(x) =p(y=\\n1|x;θ), and thus also the higher our degree of “conﬁdence” that the label is 1.\\nThus, informally we can think of our prediction as being very conﬁdent that\\n\\n7\\nWe can also write this as\\nK(x,z) =(d∑\\ni=1xizi)(d∑\\nj=1xjzj)\\n=d∑\\ni=1d∑\\nj=1xixjzizj\\n=d∑\\ni,j=1(xixj)(zizj)\\nThus, we see that K(x,z) =⟨φ(x),φ(z)⟩is the kernel function that corre-\\nsponds to the the feature mapping φgiven (shown here for the case of d= 3)\\nby\\nφ(x) =\\nx1x1\\nx1x2\\nx1x3\\nx2x1\\nx2x2\\nx2x3\\nx3x1\\nx3x2\\nx3x3\\n.\\nRevisitingthecomputationaleﬃciencyperspectiveofkern el,notethatwhereas\\ncalculating the high-dimensional φ(x) requires O(d2) time, ﬁnding K(x,z)\\ntakes only O(d) time—linear in the dimension of the input attributes.\\nFor another related example, also consider K(·,·) deﬁned by\\nK(x,z) = (xTz+c)2\\n=d∑\\ni,j=1(xixj)(zizj)+d∑\\ni=1(√\\n2cxi)(√\\n2czi)+c2.\\n(Check this yourself.) This function Kis a kernel function that corresponds\\n\\n10\\nSuﬃcient conditions for valid kernels. More generally, the condition\\nabove turns out to be not only a necessary, but also a suﬃcient , condition\\nforKto be a valid kernel (also called a Mercer kernel). The follow ing result\\nis due to Mercer.3\\nTheorem (Mercer). LetK:Rd×Rd↦→Rbe given. Then for K\\nto be a valid (Mercer) kernel, it is necessary and suﬃcient th at for any\\n{x(1),...,x(n)}, (n <∞), the corresponding kernel matrix is symmetric pos-\\nitive semi-deﬁnite.\\nGiven a function K, apart from trying to ﬁnd a feature mapping φthat\\ncorresponds to it, this theorem therefore gives another way of testing if it is\\na valid kernel. You’ll also have a chance to play with these id eas more in\\nproblem set 2.\\nIn class, we also brieﬂy talked about a couple of other exampl es of ker-\\nnels. For instance, consider the digit recognition problem , in which given\\nan image (16x16 pixels) of a handwritten digit (0-9), we have to ﬁgure out\\nwhich digit it was. Using either a simple polynomial kernel K(x,z) = (xTz)k\\nor the Gaussian kernel, SVMs were able to obtain extremely goo d perfor-\\nmance on this problem. This was particularly surprising sin ce the input\\nattributes xwere just 256-dimensional vectors of the image pixel intens ity\\nvalues, and the system had no prior knowledge about vision, o r even about\\nwhich pixels are adjacent to which other ones. Another exampl e that we\\nbrieﬂy talked about in lecture was that if the objects xthat we are trying\\nto classify are strings (say, xis a list of amino acids, which strung together\\nform a protein), then it seems hard to construct a reasonable , “small” set of\\nfeatures for most learning algorithms, especially if diﬀer ent strings have dif-\\nferent lengths. However, consider letting φ(x) be a feature vector that counts\\nthe number of occurrences of each length- ksubstring in x. If we’re consid-\\nering strings of English letters, then there are 26ksuch strings. Hence, φ(x)\\nis a 26kdimensional vector; even for moderate values of k, this is probably\\ntoo big for us to eﬃciently work with. (e.g., 264≈460000.) However, using\\n(dynamic programming-ish) string matching algorithms, it is possible to ef-\\nﬁciently compute K(x,z) =φ(x)Tφ(z), so that we can now implicitly work\\nin this 26k-dimensional feature space, but without ever explicitly co mputing\\nfeature vectors in this space.\\n3Many texts present Mercer’s theorem in a slightly more compl icated form involving\\nL2functions, but when the input attributes take values in Rd, the version given here is\\nequivalent.\\nQuestion: What is Gaussian kernel?\\nHelpful Answer:\"\n",
      "  ]\n",
      "}\n",
      "\u001b[36;1m\u001b[1;3m[llm/end]\u001b[0m \u001b[1m[1:chain:RetrievalQA > 3:chain:StuffDocumentsChain > 4:chain:LLMChain > 5:llm:AzureChatOpenAI] [740ms] Exiting LLM run with output:\n",
      "\u001b[0m{\n",
      "  \"generations\": [\n",
      "    [\n",
      "      {\n",
      "        \"text\": \"The Gaussian kernel is a valid kernel that corresponds to an infinite dimensional feature mapping and is defined by the equation K(x,z) = φ(x)Tφ(z).\",\n",
      "        \"generation_info\": {\n",
      "          \"finish_reason\": \"stop\"\n",
      "        },\n",
      "        \"type\": \"ChatGeneration\",\n",
      "        \"message\": {\n",
      "          \"lc\": 1,\n",
      "          \"type\": \"constructor\",\n",
      "          \"id\": [\n",
      "            \"langchain\",\n",
      "            \"schema\",\n",
      "            \"messages\",\n",
      "            \"AIMessage\"\n",
      "          ],\n",
      "          \"kwargs\": {\n",
      "            \"content\": \"The Gaussian kernel is a valid kernel that corresponds to an infinite dimensional feature mapping and is defined by the equation K(x,z) = φ(x)Tφ(z).\",\n",
      "            \"additional_kwargs\": {}\n",
      "          }\n",
      "        }\n",
      "      }\n",
      "    ]\n",
      "  ],\n",
      "  \"llm_output\": {\n",
      "    \"token_usage\": {\n",
      "      \"prompt_tokens\": 2329,\n",
      "      \"completion_tokens\": 33,\n",
      "      \"total_tokens\": 2362\n",
      "    },\n",
      "    \"model_name\": \"gpt-35-turbo\",\n",
      "    \"system_fingerprint\": \"\"\n",
      "  },\n",
      "  \"run\": null\n",
      "}\n",
      "\u001b[36;1m\u001b[1;3m[chain/end]\u001b[0m \u001b[1m[1:chain:RetrievalQA > 3:chain:StuffDocumentsChain > 4:chain:LLMChain] [742ms] Exiting Chain run with output:\n",
      "\u001b[0m{\n",
      "  \"text\": \"The Gaussian kernel is a valid kernel that corresponds to an infinite dimensional feature mapping and is defined by the equation K(x,z) = φ(x)Tφ(z).\"\n",
      "}\n",
      "\u001b[36;1m\u001b[1;3m[chain/end]\u001b[0m \u001b[1m[1:chain:RetrievalQA > 3:chain:StuffDocumentsChain] [742ms] Exiting Chain run with output:\n",
      "\u001b[0m{\n",
      "  \"output_text\": \"The Gaussian kernel is a valid kernel that corresponds to an infinite dimensional feature mapping and is defined by the equation K(x,z) = φ(x)Tφ(z).\"\n",
      "}\n",
      "\u001b[36;1m\u001b[1;3m[chain/end]\u001b[0m \u001b[1m[1:chain:RetrievalQA] [837ms] Exiting Chain run with output:\n",
      "\u001b[0m{\n",
      "  \"result\": \"The Gaussian kernel is a valid kernel that corresponds to an infinite dimensional feature mapping and is defined by the equation K(x,z) = φ(x)Tφ(z).\"\n",
      "}\n"
     ]
    }
   ],
   "source": [
    "with debug_langchain():\n",
    "    question = \"What is Gaussian kernel?\"\n",
    "    # qa_chain({\"query\": question})\n",
    "    qa_chain.run(question)"
   ],
   "metadata": {
    "collapsed": false,
    "ExecuteTime": {
     "end_time": "2024-01-25T14:14:58.153305Z",
     "start_time": "2024-01-25T14:14:57.308909Z"
    }
   },
   "id": "98dee4e8a135e7db"
  },
  {
   "cell_type": "code",
   "execution_count": 27,
   "outputs": [
    {
     "name": "stdout",
     "output_type": "stream",
     "text": [
      "\u001b[32;1m\u001b[1;3m[chain/start]\u001b[0m \u001b[1m[1:chain:RetrievalQA] Entering Chain run with input:\n",
      "\u001b[0m{\n",
      "  \"query\": \"Who is Grandpa Panas?\"\n",
      "}\n",
      "\u001b[32;1m\u001b[1;3m[chain/start]\u001b[0m \u001b[1m[1:chain:RetrievalQA > 3:chain:StuffDocumentsChain] Entering Chain run with input:\n",
      "\u001b[0m[inputs]\n",
      "\u001b[32;1m\u001b[1;3m[chain/start]\u001b[0m \u001b[1m[1:chain:RetrievalQA > 3:chain:StuffDocumentsChain > 4:chain:LLMChain] Entering Chain run with input:\n",
      "\u001b[0m{\n",
      "  \"question\": \"Who is Grandpa Panas?\",\n",
      "  \"context\": \"Petro Yukhymovych Vesklyarov (Ukrainian: Вескляров Петро Юхимович) (June 10 [O.S. May 28] 1911 in Talne, Ukraine – January 5, 1994 in Kyiv) was a Ukrainian theater and television actor. He was also known by the nickname Did Panas (Grandpa Panas, Ukrainian: дід Панас).\\nBetween 1932 and 1940, Vesklyarov was an actor in a travelling workers' theatre, and between 1946 and 1959 he performed at the Taras Shevchenko Musical-Drama Theatre in Lutsk, Volyn. Between 1959 and 1982 Veslklyarov worked in the Dovzhenko Film Studios, appearing in a number of films. He starred in the 1959 drama film Ivanna and appeared in the 1970 comedy film Two Days of Miracles. During this time (1964-1986) he appeared as the character \\\"Дід Панас\\\" (Grandpa Panas) in the Ukrainian television series \\\"На добраніч, діти\\\"  (Goodnight, children).In 1973, he was awarded the title Meritorious Artist of the Ukrainian SSR.\\n\\n\\n== Commemoration ==\\nHe was buried in the columbarium of the Baikove cemetery. The widow left for the United States, before handing over the films with the recordings of \\\"Grandpa Panas\\\" to the Kapranov brothers.In 2019, a memorial plaque was installed on the premises of the Talne school, where the house where Petro Veskliarov was born stood. In 2022, in Talne, Cherkasy region, Krylov Street became Veskliarov Street.\\n\\n\\n== References ==\\n\\n\\n== External links ==\\nPetro Vesklyarov at IMDb\\n\\n.\\n1941 — призваний у військовий театр Південно-Західного фронту, потрапив у полон, але втік. Згодом потрапив до окупованого гітлерівцями Києва, влаштувався на роботу на залізниці, де організував драматичний гурток. 1946 року був скерований до Луцька — у Волинський український музично-драматичний театр імені Тараса Шевченка, де працював до 1959-го.\\nУ Луцьку одружився із секретаркою театру Галиною, де народився його син Богдан.1959—1982 — на Київській кіностудії художніх фільмів імені Олександра Довженка.\\nЗ 1962 р. у ролі діда Панаса розповідав на Українському радіо «вечірню казку» для дітей (перед тим Вескляров працював у цій ролі на підміні іншого актора, якого згодом замінив цілком).1964—1986 — у ролі діда Панаса вів на Українському телебаченні програму «На добраніч, діти».\\n\\n\\n== Вшанування пам'яті ==\\nПохований у колумбарії Байкового кладовища. Вдова виїхала до США, перед тим передавши кіноплівки із записами «діда Панаса» братам Капрановим.\\n\\n2019 року на приміщенні тальнівської школи, на місці якої стояв будинок, де народився Петро Вескляров, встановлено пам'ятну дошку.\\nУ 2022 році у Тальному на Черкащині вулиця Крилова стала вулицею Весклярова.\\n\\n\\n== Ролі в театрі ==\\nМикола Задорожний («Украдене щастя» Івана Франка).\\nКомандор («Камінний господар» Лесі Українки)\\n\\n. Згодом Вескляров переїздить до столиці, де активно знімається у багатьох фільмах. Серед них: «Олекса Довбуш», «Гадюка», «Циган», «Іванна», «Вій», «Забудьте слово смерть» тощо. Відзнявся у приблизно 50 фільмах. Проте найбільше запам'ятався малечі та старшому глядачеві як казкар Дідусь Панас. Українська вишиванка Весклярова часом дратувала керівництво телебачення, його подекуди звинувачували в націоналізмі, а в 1970-х рр. кілька разів навіть намагалися замінити. Але від цієї ідеї довелося відмовитися під тиском обурених телеглядачів, які засипали студію Довженка та дирекцію УТ листами з проханнями повернути дідуся Панаса на екран і він повертався. Відданий українець, який ніколи не зраджував своєї мови та вишиванки, неодноразово звинувачувався у націоналізмі.\\nПетро Юхимович помер 5 січня 1994 році, прах похований у колумбарії Байкового цвинтаря міста Києва.\\n\\n\\n== Хронологія ==\\n1932—1940 — актор Черкаського робітничо-селянського театру, начальник та художній керівник клубу на станції Гребінка.\\n1941 — призваний у військовий театр Південно-Західного фронту, потрапив у полон, але втік. Згодом потрапив до окупованого гітлерівцями Києва, влаштувався на роботу на залізниці, де організував драматичний гурток\\n\\nПетро́ Юхи́мович Вескляро́в, ім'я при народженні Пінхас Хаїмович Весклер (9 червня 1911(19110609), Тальне, Уманський повіт, Київська губернія, Російська імперія — 5 січня 1994, Київ) — український актор і телеведучий. Заслужений артист Української РСР (1973). Більш відомий під творчим псевдонімом «Дід Панас».\\n\\n\\n== Життєпис ==\\nНародився 9 червня 1911 року в райцентрі Тальне, що на Черкащині. \\nПрізвище Петра Юхимовича зазнало змін під час війни з нацизмом: від єврейського Векслер до Вескляров. Це сталося під час перебування в нацистському фільтраційному таборі, щоб приховати єврейське походження.\\nПрацював на київській залізниці, де організував театральний гурток, згодом його відправляють до Луцька, у Волинський обласний музично-драматичний театр ім. Тараса Шевченка, де він працював до 1959 року. Там зіграв чимало ролей: Миколу Задорожнього з  «Украденого щастя», Командора з «Камінного господаря», Монтанеллі з «Овода» тощо. Талановитого, фактурного, харизматичного актора помітили кінорежисери та почали запрошувати на зйомки у фільмах. Згодом Вескляров переїздить до столиці, де активно знімається у багатьох фільмах. Серед них: «Олекса Довбуш», «Гадюка», «Циган», «Іванна», «Вій», «Забудьте слово смерть» тощо\"\n",
      "}\n",
      "\u001b[32;1m\u001b[1;3m[llm/start]\u001b[0m \u001b[1m[1:chain:RetrievalQA > 3:chain:StuffDocumentsChain > 4:chain:LLMChain > 5:llm:AzureChatOpenAI] Entering LLM run with input:\n",
      "\u001b[0m{\n",
      "  \"prompts\": [\n",
      "    \"Human: Use the following pieces of context to answer the question at the end. Please provide a short single-sentence summary answer only. If you don't know the answer or if it's not present in given context, don't try to make up an answer.\\nContext: Petro Yukhymovych Vesklyarov (Ukrainian: Вескляров Петро Юхимович) (June 10 [O.S. May 28] 1911 in Talne, Ukraine – January 5, 1994 in Kyiv) was a Ukrainian theater and television actor. He was also known by the nickname Did Panas (Grandpa Panas, Ukrainian: дід Панас).\\nBetween 1932 and 1940, Vesklyarov was an actor in a travelling workers' theatre, and between 1946 and 1959 he performed at the Taras Shevchenko Musical-Drama Theatre in Lutsk, Volyn. Between 1959 and 1982 Veslklyarov worked in the Dovzhenko Film Studios, appearing in a number of films. He starred in the 1959 drama film Ivanna and appeared in the 1970 comedy film Two Days of Miracles. During this time (1964-1986) he appeared as the character \\\"Дід Панас\\\" (Grandpa Panas) in the Ukrainian television series \\\"На добраніч, діти\\\"  (Goodnight, children).In 1973, he was awarded the title Meritorious Artist of the Ukrainian SSR.\\n\\n\\n== Commemoration ==\\nHe was buried in the columbarium of the Baikove cemetery. The widow left for the United States, before handing over the films with the recordings of \\\"Grandpa Panas\\\" to the Kapranov brothers.In 2019, a memorial plaque was installed on the premises of the Talne school, where the house where Petro Veskliarov was born stood. In 2022, in Talne, Cherkasy region, Krylov Street became Veskliarov Street.\\n\\n\\n== References ==\\n\\n\\n== External links ==\\nPetro Vesklyarov at IMDb\\n\\n.\\n1941 — призваний у військовий театр Південно-Західного фронту, потрапив у полон, але втік. Згодом потрапив до окупованого гітлерівцями Києва, влаштувався на роботу на залізниці, де організував драматичний гурток. 1946 року був скерований до Луцька — у Волинський український музично-драматичний театр імені Тараса Шевченка, де працював до 1959-го.\\nУ Луцьку одружився із секретаркою театру Галиною, де народився його син Богдан.1959—1982 — на Київській кіностудії художніх фільмів імені Олександра Довженка.\\nЗ 1962 р. у ролі діда Панаса розповідав на Українському радіо «вечірню казку» для дітей (перед тим Вескляров працював у цій ролі на підміні іншого актора, якого згодом замінив цілком).1964—1986 — у ролі діда Панаса вів на Українському телебаченні програму «На добраніч, діти».\\n\\n\\n== Вшанування пам'яті ==\\nПохований у колумбарії Байкового кладовища. Вдова виїхала до США, перед тим передавши кіноплівки із записами «діда Панаса» братам Капрановим.\\n\\n2019 року на приміщенні тальнівської школи, на місці якої стояв будинок, де народився Петро Вескляров, встановлено пам'ятну дошку.\\nУ 2022 році у Тальному на Черкащині вулиця Крилова стала вулицею Весклярова.\\n\\n\\n== Ролі в театрі ==\\nМикола Задорожний («Украдене щастя» Івана Франка).\\nКомандор («Камінний господар» Лесі Українки)\\n\\n. Згодом Вескляров переїздить до столиці, де активно знімається у багатьох фільмах. Серед них: «Олекса Довбуш», «Гадюка», «Циган», «Іванна», «Вій», «Забудьте слово смерть» тощо. Відзнявся у приблизно 50 фільмах. Проте найбільше запам'ятався малечі та старшому глядачеві як казкар Дідусь Панас. Українська вишиванка Весклярова часом дратувала керівництво телебачення, його подекуди звинувачували в націоналізмі, а в 1970-х рр. кілька разів навіть намагалися замінити. Але від цієї ідеї довелося відмовитися під тиском обурених телеглядачів, які засипали студію Довженка та дирекцію УТ листами з проханнями повернути дідуся Панаса на екран і він повертався. Відданий українець, який ніколи не зраджував своєї мови та вишиванки, неодноразово звинувачувався у націоналізмі.\\nПетро Юхимович помер 5 січня 1994 році, прах похований у колумбарії Байкового цвинтаря міста Києва.\\n\\n\\n== Хронологія ==\\n1932—1940 — актор Черкаського робітничо-селянського театру, начальник та художній керівник клубу на станції Гребінка.\\n1941 — призваний у військовий театр Південно-Західного фронту, потрапив у полон, але втік. Згодом потрапив до окупованого гітлерівцями Києва, влаштувався на роботу на залізниці, де організував драматичний гурток\\n\\nПетро́ Юхи́мович Вескляро́в, ім'я при народженні Пінхас Хаїмович Весклер (9 червня 1911(19110609), Тальне, Уманський повіт, Київська губернія, Російська імперія — 5 січня 1994, Київ) — український актор і телеведучий. Заслужений артист Української РСР (1973). Більш відомий під творчим псевдонімом «Дід Панас».\\n\\n\\n== Життєпис ==\\nНародився 9 червня 1911 року в райцентрі Тальне, що на Черкащині. \\nПрізвище Петра Юхимовича зазнало змін під час війни з нацизмом: від єврейського Векслер до Вескляров. Це сталося під час перебування в нацистському фільтраційному таборі, щоб приховати єврейське походження.\\nПрацював на київській залізниці, де організував театральний гурток, згодом його відправляють до Луцька, у Волинський обласний музично-драматичний театр ім. Тараса Шевченка, де він працював до 1959 року. Там зіграв чимало ролей: Миколу Задорожнього з  «Украденого щастя», Командора з «Камінного господаря», Монтанеллі з «Овода» тощо. Талановитого, фактурного, харизматичного актора помітили кінорежисери та почали запрошувати на зйомки у фільмах. Згодом Вескляров переїздить до столиці, де активно знімається у багатьох фільмах. Серед них: «Олекса Довбуш», «Гадюка», «Циган», «Іванна», «Вій», «Забудьте слово смерть» тощо\\nQuestion: Who is Grandpa Panas?\\nHelpful Answer:\"\n",
      "  ]\n",
      "}\n",
      "\u001b[36;1m\u001b[1;3m[llm/end]\u001b[0m \u001b[1m[1:chain:RetrievalQA > 3:chain:StuffDocumentsChain > 4:chain:LLMChain > 5:llm:AzureChatOpenAI] [1.05s] Exiting LLM run with output:\n",
      "\u001b[0m{\n",
      "  \"generations\": [\n",
      "    [\n",
      "      {\n",
      "        \"text\": \"Grandpa Panas is the nickname of Petro Yukhymovych Vesklyarov, a Ukrainian theater and television actor who played the character in the Ukrainian television series \\\"На добраніч, діти\\\" (Goodnight, children) from 1964-1986.\",\n",
      "        \"generation_info\": {\n",
      "          \"finish_reason\": \"stop\"\n",
      "        },\n",
      "        \"type\": \"ChatGeneration\",\n",
      "        \"message\": {\n",
      "          \"lc\": 1,\n",
      "          \"type\": \"constructor\",\n",
      "          \"id\": [\n",
      "            \"langchain\",\n",
      "            \"schema\",\n",
      "            \"messages\",\n",
      "            \"AIMessage\"\n",
      "          ],\n",
      "          \"kwargs\": {\n",
      "            \"content\": \"Grandpa Panas is the nickname of Petro Yukhymovych Vesklyarov, a Ukrainian theater and television actor who played the character in the Ukrainian television series \\\"На добраніч, діти\\\" (Goodnight, children) from 1964-1986.\",\n",
      "            \"additional_kwargs\": {}\n",
      "          }\n",
      "        }\n",
      "      }\n",
      "    ]\n",
      "  ],\n",
      "  \"llm_output\": {\n",
      "    \"token_usage\": {\n",
      "      \"prompt_tokens\": 2720,\n",
      "      \"completion_tokens\": 60,\n",
      "      \"total_tokens\": 2780\n",
      "    },\n",
      "    \"model_name\": \"gpt-35-turbo\",\n",
      "    \"system_fingerprint\": \"\"\n",
      "  },\n",
      "  \"run\": null\n",
      "}\n",
      "\u001b[36;1m\u001b[1;3m[chain/end]\u001b[0m \u001b[1m[1:chain:RetrievalQA > 3:chain:StuffDocumentsChain > 4:chain:LLMChain] [1.05s] Exiting Chain run with output:\n",
      "\u001b[0m{\n",
      "  \"text\": \"Grandpa Panas is the nickname of Petro Yukhymovych Vesklyarov, a Ukrainian theater and television actor who played the character in the Ukrainian television series \\\"На добраніч, діти\\\" (Goodnight, children) from 1964-1986.\"\n",
      "}\n",
      "\u001b[36;1m\u001b[1;3m[chain/end]\u001b[0m \u001b[1m[1:chain:RetrievalQA > 3:chain:StuffDocumentsChain] [1.06s] Exiting Chain run with output:\n",
      "\u001b[0m{\n",
      "  \"output_text\": \"Grandpa Panas is the nickname of Petro Yukhymovych Vesklyarov, a Ukrainian theater and television actor who played the character in the Ukrainian television series \\\"На добраніч, діти\\\" (Goodnight, children) from 1964-1986.\"\n",
      "}\n",
      "\u001b[36;1m\u001b[1;3m[chain/end]\u001b[0m \u001b[1m[1:chain:RetrievalQA] [1.14s] Exiting Chain run with output:\n",
      "\u001b[0m{\n",
      "  \"result\": \"Grandpa Panas is the nickname of Petro Yukhymovych Vesklyarov, a Ukrainian theater and television actor who played the character in the Ukrainian television series \\\"На добраніч, діти\\\" (Goodnight, children) from 1964-1986.\"\n",
      "}\n"
     ]
    }
   ],
   "source": [
    "with debug_langchain():\n",
    "    question = \"Who is Grandpa Panas?\"\n",
    "    # qa_chain({\"query\": question})\n",
    "    qa_chain.run(question)"
   ],
   "metadata": {
    "collapsed": false,
    "ExecuteTime": {
     "end_time": "2024-01-25T14:14:59.301400Z",
     "start_time": "2024-01-25T14:14:58.154019Z"
    }
   },
   "id": "1ae6fa8a9217716"
  },
  {
   "cell_type": "code",
   "execution_count": 28,
   "outputs": [
    {
     "name": "stdout",
     "output_type": "stream",
     "text": [
      "\u001b[32;1m\u001b[1;3m[chain/start]\u001b[0m \u001b[1m[1:chain:RetrievalQA] Entering Chain run with input:\n",
      "\u001b[0m{\n",
      "  \"query\": \"Хто такий дід Панас?\"\n",
      "}\n",
      "\u001b[32;1m\u001b[1;3m[chain/start]\u001b[0m \u001b[1m[1:chain:RetrievalQA > 3:chain:StuffDocumentsChain] Entering Chain run with input:\n",
      "\u001b[0m[inputs]\n",
      "\u001b[32;1m\u001b[1;3m[chain/start]\u001b[0m \u001b[1m[1:chain:RetrievalQA > 3:chain:StuffDocumentsChain > 4:chain:LLMChain] Entering Chain run with input:\n",
      "\u001b[0m{\n",
      "  \"question\": \"Хто такий дід Панас?\",\n",
      "  \"context\": \".\\n1941 — призваний у військовий театр Південно-Західного фронту, потрапив у полон, але втік. Згодом потрапив до окупованого гітлерівцями Києва, влаштувався на роботу на залізниці, де організував драматичний гурток. 1946 року був скерований до Луцька — у Волинський український музично-драматичний театр імені Тараса Шевченка, де працював до 1959-го.\\nУ Луцьку одружився із секретаркою театру Галиною, де народився його син Богдан.1959—1982 — на Київській кіностудії художніх фільмів імені Олександра Довженка.\\nЗ 1962 р. у ролі діда Панаса розповідав на Українському радіо «вечірню казку» для дітей (перед тим Вескляров працював у цій ролі на підміні іншого актора, якого згодом замінив цілком).1964—1986 — у ролі діда Панаса вів на Українському телебаченні програму «На добраніч, діти».\\n\\n\\n== Вшанування пам'яті ==\\nПохований у колумбарії Байкового кладовища. Вдова виїхала до США, перед тим передавши кіноплівки із записами «діда Панаса» братам Капрановим.\\n\\n2019 року на приміщенні тальнівської школи, на місці якої стояв будинок, де народився Петро Вескляров, встановлено пам'ятну дошку.\\nУ 2022 році у Тальному на Черкащині вулиця Крилова стала вулицею Весклярова.\\n\\n\\n== Ролі в театрі ==\\nМикола Задорожний («Украдене щастя» Івана Франка).\\nКомандор («Камінний господар» Лесі Українки)\\n\\nПетро́ Юхи́мович Вескляро́в, ім'я при народженні Пінхас Хаїмович Весклер (9 червня 1911(19110609), Тальне, Уманський повіт, Київська губернія, Російська імперія — 5 січня 1994, Київ) — український актор і телеведучий. Заслужений артист Української РСР (1973). Більш відомий під творчим псевдонімом «Дід Панас».\\n\\n\\n== Життєпис ==\\nНародився 9 червня 1911 року в райцентрі Тальне, що на Черкащині. \\nПрізвище Петра Юхимовича зазнало змін під час війни з нацизмом: від єврейського Векслер до Вескляров. Це сталося під час перебування в нацистському фільтраційному таборі, щоб приховати єврейське походження.\\nПрацював на київській залізниці, де організував театральний гурток, згодом його відправляють до Луцька, у Волинський обласний музично-драматичний театр ім. Тараса Шевченка, де він працював до 1959 року. Там зіграв чимало ролей: Миколу Задорожнього з  «Украденого щастя», Командора з «Камінного господаря», Монтанеллі з «Овода» тощо. Талановитого, фактурного, харизматичного актора помітили кінорежисери та почали запрошувати на зйомки у фільмах. Згодом Вескляров переїздить до столиці, де активно знімається у багатьох фільмах. Серед них: «Олекса Довбуш», «Гадюка», «Циган», «Іванна», «Вій», «Забудьте слово смерть» тощо\\n\\n. Згодом Вескляров переїздить до столиці, де активно знімається у багатьох фільмах. Серед них: «Олекса Довбуш», «Гадюка», «Циган», «Іванна», «Вій», «Забудьте слово смерть» тощо. Відзнявся у приблизно 50 фільмах. Проте найбільше запам'ятався малечі та старшому глядачеві як казкар Дідусь Панас. Українська вишиванка Весклярова часом дратувала керівництво телебачення, його подекуди звинувачували в націоналізмі, а в 1970-х рр. кілька разів навіть намагалися замінити. Але від цієї ідеї довелося відмовитися під тиском обурених телеглядачів, які засипали студію Довженка та дирекцію УТ листами з проханнями повернути дідуся Панаса на екран і він повертався. Відданий українець, який ніколи не зраджував своєї мови та вишиванки, неодноразово звинувачувався у націоналізмі.\\nПетро Юхимович помер 5 січня 1994 році, прах похований у колумбарії Байкового цвинтаря міста Києва.\\n\\n\\n== Хронологія ==\\n1932—1940 — актор Черкаського робітничо-селянського театру, начальник та художній керівник клубу на станції Гребінка.\\n1941 — призваний у військовий театр Південно-Західного фронту, потрапив у полон, але втік. Згодом потрапив до окупованого гітлерівцями Києва, влаштувався на роботу на залізниці, де організував драматичний гурток\\n\\nPetro Yukhymovych Vesklyarov (Ukrainian: Вескляров Петро Юхимович) (June 10 [O.S. May 28] 1911 in Talne, Ukraine – January 5, 1994 in Kyiv) was a Ukrainian theater and television actor. He was also known by the nickname Did Panas (Grandpa Panas, Ukrainian: дід Панас).\\nBetween 1932 and 1940, Vesklyarov was an actor in a travelling workers' theatre, and between 1946 and 1959 he performed at the Taras Shevchenko Musical-Drama Theatre in Lutsk, Volyn. Between 1959 and 1982 Veslklyarov worked in the Dovzhenko Film Studios, appearing in a number of films. He starred in the 1959 drama film Ivanna and appeared in the 1970 comedy film Two Days of Miracles. During this time (1964-1986) he appeared as the character \\\"Дід Панас\\\" (Grandpa Panas) in the Ukrainian television series \\\"На добраніч, діти\\\"  (Goodnight, children).In 1973, he was awarded the title Meritorious Artist of the Ukrainian SSR.\\n\\n\\n== Commemoration ==\\nHe was buried in the columbarium of the Baikove cemetery. The widow left for the United States, before handing over the films with the recordings of \\\"Grandpa Panas\\\" to the Kapranov brothers.In 2019, a memorial plaque was installed on the premises of the Talne school, where the house where Petro Veskliarov was born stood. In 2022, in Talne, Cherkasy region, Krylov Street became Veskliarov Street.\\n\\n\\n== References ==\\n\\n\\n== External links ==\\nPetro Vesklyarov at IMDb\"\n",
      "}\n",
      "\u001b[32;1m\u001b[1;3m[llm/start]\u001b[0m \u001b[1m[1:chain:RetrievalQA > 3:chain:StuffDocumentsChain > 4:chain:LLMChain > 5:llm:AzureChatOpenAI] Entering LLM run with input:\n",
      "\u001b[0m{\n",
      "  \"prompts\": [\n",
      "    \"Human: Use the following pieces of context to answer the question at the end. Please provide a short single-sentence summary answer only. If you don't know the answer or if it's not present in given context, don't try to make up an answer.\\nContext: .\\n1941 — призваний у військовий театр Південно-Західного фронту, потрапив у полон, але втік. Згодом потрапив до окупованого гітлерівцями Києва, влаштувався на роботу на залізниці, де організував драматичний гурток. 1946 року був скерований до Луцька — у Волинський український музично-драматичний театр імені Тараса Шевченка, де працював до 1959-го.\\nУ Луцьку одружився із секретаркою театру Галиною, де народився його син Богдан.1959—1982 — на Київській кіностудії художніх фільмів імені Олександра Довженка.\\nЗ 1962 р. у ролі діда Панаса розповідав на Українському радіо «вечірню казку» для дітей (перед тим Вескляров працював у цій ролі на підміні іншого актора, якого згодом замінив цілком).1964—1986 — у ролі діда Панаса вів на Українському телебаченні програму «На добраніч, діти».\\n\\n\\n== Вшанування пам'яті ==\\nПохований у колумбарії Байкового кладовища. Вдова виїхала до США, перед тим передавши кіноплівки із записами «діда Панаса» братам Капрановим.\\n\\n2019 року на приміщенні тальнівської школи, на місці якої стояв будинок, де народився Петро Вескляров, встановлено пам'ятну дошку.\\nУ 2022 році у Тальному на Черкащині вулиця Крилова стала вулицею Весклярова.\\n\\n\\n== Ролі в театрі ==\\nМикола Задорожний («Украдене щастя» Івана Франка).\\nКомандор («Камінний господар» Лесі Українки)\\n\\nПетро́ Юхи́мович Вескляро́в, ім'я при народженні Пінхас Хаїмович Весклер (9 червня 1911(19110609), Тальне, Уманський повіт, Київська губернія, Російська імперія — 5 січня 1994, Київ) — український актор і телеведучий. Заслужений артист Української РСР (1973). Більш відомий під творчим псевдонімом «Дід Панас».\\n\\n\\n== Життєпис ==\\nНародився 9 червня 1911 року в райцентрі Тальне, що на Черкащині. \\nПрізвище Петра Юхимовича зазнало змін під час війни з нацизмом: від єврейського Векслер до Вескляров. Це сталося під час перебування в нацистському фільтраційному таборі, щоб приховати єврейське походження.\\nПрацював на київській залізниці, де організував театральний гурток, згодом його відправляють до Луцька, у Волинський обласний музично-драматичний театр ім. Тараса Шевченка, де він працював до 1959 року. Там зіграв чимало ролей: Миколу Задорожнього з  «Украденого щастя», Командора з «Камінного господаря», Монтанеллі з «Овода» тощо. Талановитого, фактурного, харизматичного актора помітили кінорежисери та почали запрошувати на зйомки у фільмах. Згодом Вескляров переїздить до столиці, де активно знімається у багатьох фільмах. Серед них: «Олекса Довбуш», «Гадюка», «Циган», «Іванна», «Вій», «Забудьте слово смерть» тощо\\n\\n. Згодом Вескляров переїздить до столиці, де активно знімається у багатьох фільмах. Серед них: «Олекса Довбуш», «Гадюка», «Циган», «Іванна», «Вій», «Забудьте слово смерть» тощо. Відзнявся у приблизно 50 фільмах. Проте найбільше запам'ятався малечі та старшому глядачеві як казкар Дідусь Панас. Українська вишиванка Весклярова часом дратувала керівництво телебачення, його подекуди звинувачували в націоналізмі, а в 1970-х рр. кілька разів навіть намагалися замінити. Але від цієї ідеї довелося відмовитися під тиском обурених телеглядачів, які засипали студію Довженка та дирекцію УТ листами з проханнями повернути дідуся Панаса на екран і він повертався. Відданий українець, який ніколи не зраджував своєї мови та вишиванки, неодноразово звинувачувався у націоналізмі.\\nПетро Юхимович помер 5 січня 1994 році, прах похований у колумбарії Байкового цвинтаря міста Києва.\\n\\n\\n== Хронологія ==\\n1932—1940 — актор Черкаського робітничо-селянського театру, начальник та художній керівник клубу на станції Гребінка.\\n1941 — призваний у військовий театр Південно-Західного фронту, потрапив у полон, але втік. Згодом потрапив до окупованого гітлерівцями Києва, влаштувався на роботу на залізниці, де організував драматичний гурток\\n\\nPetro Yukhymovych Vesklyarov (Ukrainian: Вескляров Петро Юхимович) (June 10 [O.S. May 28] 1911 in Talne, Ukraine – January 5, 1994 in Kyiv) was a Ukrainian theater and television actor. He was also known by the nickname Did Panas (Grandpa Panas, Ukrainian: дід Панас).\\nBetween 1932 and 1940, Vesklyarov was an actor in a travelling workers' theatre, and between 1946 and 1959 he performed at the Taras Shevchenko Musical-Drama Theatre in Lutsk, Volyn. Between 1959 and 1982 Veslklyarov worked in the Dovzhenko Film Studios, appearing in a number of films. He starred in the 1959 drama film Ivanna and appeared in the 1970 comedy film Two Days of Miracles. During this time (1964-1986) he appeared as the character \\\"Дід Панас\\\" (Grandpa Panas) in the Ukrainian television series \\\"На добраніч, діти\\\"  (Goodnight, children).In 1973, he was awarded the title Meritorious Artist of the Ukrainian SSR.\\n\\n\\n== Commemoration ==\\nHe was buried in the columbarium of the Baikove cemetery. The widow left for the United States, before handing over the films with the recordings of \\\"Grandpa Panas\\\" to the Kapranov brothers.In 2019, a memorial plaque was installed on the premises of the Talne school, where the house where Petro Veskliarov was born stood. In 2022, in Talne, Cherkasy region, Krylov Street became Veskliarov Street.\\n\\n\\n== References ==\\n\\n\\n== External links ==\\nPetro Vesklyarov at IMDb\\nQuestion: Хто такий дід Панас?\\nHelpful Answer:\"\n",
      "  ]\n",
      "}\n",
      "\u001b[36;1m\u001b[1;3m[llm/end]\u001b[0m \u001b[1m[1:chain:RetrievalQA > 3:chain:StuffDocumentsChain > 4:chain:LLMChain > 5:llm:AzureChatOpenAI] [1.98s] Exiting LLM run with output:\n",
      "\u001b[0m{\n",
      "  \"generations\": [\n",
      "    [\n",
      "      {\n",
      "        \"text\": \"Дід Панас - це творчий псевдонім українського актора та телеведучого Петра Юхимовича Весклярова, який відомий своїми ролями в театрі та кіно, а також як ведучий програми \\\"На добраніч, діти\\\" та казкар.\",\n",
      "        \"generation_info\": {\n",
      "          \"finish_reason\": \"stop\"\n",
      "        },\n",
      "        \"type\": \"ChatGeneration\",\n",
      "        \"message\": {\n",
      "          \"lc\": 1,\n",
      "          \"type\": \"constructor\",\n",
      "          \"id\": [\n",
      "            \"langchain\",\n",
      "            \"schema\",\n",
      "            \"messages\",\n",
      "            \"AIMessage\"\n",
      "          ],\n",
      "          \"kwargs\": {\n",
      "            \"content\": \"Дід Панас - це творчий псевдонім українського актора та телеведучого Петра Юхимовича Весклярова, який відомий своїми ролями в театрі та кіно, а також як ведучий програми \\\"На добраніч, діти\\\" та казкар.\",\n",
      "            \"additional_kwargs\": {}\n",
      "          }\n",
      "        }\n",
      "      }\n",
      "    ]\n",
      "  ],\n",
      "  \"llm_output\": {\n",
      "    \"token_usage\": {\n",
      "      \"prompt_tokens\": 2726,\n",
      "      \"completion_tokens\": 117,\n",
      "      \"total_tokens\": 2843\n",
      "    },\n",
      "    \"model_name\": \"gpt-35-turbo\",\n",
      "    \"system_fingerprint\": \"\"\n",
      "  },\n",
      "  \"run\": null\n",
      "}\n",
      "\u001b[36;1m\u001b[1;3m[chain/end]\u001b[0m \u001b[1m[1:chain:RetrievalQA > 3:chain:StuffDocumentsChain > 4:chain:LLMChain] [1.99s] Exiting Chain run with output:\n",
      "\u001b[0m{\n",
      "  \"text\": \"Дід Панас - це творчий псевдонім українського актора та телеведучого Петра Юхимовича Весклярова, який відомий своїми ролями в театрі та кіно, а також як ведучий програми \\\"На добраніч, діти\\\" та казкар.\"\n",
      "}\n",
      "\u001b[36;1m\u001b[1;3m[chain/end]\u001b[0m \u001b[1m[1:chain:RetrievalQA > 3:chain:StuffDocumentsChain] [1.99s] Exiting Chain run with output:\n",
      "\u001b[0m{\n",
      "  \"output_text\": \"Дід Панас - це творчий псевдонім українського актора та телеведучого Петра Юхимовича Весклярова, який відомий своїми ролями в театрі та кіно, а також як ведучий програми \\\"На добраніч, діти\\\" та казкар.\"\n",
      "}\n",
      "\u001b[36;1m\u001b[1;3m[chain/end]\u001b[0m \u001b[1m[1:chain:RetrievalQA] [2.07s] Exiting Chain run with output:\n",
      "\u001b[0m{\n",
      "  \"result\": \"Дід Панас - це творчий псевдонім українського актора та телеведучого Петра Юхимовича Весклярова, який відомий своїми ролями в театрі та кіно, а також як ведучий програми \\\"На добраніч, діти\\\" та казкар.\"\n",
      "}\n"
     ]
    }
   ],
   "source": [
    "with debug_langchain():\n",
    "    question = \"Хто такий дід Панас?\"\n",
    "    # qa_chain({\"query\": question})\n",
    "    qa_chain.run(question)"
   ],
   "metadata": {
    "collapsed": false,
    "ExecuteTime": {
     "end_time": "2024-01-25T14:15:01.383980Z",
     "start_time": "2024-01-25T14:14:59.301612Z"
    }
   },
   "id": "cebf4e7f72d0a75b"
  },
  {
   "cell_type": "code",
   "execution_count": 29,
   "outputs": [
    {
     "name": "stdout",
     "output_type": "stream",
     "text": [
      "\u001b[32;1m\u001b[1;3m[chain/start]\u001b[0m \u001b[1m[1:chain:RetrievalQA] Entering Chain run with input:\n",
      "\u001b[0m{\n",
      "  \"query\": \"Що таке розпізнавання іменованих сутностей?\"\n",
      "}\n",
      "\u001b[32;1m\u001b[1;3m[chain/start]\u001b[0m \u001b[1m[1:chain:RetrievalQA > 3:chain:StuffDocumentsChain] Entering Chain run with input:\n",
      "\u001b[0m[inputs]\n",
      "\u001b[32;1m\u001b[1;3m[chain/start]\u001b[0m \u001b[1m[1:chain:RetrievalQA > 3:chain:StuffDocumentsChain > 4:chain:LLMChain] Entering Chain run with input:\n",
      "\u001b[0m{\n",
      "  \"question\": \"Що таке розпізнавання іменованих сутностей?\",\n",
      "  \"context\": \"У обробці природної мови зв'язування сутностей (англ. Entity Linking), яке також називають зв'язування іменованих сутностей (ЗІС), розпізнавання іменованих сутностей (РІС), розпізнавання і неоднозначності іменованих сутностей (РНІС) або нормалізація іменованих сутностей (НІС), — це присвоєння унікальної ідентичності об'єктам (наприклад, відомим особам, місцям чи компаніям), що згадуються у тексті. Наприклад, розглянемо речення «Дніпро — річка України». Ідея полягає в тому, щоб визначити, що «Дніпро» належить до річки Дніпро, а не до Дніпро-арена чи будь-якої іншої організації, яку можна назвати «Дніпро». Зв'язування сутностей відрізняється від розпізнавання іменованих сутностей (РІС) тим, що РІС ідентифікує появу іменованої сутності в тексті, але не визначає, що саме це за сутність (див. Відмінності від інших технік).\\n\\n\\n== Вступ ==\\nУ зв'язуванні сутностей слова, що цікавлять (імена осіб, місцеположення та компанії) відображаються з вхідного тексту до відповідних унікальних сутностей у цільовій базі знань. Слова, що представляють інтерес, називаються названими сутностями (НС), згадками або поверхневими формами\\n\\n. Перша фаза, як правило, зводиться до проблеми сегментації: імена визначаються як суміжні проміжки токенів, без вкладеності, таким чином «Банк Америки» є єдиним ім'ям, попри те, що всередині цього імені підрядок «Америки» є іншим ім'ям. Задача сегментування є формально подібною до поверхнево-синтаксичного аналізу. Другий етап вимагає вибору онтології, за допомогою якої можна організувати категорії речей.\\nЧасові вирази та деякі числові вирази (наприклад, гроші, відсотки тощо) також можуть розглядатися як іменовані сутності в контексті завдання РІС. Хоча деякі приклади таких типів є гарними прикладами жорстких позначень (наприклад, 2001 рік), є також багато недійсних (наприклад, я беру відпустки в «червні»). У першому випадку 2001 рік відноситься до 2001-го року григоріанського календаря. У другому випадку місяць червень може стосуватися місяця невизначеного року (минулий червень, наступний червень, кожен червень тощо). Можна стверджувати, що визначення іменованої сутності в таких випадках втрачається з практичних причин. Таким чином, термін іменована сутність не є строгим і часто має пояснюватися в контексті, в якому він використовується.У літературі були запропоновані певні ієрархії типів іменованих сутностей\\n\\nРозпізнавання іменованих сутностей (РІС) (також відоме як ідентифікація об'єктної сутності, фрагментація об'єктної сутності та видобуток об'єктної сутності) — це підзадача видобування інформації, яка намагається знайти і класифікувати іменовані сутності в неструктурованому тексті в заздалегідь визначені категорії, такі як імена людей, організації, місця, медичні коди, час, кількості, грошові значення, відсотки тощо.\\n\\nБільшість досліджень у системах РІС було структуровано як отримання не коментованого блоку тексту, такого як:  І створення коментованого блоку тексту, який виділяє імена об'єктів:\\n\\nУ цьому прикладі було виявлено та класифіковано ім'я особи, що складається з одного токену, назва компанії з двох токенів та часового виразу.\\nСучасні системи РІС для англійської мови показують продуктивність близьку до людської. Наприклад, найкраща система, що коментувала MUC-7, набрала 93,39 % оцінки F1, а анотатори — 97,60 % і 96,95 %.\\n\\n\\n== Платформи розпізнавання іменованих сутностей ==\\nДо визначних платформ РІС належать:\\n\\nGATE підтримує РІС для багатьох мов і доменів, які використовуються через графічний інтерфейс і Java API.\\nOpenNLP містить в собі засноване на правилах і статистичне розпізнавання іменованих об'єктів.\\nSpaCy має швидке статистичне РІС, а також візуалізатор іменованих сутностей з відкритим вихідним кодом\\n\\n.\\nOpenNLP містить в собі засноване на правилах і статистичне розпізнавання іменованих об'єктів.\\nSpaCy має швидке статистичне РІС, а також візуалізатор іменованих сутностей з відкритим вихідним кодом.\\n\\n\\n== Визначення проблеми ==\\nУ виразі іменована сутність, слово «іменована» обмежує завдання для тих сутностей, для яких можна поставити у відповідність один або кілька рядків, таких як слова або фрази, послідовно для деяких референтів. Це тісно пов'язане з жорсткими позначеннями, визначеними Кріпке, хоча на практиці РІС має справу з багатьма іменами та референтами, які не є філософськи «жорсткими». Наприклад, автомобільна компанія, створена Генрі Фордом в 1903 році, може називатися Ford або Ford Motor Company, хоча «Ford» також може посилатися на багато інших суб'єктів (див. Ford). Жорсткі позначення включають власні імена, а також назви певних біологічних видів і речовин, за виключенням займенників (наприклад, «він», див. вирішення кореферентності), описів референтів за їх властивостями (див. також De dicto і de re), а також назв видів речей, на відміну від об'єктів (наприклад, «Банк»).\\nПовне розпізнавання іменованої сутності часто розбивається, концептуально і, можливо, також в реалізації, як дві різні задачі: виявлення імен та класифікація їх по типу сутностей (наприклад, особи, організації, місця та інші)\"\n",
      "}\n",
      "\u001b[32;1m\u001b[1;3m[llm/start]\u001b[0m \u001b[1m[1:chain:RetrievalQA > 3:chain:StuffDocumentsChain > 4:chain:LLMChain > 5:llm:AzureChatOpenAI] Entering LLM run with input:\n",
      "\u001b[0m{\n",
      "  \"prompts\": [\n",
      "    \"Human: Use the following pieces of context to answer the question at the end. Please provide a short single-sentence summary answer only. If you don't know the answer or if it's not present in given context, don't try to make up an answer.\\nContext: У обробці природної мови зв'язування сутностей (англ. Entity Linking), яке також називають зв'язування іменованих сутностей (ЗІС), розпізнавання іменованих сутностей (РІС), розпізнавання і неоднозначності іменованих сутностей (РНІС) або нормалізація іменованих сутностей (НІС), — це присвоєння унікальної ідентичності об'єктам (наприклад, відомим особам, місцям чи компаніям), що згадуються у тексті. Наприклад, розглянемо речення «Дніпро — річка України». Ідея полягає в тому, щоб визначити, що «Дніпро» належить до річки Дніпро, а не до Дніпро-арена чи будь-якої іншої організації, яку можна назвати «Дніпро». Зв'язування сутностей відрізняється від розпізнавання іменованих сутностей (РІС) тим, що РІС ідентифікує появу іменованої сутності в тексті, але не визначає, що саме це за сутність (див. Відмінності від інших технік).\\n\\n\\n== Вступ ==\\nУ зв'язуванні сутностей слова, що цікавлять (імена осіб, місцеположення та компанії) відображаються з вхідного тексту до відповідних унікальних сутностей у цільовій базі знань. Слова, що представляють інтерес, називаються названими сутностями (НС), згадками або поверхневими формами\\n\\n. Перша фаза, як правило, зводиться до проблеми сегментації: імена визначаються як суміжні проміжки токенів, без вкладеності, таким чином «Банк Америки» є єдиним ім'ям, попри те, що всередині цього імені підрядок «Америки» є іншим ім'ям. Задача сегментування є формально подібною до поверхнево-синтаксичного аналізу. Другий етап вимагає вибору онтології, за допомогою якої можна організувати категорії речей.\\nЧасові вирази та деякі числові вирази (наприклад, гроші, відсотки тощо) також можуть розглядатися як іменовані сутності в контексті завдання РІС. Хоча деякі приклади таких типів є гарними прикладами жорстких позначень (наприклад, 2001 рік), є також багато недійсних (наприклад, я беру відпустки в «червні»). У першому випадку 2001 рік відноситься до 2001-го року григоріанського календаря. У другому випадку місяць червень може стосуватися місяця невизначеного року (минулий червень, наступний червень, кожен червень тощо). Можна стверджувати, що визначення іменованої сутності в таких випадках втрачається з практичних причин. Таким чином, термін іменована сутність не є строгим і часто має пояснюватися в контексті, в якому він використовується.У літературі були запропоновані певні ієрархії типів іменованих сутностей\\n\\nРозпізнавання іменованих сутностей (РІС) (також відоме як ідентифікація об'єктної сутності, фрагментація об'єктної сутності та видобуток об'єктної сутності) — це підзадача видобування інформації, яка намагається знайти і класифікувати іменовані сутності в неструктурованому тексті в заздалегідь визначені категорії, такі як імена людей, організації, місця, медичні коди, час, кількості, грошові значення, відсотки тощо.\\n\\nБільшість досліджень у системах РІС було структуровано як отримання не коментованого блоку тексту, такого як:  І створення коментованого блоку тексту, який виділяє імена об'єктів:\\n\\nУ цьому прикладі було виявлено та класифіковано ім'я особи, що складається з одного токену, назва компанії з двох токенів та часового виразу.\\nСучасні системи РІС для англійської мови показують продуктивність близьку до людської. Наприклад, найкраща система, що коментувала MUC-7, набрала 93,39 % оцінки F1, а анотатори — 97,60 % і 96,95 %.\\n\\n\\n== Платформи розпізнавання іменованих сутностей ==\\nДо визначних платформ РІС належать:\\n\\nGATE підтримує РІС для багатьох мов і доменів, які використовуються через графічний інтерфейс і Java API.\\nOpenNLP містить в собі засноване на правилах і статистичне розпізнавання іменованих об'єктів.\\nSpaCy має швидке статистичне РІС, а також візуалізатор іменованих сутностей з відкритим вихідним кодом\\n\\n.\\nOpenNLP містить в собі засноване на правилах і статистичне розпізнавання іменованих об'єктів.\\nSpaCy має швидке статистичне РІС, а також візуалізатор іменованих сутностей з відкритим вихідним кодом.\\n\\n\\n== Визначення проблеми ==\\nУ виразі іменована сутність, слово «іменована» обмежує завдання для тих сутностей, для яких можна поставити у відповідність один або кілька рядків, таких як слова або фрази, послідовно для деяких референтів. Це тісно пов'язане з жорсткими позначеннями, визначеними Кріпке, хоча на практиці РІС має справу з багатьма іменами та референтами, які не є філософськи «жорсткими». Наприклад, автомобільна компанія, створена Генрі Фордом в 1903 році, може називатися Ford або Ford Motor Company, хоча «Ford» також може посилатися на багато інших суб'єктів (див. Ford). Жорсткі позначення включають власні імена, а також назви певних біологічних видів і речовин, за виключенням займенників (наприклад, «він», див. вирішення кореферентності), описів референтів за їх властивостями (див. також De dicto і de re), а також назв видів речей, на відміну від об'єктів (наприклад, «Банк»).\\nПовне розпізнавання іменованої сутності часто розбивається, концептуально і, можливо, також в реалізації, як дві різні задачі: виявлення імен та класифікація їх по типу сутностей (наприклад, особи, організації, місця та інші)\\nQuestion: Що таке розпізнавання іменованих сутностей?\\nHelpful Answer:\"\n",
      "  ]\n",
      "}\n",
      "\u001b[36;1m\u001b[1;3m[llm/end]\u001b[0m \u001b[1m[1:chain:RetrievalQA > 3:chain:StuffDocumentsChain > 4:chain:LLMChain > 5:llm:AzureChatOpenAI] [2.75s] Exiting LLM run with output:\n",
      "\u001b[0m{\n",
      "  \"generations\": [\n",
      "    [\n",
      "      {\n",
      "        \"text\": \"Розпізнавання іменованих сутностей (РІС) - це підзадача видобування інформації, яка намагається знайти і класифікувати іменовані сутності в неструктурованому тексті в заздалегідь визначені категорії, такі як імена людей, організації, місця, медичні коди, час, кількості, грошові значення, відсотки тощо.\",\n",
      "        \"generation_info\": {\n",
      "          \"finish_reason\": \"stop\"\n",
      "        },\n",
      "        \"type\": \"ChatGeneration\",\n",
      "        \"message\": {\n",
      "          \"lc\": 1,\n",
      "          \"type\": \"constructor\",\n",
      "          \"id\": [\n",
      "            \"langchain\",\n",
      "            \"schema\",\n",
      "            \"messages\",\n",
      "            \"AIMessage\"\n",
      "          ],\n",
      "          \"kwargs\": {\n",
      "            \"content\": \"Розпізнавання іменованих сутностей (РІС) - це підзадача видобування інформації, яка намагається знайти і класифікувати іменовані сутності в неструктурованому тексті в заздалегідь визначені категорії, такі як імена людей, організації, місця, медичні коди, час, кількості, грошові значення, відсотки тощо.\",\n",
      "            \"additional_kwargs\": {}\n",
      "          }\n",
      "        }\n",
      "      }\n",
      "    ]\n",
      "  ],\n",
      "  \"llm_output\": {\n",
      "    \"token_usage\": {\n",
      "      \"prompt_tokens\": 2963,\n",
      "      \"completion_tokens\": 177,\n",
      "      \"total_tokens\": 3140\n",
      "    },\n",
      "    \"model_name\": \"gpt-35-turbo\",\n",
      "    \"system_fingerprint\": \"\"\n",
      "  },\n",
      "  \"run\": null\n",
      "}\n",
      "\u001b[36;1m\u001b[1;3m[chain/end]\u001b[0m \u001b[1m[1:chain:RetrievalQA > 3:chain:StuffDocumentsChain > 4:chain:LLMChain] [2.75s] Exiting Chain run with output:\n",
      "\u001b[0m{\n",
      "  \"text\": \"Розпізнавання іменованих сутностей (РІС) - це підзадача видобування інформації, яка намагається знайти і класифікувати іменовані сутності в неструктурованому тексті в заздалегідь визначені категорії, такі як імена людей, організації, місця, медичні коди, час, кількості, грошові значення, відсотки тощо.\"\n",
      "}\n",
      "\u001b[36;1m\u001b[1;3m[chain/end]\u001b[0m \u001b[1m[1:chain:RetrievalQA > 3:chain:StuffDocumentsChain] [2.75s] Exiting Chain run with output:\n",
      "\u001b[0m{\n",
      "  \"output_text\": \"Розпізнавання іменованих сутностей (РІС) - це підзадача видобування інформації, яка намагається знайти і класифікувати іменовані сутності в неструктурованому тексті в заздалегідь визначені категорії, такі як імена людей, організації, місця, медичні коди, час, кількості, грошові значення, відсотки тощо.\"\n",
      "}\n",
      "\u001b[36;1m\u001b[1;3m[chain/end]\u001b[0m \u001b[1m[1:chain:RetrievalQA] [2.84s] Exiting Chain run with output:\n",
      "\u001b[0m{\n",
      "  \"result\": \"Розпізнавання іменованих сутностей (РІС) - це підзадача видобування інформації, яка намагається знайти і класифікувати іменовані сутності в неструктурованому тексті в заздалегідь визначені категорії, такі як імена людей, організації, місця, медичні коди, час, кількості, грошові значення, відсотки тощо.\"\n",
      "}\n"
     ]
    }
   ],
   "source": [
    "with debug_langchain():\n",
    "    question = \"Що таке розпізнавання іменованих сутностей?\"\n",
    "    # qa_chain({\"query\": question})\n",
    "    qa_chain.run(question)"
   ],
   "metadata": {
    "collapsed": false,
    "ExecuteTime": {
     "end_time": "2024-01-25T14:15:04.233053Z",
     "start_time": "2024-01-25T14:15:01.385522Z"
    }
   },
   "id": "5cf54f8482ebfcad"
  },
  {
   "cell_type": "markdown",
   "source": [
    "## Modify the chain to use custom prompt in English and context compression"
   ],
   "metadata": {
    "collapsed": false
   },
   "id": "ed97764cd7f430ec"
  },
  {
   "cell_type": "code",
   "execution_count": 30,
   "outputs": [],
   "source": [
    "# llama\n",
    "custom_retriever_prompt = \"\"\"Given the following question and context, extract any part of the context AS IS that is relevant to answer the question. If none of the context is relevant return NO_OUTPUT. Remember, DO NOT edit the extracted parts of the context.\n",
    "Question: {question}\n",
    "Context: {context}\n",
    "Answer:\n",
    "\"\"\"\n",
    "custom_retriever_prompt_template = PromptTemplate(\n",
    "    template=custom_retriever_prompt, input_variables=[\"question\", \"context\"]\n",
    ")"
   ],
   "metadata": {
    "collapsed": false,
    "ExecuteTime": {
     "end_time": "2024-01-25T14:15:04.237875Z",
     "start_time": "2024-01-25T14:15:04.232646Z"
    }
   },
   "id": "313581bcedf72795"
  },
  {
   "cell_type": "code",
   "execution_count": 31,
   "outputs": [],
   "source": [
    "from langchain.retrievers import ContextualCompressionRetriever\n",
    "from langchain.retrievers.document_compressors import LLMChainExtractor"
   ],
   "metadata": {
    "collapsed": false,
    "ExecuteTime": {
     "end_time": "2024-01-25T14:15:04.436597Z",
     "start_time": "2024-01-25T14:15:04.238992Z"
    }
   },
   "id": "261f7c6241c1ba0"
  },
  {
   "cell_type": "code",
   "execution_count": 32,
   "outputs": [],
   "source": [
    "k = 5\n",
    "\n",
    "base_compressor = LLMChainExtractor.from_llm(llm=llm, prompt=custom_retriever_prompt_template)\n",
    "# base_retriever = doc_store.as_retriever()\n",
    "base_retriever = doc_store.as_retriever(search_kwargs={\"k\": k})\n",
    "\n",
    "compression_retriever = ContextualCompressionRetriever(\n",
    "    base_compressor=base_compressor,\n",
    "    base_retriever=base_retriever,\n",
    "    k=k,\n",
    ")"
   ],
   "metadata": {
    "collapsed": false,
    "ExecuteTime": {
     "end_time": "2024-01-25T14:15:04.443351Z",
     "start_time": "2024-01-25T14:15:04.437129Z"
    }
   },
   "id": "1b95b70bd19173c2"
  },
  {
   "cell_type": "code",
   "execution_count": 33,
   "outputs": [],
   "source": [
    "qa_chain = RetrievalQA.from_chain_type(\n",
    "    llm=llm,\n",
    "    chain_type=\"stuff\",  # \"stuff\", \"map_reduce\", \"map_rerank\", and \"refine\".\n",
    "    retriever=compression_retriever,\n",
    "    return_source_documents=False,\n",
    "    chain_type_kwargs={\"prompt\": custom_prompt_template},\n",
    ")"
   ],
   "metadata": {
    "collapsed": false,
    "ExecuteTime": {
     "end_time": "2024-01-25T14:15:04.443616Z",
     "start_time": "2024-01-25T14:15:04.440235Z"
    }
   },
   "id": "84f534e73d1f701d"
  },
  {
   "cell_type": "code",
   "execution_count": 34,
   "outputs": [
    {
     "name": "stdout",
     "output_type": "stream",
     "text": [
      "\u001b[32;1m\u001b[1;3m[chain/start]\u001b[0m \u001b[1m[1:chain:RetrievalQA] Entering Chain run with input:\n",
      "\u001b[0m{\n",
      "  \"query\": \"What is Gaussian kernel?\"\n",
      "}\n",
      "\u001b[32;1m\u001b[1;3m[chain/start]\u001b[0m \u001b[1m[1:chain:RetrievalQA > 2:retriever:Retriever > 4:chain:LLMChain] Entering Chain run with input:\n",
      "\u001b[0m{\n",
      "  \"question\": \"What is Gaussian kernel?\",\n",
      "  \"context\": \"9\\na feature map φsuch that the kernel Kdeﬁned above satisﬁes K(x,z) =\\nφ(x)Tφ(z)? Inthisparticularexample, theanswerisyes. Thiskernel iscalled\\ntheGaussian kernel , and corresponds to an inﬁnite dimensional feature\\nmapping φ. We will give a precise characterization about what propert ies\\na function Kneeds to satisfy so that it can be a valid kernel function that\\ncorresponds to some feature map φ.\\nNecessary conditions for valid kernels. Suppose for now that Kis\\nindeed a valid kernel corresponding to some feature mapping φ, and we will\\nﬁrst see what properties it satisﬁes. Now, consider some ﬁnit e set ofnpoints\\n(not necessarily the training set) {x(1),...,x(n)}, and let a square, n-by-n\\nmatrixKbe deﬁned so that its ( i,j)-entry is given by Kij=K(x(i),x(j)).\\nThis matrix is called the kernel matrix . Note that we’ve overloaded the\\nnotation and used Kto denote both the kernel function K(x,z) and the\\nkernel matrix K, due to their obvious close relationship.\\nNow, ifKis a valid kernel, then Kij=K(x(i),x(j)) =φ(x(i))Tφ(x(j)) =\\nφ(x(j))Tφ(x(i)) =K(x(j),x(i)) =Kji, andhence Kmustbesymmetric. More-\\nover, letting φk(x) denote the k-th coordinate of the vector φ(x), we ﬁnd that\\nfor any vector z, we have\\nzTKz=∑\\ni∑\\njziKijzj\\n=∑\\ni∑\\njziφ(x(i))Tφ(x(j))zj\\n=∑\\ni∑\\njzi∑\\nkφk(x(i))φk(x(j))zj\\n=∑\\nk∑\\ni∑\\njziφk(x(i))φk(x(j))zj\\n=∑\\nk(∑\\niziφk(x(i)))2\\n≥0.\\nThe second-to-last step uses the fact that∑\\ni,jaiaj= (∑\\niai)2forai=\\nziφk(x(i)). Sincezwas arbitrary, this shows that Kis positive semi-deﬁnite\\n(K≥0).\\nHence, we’ve shown that if Kis a valid kernel (i.e., if it corresponds to\\nsome feature mapping φ), then the corresponding kernel matrix K∈Rn×n\\nis symmetric positive semideﬁnite.\"\n",
      "}\n",
      "\u001b[32;1m\u001b[1;3m[llm/start]\u001b[0m \u001b[1m[1:chain:RetrievalQA > 2:retriever:Retriever > 4:chain:LLMChain > 5:llm:AzureChatOpenAI] Entering LLM run with input:\n",
      "\u001b[0m{\n",
      "  \"prompts\": [\n",
      "    \"Human: Given the following question and context, extract any part of the context AS IS that is relevant to answer the question. If none of the context is relevant return NO_OUTPUT. Remember, DO NOT edit the extracted parts of the context.\\nQuestion: What is Gaussian kernel?\\nContext: 9\\na feature map φsuch that the kernel Kdeﬁned above satisﬁes K(x,z) =\\nφ(x)Tφ(z)? Inthisparticularexample, theanswerisyes. Thiskernel iscalled\\ntheGaussian kernel , and corresponds to an inﬁnite dimensional feature\\nmapping φ. We will give a precise characterization about what propert ies\\na function Kneeds to satisfy so that it can be a valid kernel function that\\ncorresponds to some feature map φ.\\nNecessary conditions for valid kernels. Suppose for now that Kis\\nindeed a valid kernel corresponding to some feature mapping φ, and we will\\nﬁrst see what properties it satisﬁes. Now, consider some ﬁnit e set ofnpoints\\n(not necessarily the training set) {x(1),...,x(n)}, and let a square, n-by-n\\nmatrixKbe deﬁned so that its ( i,j)-entry is given by Kij=K(x(i),x(j)).\\nThis matrix is called the kernel matrix . Note that we’ve overloaded the\\nnotation and used Kto denote both the kernel function K(x,z) and the\\nkernel matrix K, due to their obvious close relationship.\\nNow, ifKis a valid kernel, then Kij=K(x(i),x(j)) =φ(x(i))Tφ(x(j)) =\\nφ(x(j))Tφ(x(i)) =K(x(j),x(i)) =Kji, andhence Kmustbesymmetric. More-\\nover, letting φk(x) denote the k-th coordinate of the vector φ(x), we ﬁnd that\\nfor any vector z, we have\\nzTKz=∑\\ni∑\\njziKijzj\\n=∑\\ni∑\\njziφ(x(i))Tφ(x(j))zj\\n=∑\\ni∑\\njzi∑\\nkφk(x(i))φk(x(j))zj\\n=∑\\nk∑\\ni∑\\njziφk(x(i))φk(x(j))zj\\n=∑\\nk(∑\\niziφk(x(i)))2\\n≥0.\\nThe second-to-last step uses the fact that∑\\ni,jaiaj= (∑\\niai)2forai=\\nziφk(x(i)). Sincezwas arbitrary, this shows that Kis positive semi-deﬁnite\\n(K≥0).\\nHence, we’ve shown that if Kis a valid kernel (i.e., if it corresponds to\\nsome feature mapping φ), then the corresponding kernel matrix K∈Rn×n\\nis symmetric positive semideﬁnite.\\nAnswer:\"\n",
      "  ]\n",
      "}\n"
     ]
    },
    {
     "name": "stderr",
     "output_type": "stream",
     "text": [
      "/opt/homebrew/Caskroom/miniforge/base/envs/llm-simple-QnA-example-1/lib/python3.10/site-packages/langchain/chains/llm.py:316: UserWarning: The predict_and_parse method is deprecated, instead pass an output parser directly to LLMChain.\n",
      "  warnings.warn(\n"
     ]
    },
    {
     "name": "stdout",
     "output_type": "stream",
     "text": [
      "\u001b[36;1m\u001b[1;3m[llm/end]\u001b[0m \u001b[1m[1:chain:RetrievalQA > 2:retriever:Retriever > 4:chain:LLMChain > 5:llm:AzureChatOpenAI] [352ms] Exiting LLM run with output:\n",
      "\u001b[0m{\n",
      "  \"generations\": [\n",
      "    [\n",
      "      {\n",
      "        \"text\": \"The Gaussian kernel is a valid kernel that corresponds to an infinite dimensional feature mapping φ.\",\n",
      "        \"generation_info\": {\n",
      "          \"finish_reason\": \"stop\"\n",
      "        },\n",
      "        \"type\": \"ChatGeneration\",\n",
      "        \"message\": {\n",
      "          \"lc\": 1,\n",
      "          \"type\": \"constructor\",\n",
      "          \"id\": [\n",
      "            \"langchain\",\n",
      "            \"schema\",\n",
      "            \"messages\",\n",
      "            \"AIMessage\"\n",
      "          ],\n",
      "          \"kwargs\": {\n",
      "            \"content\": \"The Gaussian kernel is a valid kernel that corresponds to an infinite dimensional feature mapping φ.\",\n",
      "            \"additional_kwargs\": {}\n",
      "          }\n",
      "        }\n",
      "      }\n",
      "    ]\n",
      "  ],\n",
      "  \"llm_output\": {\n",
      "    \"token_usage\": {\n",
      "      \"prompt_tokens\": 638,\n",
      "      \"completion_tokens\": 17,\n",
      "      \"total_tokens\": 655\n",
      "    },\n",
      "    \"model_name\": \"gpt-35-turbo\",\n",
      "    \"system_fingerprint\": \"\"\n",
      "  },\n",
      "  \"run\": null\n",
      "}\n",
      "\u001b[36;1m\u001b[1;3m[chain/end]\u001b[0m \u001b[1m[1:chain:RetrievalQA > 2:retriever:Retriever > 4:chain:LLMChain] [354ms] Exiting Chain run with output:\n",
      "\u001b[0m{\n",
      "  \"text\": \"The Gaussian kernel is a valid kernel that corresponds to an infinite dimensional feature mapping φ.\"\n",
      "}\n",
      "\u001b[32;1m\u001b[1;3m[chain/start]\u001b[0m \u001b[1m[1:chain:RetrievalQA > 2:retriever:Retriever > 6:chain:LLMChain] Entering Chain run with input:\n",
      "\u001b[0m{\n",
      "  \"question\": \"What is Gaussian kernel?\",\n",
      "  \"context\": \"11\\nApplication of kernel methods: We’ve seen the application of kernels\\nto linear regression. In the next part, we will introduce the support vector\\nmachines to which kernels can be directly applied. dwell too much longer on\\nithere. Infact, theideaofkernelshassigniﬁcantlybroade rapplicabilitythan\\nlinear regression and SVMs. Speciﬁcally, if you have any lear ning algorithm\\nthat you can write in terms of only inner products ⟨x,z⟩between input\\nattribute vectors, then by replacing this with K(x,z) whereKis a kernel,\\nyou can “magically” allow your algorithm to work eﬃciently i n the high\\ndimensional feature space corresponding to K. For instance, this kernel trick\\ncan be applied with the perceptron to derive a kernel percept ron algorithm.\\nMany of the algorithms that we’ll see later in this class will also be amenable\\nto this method, which has come to be known as the “kernel trick .”\\nPart VI\\nSupport Vector Machines\\nThis set of notes presents the Support Vector Machine (SVM) le arning al-\\ngorithm. SVMs are among the best (and many believe are indeed t he best)\\n“oﬀ-the-shelf” supervised learning algorithms. To tell th e SVM story, we’ll\\nneed to ﬁrst talk about margins and the idea of separating dat a with a large\\n“gap.” Next, we’ll talk about the optimal margin classiﬁer, w hich will lead\\nus into a digression on Lagrange duality. We’ll also see kern els, which give\\na way to apply SVMs eﬃciently in very high dimensional (such as inﬁnite-\\ndimensional) feature spaces, and ﬁnally, we’ll close oﬀ the story with the\\nSMO algorithm, which gives an eﬃcient implementation of SVMs .\\n2 Margins: Intuition\\nWe’ll start our story on SVMs by talking about margins. This se ction will\\ngive the intuitions about margins and about the “conﬁdence” of our predic-\\ntions; these ideas will be made formal in Section 4.\\nConsider logistic regression, where the probability p(y= 1|x;θ) is mod-\\neled byhθ(x) =g(θTx). We then predict “1” on an input xif and only if\\nhθ(x)≥0.5, or equivalently, if and only if θTx≥0. Consider a positive\\ntraining example ( y= 1). The larger θTxis, the larger also is hθ(x) =p(y=\\n1|x;θ), and thus also the higher our degree of “conﬁdence” that the label is 1.\\nThus, informally we can think of our prediction as being very conﬁdent that\"\n",
      "}\n",
      "\u001b[32;1m\u001b[1;3m[llm/start]\u001b[0m \u001b[1m[1:chain:RetrievalQA > 2:retriever:Retriever > 6:chain:LLMChain > 7:llm:AzureChatOpenAI] Entering LLM run with input:\n",
      "\u001b[0m{\n",
      "  \"prompts\": [\n",
      "    \"Human: Given the following question and context, extract any part of the context AS IS that is relevant to answer the question. If none of the context is relevant return NO_OUTPUT. Remember, DO NOT edit the extracted parts of the context.\\nQuestion: What is Gaussian kernel?\\nContext: 11\\nApplication of kernel methods: We’ve seen the application of kernels\\nto linear regression. In the next part, we will introduce the support vector\\nmachines to which kernels can be directly applied. dwell too much longer on\\nithere. Infact, theideaofkernelshassigniﬁcantlybroade rapplicabilitythan\\nlinear regression and SVMs. Speciﬁcally, if you have any lear ning algorithm\\nthat you can write in terms of only inner products ⟨x,z⟩between input\\nattribute vectors, then by replacing this with K(x,z) whereKis a kernel,\\nyou can “magically” allow your algorithm to work eﬃciently i n the high\\ndimensional feature space corresponding to K. For instance, this kernel trick\\ncan be applied with the perceptron to derive a kernel percept ron algorithm.\\nMany of the algorithms that we’ll see later in this class will also be amenable\\nto this method, which has come to be known as the “kernel trick .”\\nPart VI\\nSupport Vector Machines\\nThis set of notes presents the Support Vector Machine (SVM) le arning al-\\ngorithm. SVMs are among the best (and many believe are indeed t he best)\\n“oﬀ-the-shelf” supervised learning algorithms. To tell th e SVM story, we’ll\\nneed to ﬁrst talk about margins and the idea of separating dat a with a large\\n“gap.” Next, we’ll talk about the optimal margin classiﬁer, w hich will lead\\nus into a digression on Lagrange duality. We’ll also see kern els, which give\\na way to apply SVMs eﬃciently in very high dimensional (such as inﬁnite-\\ndimensional) feature spaces, and ﬁnally, we’ll close oﬀ the story with the\\nSMO algorithm, which gives an eﬃcient implementation of SVMs .\\n2 Margins: Intuition\\nWe’ll start our story on SVMs by talking about margins. This se ction will\\ngive the intuitions about margins and about the “conﬁdence” of our predic-\\ntions; these ideas will be made formal in Section 4.\\nConsider logistic regression, where the probability p(y= 1|x;θ) is mod-\\neled byhθ(x) =g(θTx). We then predict “1” on an input xif and only if\\nhθ(x)≥0.5, or equivalently, if and only if θTx≥0. Consider a positive\\ntraining example ( y= 1). The larger θTxis, the larger also is hθ(x) =p(y=\\n1|x;θ), and thus also the higher our degree of “conﬁdence” that the label is 1.\\nThus, informally we can think of our prediction as being very conﬁdent that\\nAnswer:\"\n",
      "  ]\n",
      "}\n"
     ]
    },
    {
     "name": "stderr",
     "output_type": "stream",
     "text": [
      "/opt/homebrew/Caskroom/miniforge/base/envs/llm-simple-QnA-example-1/lib/python3.10/site-packages/langchain/chains/llm.py:316: UserWarning: The predict_and_parse method is deprecated, instead pass an output parser directly to LLMChain.\n",
      "  warnings.warn(\n"
     ]
    },
    {
     "name": "stdout",
     "output_type": "stream",
     "text": [
      "\u001b[36;1m\u001b[1;3m[llm/end]\u001b[0m \u001b[1m[1:chain:RetrievalQA > 2:retriever:Retriever > 6:chain:LLMChain > 7:llm:AzureChatOpenAI] [983ms] Exiting LLM run with output:\n",
      "\u001b[0m{\n",
      "  \"generations\": [\n",
      "    [\n",
      "      {\n",
      "        \"text\": \"Kernels can be directly applied to support vector machines. Kernels have a significantly broader applicability than linear regression and SVMs. Kernels can be applied with the perceptron to derive a kernel perceptron algorithm. Kernels give a way to apply SVMs efficiently in very high dimensional feature spaces.\",\n",
      "        \"generation_info\": {\n",
      "          \"finish_reason\": \"stop\"\n",
      "        },\n",
      "        \"type\": \"ChatGeneration\",\n",
      "        \"message\": {\n",
      "          \"lc\": 1,\n",
      "          \"type\": \"constructor\",\n",
      "          \"id\": [\n",
      "            \"langchain\",\n",
      "            \"schema\",\n",
      "            \"messages\",\n",
      "            \"AIMessage\"\n",
      "          ],\n",
      "          \"kwargs\": {\n",
      "            \"content\": \"Kernels can be directly applied to support vector machines. Kernels have a significantly broader applicability than linear regression and SVMs. Kernels can be applied with the perceptron to derive a kernel perceptron algorithm. Kernels give a way to apply SVMs efficiently in very high dimensional feature spaces.\",\n",
      "            \"additional_kwargs\": {}\n",
      "          }\n",
      "        }\n",
      "      }\n",
      "    ]\n",
      "  ],\n",
      "  \"llm_output\": {\n",
      "    \"token_usage\": {\n",
      "      \"prompt_tokens\": 685,\n",
      "      \"completion_tokens\": 60,\n",
      "      \"total_tokens\": 745\n",
      "    },\n",
      "    \"model_name\": \"gpt-35-turbo\",\n",
      "    \"system_fingerprint\": \"\"\n",
      "  },\n",
      "  \"run\": null\n",
      "}\n",
      "\u001b[36;1m\u001b[1;3m[chain/end]\u001b[0m \u001b[1m[1:chain:RetrievalQA > 2:retriever:Retriever > 6:chain:LLMChain] [985ms] Exiting Chain run with output:\n",
      "\u001b[0m{\n",
      "  \"text\": \"Kernels can be directly applied to support vector machines. Kernels have a significantly broader applicability than linear regression and SVMs. Kernels can be applied with the perceptron to derive a kernel perceptron algorithm. Kernels give a way to apply SVMs efficiently in very high dimensional feature spaces.\"\n",
      "}\n",
      "\u001b[32;1m\u001b[1;3m[chain/start]\u001b[0m \u001b[1m[1:chain:RetrievalQA > 2:retriever:Retriever > 8:chain:LLMChain] Entering Chain run with input:\n",
      "\u001b[0m{\n",
      "  \"question\": \"What is Gaussian kernel?\",\n",
      "  \"context\": \"7\\nWe can also write this as\\nK(x,z) =(d∑\\ni=1xizi)(d∑\\nj=1xjzj)\\n=d∑\\ni=1d∑\\nj=1xixjzizj\\n=d∑\\ni,j=1(xixj)(zizj)\\nThus, we see that K(x,z) =⟨φ(x),φ(z)⟩is the kernel function that corre-\\nsponds to the the feature mapping φgiven (shown here for the case of d= 3)\\nby\\nφ(x) =\\nx1x1\\nx1x2\\nx1x3\\nx2x1\\nx2x2\\nx2x3\\nx3x1\\nx3x2\\nx3x3\\n.\\nRevisitingthecomputationaleﬃciencyperspectiveofkern el,notethatwhereas\\ncalculating the high-dimensional φ(x) requires O(d2) time, ﬁnding K(x,z)\\ntakes only O(d) time—linear in the dimension of the input attributes.\\nFor another related example, also consider K(·,·) deﬁned by\\nK(x,z) = (xTz+c)2\\n=d∑\\ni,j=1(xixj)(zizj)+d∑\\ni=1(√\\n2cxi)(√\\n2czi)+c2.\\n(Check this yourself.) This function Kis a kernel function that corresponds\"\n",
      "}\n",
      "\u001b[32;1m\u001b[1;3m[llm/start]\u001b[0m \u001b[1m[1:chain:RetrievalQA > 2:retriever:Retriever > 8:chain:LLMChain > 9:llm:AzureChatOpenAI] Entering LLM run with input:\n",
      "\u001b[0m{\n",
      "  \"prompts\": [\n",
      "    \"Human: Given the following question and context, extract any part of the context AS IS that is relevant to answer the question. If none of the context is relevant return NO_OUTPUT. Remember, DO NOT edit the extracted parts of the context.\\nQuestion: What is Gaussian kernel?\\nContext: 7\\nWe can also write this as\\nK(x,z) =(d∑\\ni=1xizi)(d∑\\nj=1xjzj)\\n=d∑\\ni=1d∑\\nj=1xixjzizj\\n=d∑\\ni,j=1(xixj)(zizj)\\nThus, we see that K(x,z) =⟨φ(x),φ(z)⟩is the kernel function that corre-\\nsponds to the the feature mapping φgiven (shown here for the case of d= 3)\\nby\\nφ(x) =\\nx1x1\\nx1x2\\nx1x3\\nx2x1\\nx2x2\\nx2x3\\nx3x1\\nx3x2\\nx3x3\\n.\\nRevisitingthecomputationaleﬃciencyperspectiveofkern el,notethatwhereas\\ncalculating the high-dimensional φ(x) requires O(d2) time, ﬁnding K(x,z)\\ntakes only O(d) time—linear in the dimension of the input attributes.\\nFor another related example, also consider K(·,·) deﬁned by\\nK(x,z) = (xTz+c)2\\n=d∑\\ni,j=1(xixj)(zizj)+d∑\\ni=1(√\\n2cxi)(√\\n2czi)+c2.\\n(Check this yourself.) This function Kis a kernel function that corresponds\\nAnswer:\"\n",
      "  ]\n",
      "}\n"
     ]
    },
    {
     "name": "stderr",
     "output_type": "stream",
     "text": [
      "/opt/homebrew/Caskroom/miniforge/base/envs/llm-simple-QnA-example-1/lib/python3.10/site-packages/langchain/chains/llm.py:316: UserWarning: The predict_and_parse method is deprecated, instead pass an output parser directly to LLMChain.\n",
      "  warnings.warn(\n"
     ]
    },
    {
     "name": "stdout",
     "output_type": "stream",
     "text": [
      "\u001b[36;1m\u001b[1;3m[llm/end]\u001b[0m \u001b[1m[1:chain:RetrievalQA > 2:retriever:Retriever > 8:chain:LLMChain > 9:llm:AzureChatOpenAI] [561ms] Exiting LLM run with output:\n",
      "\u001b[0m{\n",
      "  \"generations\": [\n",
      "    [\n",
      "      {\n",
      "        \"text\": \"K(x,z) =⟨φ(x),φ(z)⟩is the kernel function that corresponds to the the feature mapping φgiven (shown here for the case of d= 3).\",\n",
      "        \"generation_info\": {\n",
      "          \"finish_reason\": \"stop\"\n",
      "        },\n",
      "        \"type\": \"ChatGeneration\",\n",
      "        \"message\": {\n",
      "          \"lc\": 1,\n",
      "          \"type\": \"constructor\",\n",
      "          \"id\": [\n",
      "            \"langchain\",\n",
      "            \"schema\",\n",
      "            \"messages\",\n",
      "            \"AIMessage\"\n",
      "          ],\n",
      "          \"kwargs\": {\n",
      "            \"content\": \"K(x,z) =⟨φ(x),φ(z)⟩is the kernel function that corresponds to the the feature mapping φgiven (shown here for the case of d= 3).\",\n",
      "            \"additional_kwargs\": {}\n",
      "          }\n",
      "        }\n",
      "      }\n",
      "    ]\n",
      "  ],\n",
      "  \"llm_output\": {\n",
      "    \"token_usage\": {\n",
      "      \"prompt_tokens\": 475,\n",
      "      \"completion_tokens\": 39,\n",
      "      \"total_tokens\": 514\n",
      "    },\n",
      "    \"model_name\": \"gpt-35-turbo\",\n",
      "    \"system_fingerprint\": \"\"\n",
      "  },\n",
      "  \"run\": null\n",
      "}\n",
      "\u001b[36;1m\u001b[1;3m[chain/end]\u001b[0m \u001b[1m[1:chain:RetrievalQA > 2:retriever:Retriever > 8:chain:LLMChain] [564ms] Exiting Chain run with output:\n",
      "\u001b[0m{\n",
      "  \"text\": \"K(x,z) =⟨φ(x),φ(z)⟩is the kernel function that corresponds to the the feature mapping φgiven (shown here for the case of d= 3).\"\n",
      "}\n",
      "\u001b[32;1m\u001b[1;3m[chain/start]\u001b[0m \u001b[1m[1:chain:RetrievalQA > 2:retriever:Retriever > 10:chain:LLMChain] Entering Chain run with input:\n",
      "\u001b[0m{\n",
      "  \"question\": \"What is Gaussian kernel?\",\n",
      "  \"context\": \"10\\nSuﬃcient conditions for valid kernels. More generally, the condition\\nabove turns out to be not only a necessary, but also a suﬃcient , condition\\nforKto be a valid kernel (also called a Mercer kernel). The follow ing result\\nis due to Mercer.3\\nTheorem (Mercer). LetK:Rd×Rd↦→Rbe given. Then for K\\nto be a valid (Mercer) kernel, it is necessary and suﬃcient th at for any\\n{x(1),...,x(n)}, (n <∞), the corresponding kernel matrix is symmetric pos-\\nitive semi-deﬁnite.\\nGiven a function K, apart from trying to ﬁnd a feature mapping φthat\\ncorresponds to it, this theorem therefore gives another way of testing if it is\\na valid kernel. You’ll also have a chance to play with these id eas more in\\nproblem set 2.\\nIn class, we also brieﬂy talked about a couple of other exampl es of ker-\\nnels. For instance, consider the digit recognition problem , in which given\\nan image (16x16 pixels) of a handwritten digit (0-9), we have to ﬁgure out\\nwhich digit it was. Using either a simple polynomial kernel K(x,z) = (xTz)k\\nor the Gaussian kernel, SVMs were able to obtain extremely goo d perfor-\\nmance on this problem. This was particularly surprising sin ce the input\\nattributes xwere just 256-dimensional vectors of the image pixel intens ity\\nvalues, and the system had no prior knowledge about vision, o r even about\\nwhich pixels are adjacent to which other ones. Another exampl e that we\\nbrieﬂy talked about in lecture was that if the objects xthat we are trying\\nto classify are strings (say, xis a list of amino acids, which strung together\\nform a protein), then it seems hard to construct a reasonable , “small” set of\\nfeatures for most learning algorithms, especially if diﬀer ent strings have dif-\\nferent lengths. However, consider letting φ(x) be a feature vector that counts\\nthe number of occurrences of each length- ksubstring in x. If we’re consid-\\nering strings of English letters, then there are 26ksuch strings. Hence, φ(x)\\nis a 26kdimensional vector; even for moderate values of k, this is probably\\ntoo big for us to eﬃciently work with. (e.g., 264≈460000.) However, using\\n(dynamic programming-ish) string matching algorithms, it is possible to ef-\\nﬁciently compute K(x,z) =φ(x)Tφ(z), so that we can now implicitly work\\nin this 26k-dimensional feature space, but without ever explicitly co mputing\\nfeature vectors in this space.\\n3Many texts present Mercer’s theorem in a slightly more compl icated form involving\\nL2functions, but when the input attributes take values in Rd, the version given here is\\nequivalent.\"\n",
      "}\n",
      "\u001b[32;1m\u001b[1;3m[llm/start]\u001b[0m \u001b[1m[1:chain:RetrievalQA > 2:retriever:Retriever > 10:chain:LLMChain > 11:llm:AzureChatOpenAI] Entering LLM run with input:\n",
      "\u001b[0m{\n",
      "  \"prompts\": [\n",
      "    \"Human: Given the following question and context, extract any part of the context AS IS that is relevant to answer the question. If none of the context is relevant return NO_OUTPUT. Remember, DO NOT edit the extracted parts of the context.\\nQuestion: What is Gaussian kernel?\\nContext: 10\\nSuﬃcient conditions for valid kernels. More generally, the condition\\nabove turns out to be not only a necessary, but also a suﬃcient , condition\\nforKto be a valid kernel (also called a Mercer kernel). The follow ing result\\nis due to Mercer.3\\nTheorem (Mercer). LetK:Rd×Rd↦→Rbe given. Then for K\\nto be a valid (Mercer) kernel, it is necessary and suﬃcient th at for any\\n{x(1),...,x(n)}, (n <∞), the corresponding kernel matrix is symmetric pos-\\nitive semi-deﬁnite.\\nGiven a function K, apart from trying to ﬁnd a feature mapping φthat\\ncorresponds to it, this theorem therefore gives another way of testing if it is\\na valid kernel. You’ll also have a chance to play with these id eas more in\\nproblem set 2.\\nIn class, we also brieﬂy talked about a couple of other exampl es of ker-\\nnels. For instance, consider the digit recognition problem , in which given\\nan image (16x16 pixels) of a handwritten digit (0-9), we have to ﬁgure out\\nwhich digit it was. Using either a simple polynomial kernel K(x,z) = (xTz)k\\nor the Gaussian kernel, SVMs were able to obtain extremely goo d perfor-\\nmance on this problem. This was particularly surprising sin ce the input\\nattributes xwere just 256-dimensional vectors of the image pixel intens ity\\nvalues, and the system had no prior knowledge about vision, o r even about\\nwhich pixels are adjacent to which other ones. Another exampl e that we\\nbrieﬂy talked about in lecture was that if the objects xthat we are trying\\nto classify are strings (say, xis a list of amino acids, which strung together\\nform a protein), then it seems hard to construct a reasonable , “small” set of\\nfeatures for most learning algorithms, especially if diﬀer ent strings have dif-\\nferent lengths. However, consider letting φ(x) be a feature vector that counts\\nthe number of occurrences of each length- ksubstring in x. If we’re consid-\\nering strings of English letters, then there are 26ksuch strings. Hence, φ(x)\\nis a 26kdimensional vector; even for moderate values of k, this is probably\\ntoo big for us to eﬃciently work with. (e.g., 264≈460000.) However, using\\n(dynamic programming-ish) string matching algorithms, it is possible to ef-\\nﬁciently compute K(x,z) =φ(x)Tφ(z), so that we can now implicitly work\\nin this 26k-dimensional feature space, but without ever explicitly co mputing\\nfeature vectors in this space.\\n3Many texts present Mercer’s theorem in a slightly more compl icated form involving\\nL2functions, but when the input attributes take values in Rd, the version given here is\\nequivalent.\\nAnswer:\"\n",
      "  ]\n",
      "}\n"
     ]
    },
    {
     "name": "stderr",
     "output_type": "stream",
     "text": [
      "/opt/homebrew/Caskroom/miniforge/base/envs/llm-simple-QnA-example-1/lib/python3.10/site-packages/langchain/chains/llm.py:316: UserWarning: The predict_and_parse method is deprecated, instead pass an output parser directly to LLMChain.\n",
      "  warnings.warn(\n"
     ]
    },
    {
     "name": "stdout",
     "output_type": "stream",
     "text": [
      "\u001b[36;1m\u001b[1;3m[llm/end]\u001b[0m \u001b[1m[1:chain:RetrievalQA > 2:retriever:Retriever > 10:chain:LLMChain > 11:llm:AzureChatOpenAI] [456ms] Exiting LLM run with output:\n",
      "\u001b[0m{\n",
      "  \"generations\": [\n",
      "    [\n",
      "      {\n",
      "        \"text\": \"The Gaussian kernel was used in SVMs for the digit recognition problem and was able to obtain extremely good performance.\",\n",
      "        \"generation_info\": {\n",
      "          \"finish_reason\": \"stop\"\n",
      "        },\n",
      "        \"type\": \"ChatGeneration\",\n",
      "        \"message\": {\n",
      "          \"lc\": 1,\n",
      "          \"type\": \"constructor\",\n",
      "          \"id\": [\n",
      "            \"langchain\",\n",
      "            \"schema\",\n",
      "            \"messages\",\n",
      "            \"AIMessage\"\n",
      "          ],\n",
      "          \"kwargs\": {\n",
      "            \"content\": \"The Gaussian kernel was used in SVMs for the digit recognition problem and was able to obtain extremely good performance.\",\n",
      "            \"additional_kwargs\": {}\n",
      "          }\n",
      "        }\n",
      "      }\n",
      "    ]\n",
      "  ],\n",
      "  \"llm_output\": {\n",
      "    \"token_usage\": {\n",
      "      \"prompt_tokens\": 722,\n",
      "      \"completion_tokens\": 22,\n",
      "      \"total_tokens\": 744\n",
      "    },\n",
      "    \"model_name\": \"gpt-35-turbo\",\n",
      "    \"system_fingerprint\": \"\"\n",
      "  },\n",
      "  \"run\": null\n",
      "}\n",
      "\u001b[36;1m\u001b[1;3m[chain/end]\u001b[0m \u001b[1m[1:chain:RetrievalQA > 2:retriever:Retriever > 10:chain:LLMChain] [458ms] Exiting Chain run with output:\n",
      "\u001b[0m{\n",
      "  \"text\": \"The Gaussian kernel was used in SVMs for the digit recognition problem and was able to obtain extremely good performance.\"\n",
      "}\n",
      "\u001b[32;1m\u001b[1;3m[chain/start]\u001b[0m \u001b[1m[1:chain:RetrievalQA > 2:retriever:Retriever > 12:chain:LLMChain] Entering Chain run with input:\n",
      "\u001b[0m{\n",
      "  \"question\": \"What is Gaussian kernel?\",\n",
      "  \"context\": \"8\\nto the feature mapping (again shown for d= 3)\\nφ(x) =\\nx1x1\\nx1x2\\nx1x3\\nx2x1\\nx2x2\\nx2x3\\nx3x1\\nx3x2\\nx3x3√\\n2cx1√\\n2cx2√\\n2cx3\\nc\\n,\\nand the parameter ccontrols the relative weighting between the xi(ﬁrst\\norder) and the xixj(second order) terms.\\nMore broadly, the kernel K(x,z) = (xTz+c)kcorresponds to a feature\\nmapping to an(d+k\\nk)\\nfeature space, corresponding of all monomials of the\\nformxi1xi2...xikthat are up to order k. However, despite working in this\\nO(dk)-dimensional space, computing K(x,z) still takes only O(d) time, and\\nhence we never need to explicitly represent feature vectors in this very high\\ndimensional feature space.\\nKernels as similarity metrics. Now, let’s talk about a slightly diﬀerent\\nview of kernels. Intuitively, (and there are things wrong wi th this intuition,\\nbut nevermind), if φ(x) andφ(z) are close together, then we might expect\\nK(x,z) =φ(x)Tφ(z) to be large. Conversely, if φ(x) andφ(z) are far apart—\\nsay nearly orthogonal to each other—then K(x,z) =φ(x)Tφ(z) will be small.\\nSo, we can think of K(x,z) as some measurement of how similar are φ(x)\\nandφ(z), or of how similar are xandz.\\nGiven this intuition, suppose that for some learning proble m that you’re\\nworking on, you’ve come up with some function K(x,z) that you think might\\nbe a reasonable measure of how similar xandzare. For instance, perhaps\\nyou chose\\nK(x,z) = exp(\\n−||x−z||2\\n2σ2)\\n.\\nThis is a reasonable measure of xandz’s similarity, and is close to 1 when\\nxandzare close, and near 0 when xandzare far apart. Does there exist\"\n",
      "}\n",
      "\u001b[32;1m\u001b[1;3m[llm/start]\u001b[0m \u001b[1m[1:chain:RetrievalQA > 2:retriever:Retriever > 12:chain:LLMChain > 13:llm:AzureChatOpenAI] Entering LLM run with input:\n",
      "\u001b[0m{\n",
      "  \"prompts\": [\n",
      "    \"Human: Given the following question and context, extract any part of the context AS IS that is relevant to answer the question. If none of the context is relevant return NO_OUTPUT. Remember, DO NOT edit the extracted parts of the context.\\nQuestion: What is Gaussian kernel?\\nContext: 8\\nto the feature mapping (again shown for d= 3)\\nφ(x) =\\nx1x1\\nx1x2\\nx1x3\\nx2x1\\nx2x2\\nx2x3\\nx3x1\\nx3x2\\nx3x3√\\n2cx1√\\n2cx2√\\n2cx3\\nc\\n,\\nand the parameter ccontrols the relative weighting between the xi(ﬁrst\\norder) and the xixj(second order) terms.\\nMore broadly, the kernel K(x,z) = (xTz+c)kcorresponds to a feature\\nmapping to an(d+k\\nk)\\nfeature space, corresponding of all monomials of the\\nformxi1xi2...xikthat are up to order k. However, despite working in this\\nO(dk)-dimensional space, computing K(x,z) still takes only O(d) time, and\\nhence we never need to explicitly represent feature vectors in this very high\\ndimensional feature space.\\nKernels as similarity metrics. Now, let’s talk about a slightly diﬀerent\\nview of kernels. Intuitively, (and there are things wrong wi th this intuition,\\nbut nevermind), if φ(x) andφ(z) are close together, then we might expect\\nK(x,z) =φ(x)Tφ(z) to be large. Conversely, if φ(x) andφ(z) are far apart—\\nsay nearly orthogonal to each other—then K(x,z) =φ(x)Tφ(z) will be small.\\nSo, we can think of K(x,z) as some measurement of how similar are φ(x)\\nandφ(z), or of how similar are xandz.\\nGiven this intuition, suppose that for some learning proble m that you’re\\nworking on, you’ve come up with some function K(x,z) that you think might\\nbe a reasonable measure of how similar xandzare. For instance, perhaps\\nyou chose\\nK(x,z) = exp(\\n−||x−z||2\\n2σ2)\\n.\\nThis is a reasonable measure of xandz’s similarity, and is close to 1 when\\nxandzare close, and near 0 when xandzare far apart. Does there exist\\nAnswer:\"\n",
      "  ]\n",
      "}\n"
     ]
    },
    {
     "name": "stderr",
     "output_type": "stream",
     "text": [
      "/opt/homebrew/Caskroom/miniforge/base/envs/llm-simple-QnA-example-1/lib/python3.10/site-packages/langchain/chains/llm.py:316: UserWarning: The predict_and_parse method is deprecated, instead pass an output parser directly to LLMChain.\n",
      "  warnings.warn(\n"
     ]
    },
    {
     "name": "stdout",
     "output_type": "stream",
     "text": [
      "\u001b[36;1m\u001b[1;3m[llm/end]\u001b[0m \u001b[1m[1:chain:RetrievalQA > 2:retriever:Retriever > 12:chain:LLMChain > 13:llm:AzureChatOpenAI] [424ms] Exiting LLM run with output:\n",
      "\u001b[0m{\n",
      "  \"generations\": [\n",
      "    [\n",
      "      {\n",
      "        \"text\": \"The Gaussian kernel is not explicitly mentioned in the context, so the output is NO_OUTPUT.\",\n",
      "        \"generation_info\": {\n",
      "          \"finish_reason\": \"stop\"\n",
      "        },\n",
      "        \"type\": \"ChatGeneration\",\n",
      "        \"message\": {\n",
      "          \"lc\": 1,\n",
      "          \"type\": \"constructor\",\n",
      "          \"id\": [\n",
      "            \"langchain\",\n",
      "            \"schema\",\n",
      "            \"messages\",\n",
      "            \"AIMessage\"\n",
      "          ],\n",
      "          \"kwargs\": {\n",
      "            \"content\": \"The Gaussian kernel is not explicitly mentioned in the context, so the output is NO_OUTPUT.\",\n",
      "            \"additional_kwargs\": {}\n",
      "          }\n",
      "        }\n",
      "      }\n",
      "    ]\n",
      "  ],\n",
      "  \"llm_output\": {\n",
      "    \"token_usage\": {\n",
      "      \"prompt_tokens\": 686,\n",
      "      \"completion_tokens\": 18,\n",
      "      \"total_tokens\": 704\n",
      "    },\n",
      "    \"model_name\": \"gpt-35-turbo\",\n",
      "    \"system_fingerprint\": \"\"\n",
      "  },\n",
      "  \"run\": null\n",
      "}\n",
      "\u001b[36;1m\u001b[1;3m[chain/end]\u001b[0m \u001b[1m[1:chain:RetrievalQA > 2:retriever:Retriever > 12:chain:LLMChain] [426ms] Exiting Chain run with output:\n",
      "\u001b[0m{\n",
      "  \"text\": \"The Gaussian kernel is not explicitly mentioned in the context, so the output is NO_OUTPUT.\"\n",
      "}\n",
      "\u001b[32;1m\u001b[1;3m[chain/start]\u001b[0m \u001b[1m[1:chain:RetrievalQA > 14:chain:StuffDocumentsChain] Entering Chain run with input:\n",
      "\u001b[0m[inputs]\n",
      "\u001b[32;1m\u001b[1;3m[chain/start]\u001b[0m \u001b[1m[1:chain:RetrievalQA > 14:chain:StuffDocumentsChain > 15:chain:LLMChain] Entering Chain run with input:\n",
      "\u001b[0m{\n",
      "  \"question\": \"What is Gaussian kernel?\",\n",
      "  \"context\": \"The Gaussian kernel is a valid kernel that corresponds to an infinite dimensional feature mapping φ.\\n\\nKernels can be directly applied to support vector machines. Kernels have a significantly broader applicability than linear regression and SVMs. Kernels can be applied with the perceptron to derive a kernel perceptron algorithm. Kernels give a way to apply SVMs efficiently in very high dimensional feature spaces.\\n\\nK(x,z) =⟨φ(x),φ(z)⟩is the kernel function that corresponds to the the feature mapping φgiven (shown here for the case of d= 3).\\n\\nThe Gaussian kernel was used in SVMs for the digit recognition problem and was able to obtain extremely good performance.\\n\\nThe Gaussian kernel is not explicitly mentioned in the context, so the output is NO_OUTPUT.\"\n",
      "}\n",
      "\u001b[32;1m\u001b[1;3m[llm/start]\u001b[0m \u001b[1m[1:chain:RetrievalQA > 14:chain:StuffDocumentsChain > 15:chain:LLMChain > 16:llm:AzureChatOpenAI] Entering LLM run with input:\n",
      "\u001b[0m{\n",
      "  \"prompts\": [\n",
      "    \"Human: Use the following pieces of context to answer the question at the end. Please provide a short single-sentence summary answer only. If you don't know the answer or if it's not present in given context, don't try to make up an answer.\\nContext: The Gaussian kernel is a valid kernel that corresponds to an infinite dimensional feature mapping φ.\\n\\nKernels can be directly applied to support vector machines. Kernels have a significantly broader applicability than linear regression and SVMs. Kernels can be applied with the perceptron to derive a kernel perceptron algorithm. Kernels give a way to apply SVMs efficiently in very high dimensional feature spaces.\\n\\nK(x,z) =⟨φ(x),φ(z)⟩is the kernel function that corresponds to the the feature mapping φgiven (shown here for the case of d= 3).\\n\\nThe Gaussian kernel was used in SVMs for the digit recognition problem and was able to obtain extremely good performance.\\n\\nThe Gaussian kernel is not explicitly mentioned in the context, so the output is NO_OUTPUT.\\nQuestion: What is Gaussian kernel?\\nHelpful Answer:\"\n",
      "  ]\n",
      "}\n",
      "\u001b[36;1m\u001b[1;3m[llm/end]\u001b[0m \u001b[1m[1:chain:RetrievalQA > 14:chain:StuffDocumentsChain > 15:chain:LLMChain > 16:llm:AzureChatOpenAI] [396ms] Exiting LLM run with output:\n",
      "\u001b[0m{\n",
      "  \"generations\": [\n",
      "    [\n",
      "      {\n",
      "        \"text\": \"NO_OUTPUT (The Gaussian kernel is not explicitly defined in the given context.)\",\n",
      "        \"generation_info\": {\n",
      "          \"finish_reason\": \"stop\"\n",
      "        },\n",
      "        \"type\": \"ChatGeneration\",\n",
      "        \"message\": {\n",
      "          \"lc\": 1,\n",
      "          \"type\": \"constructor\",\n",
      "          \"id\": [\n",
      "            \"langchain\",\n",
      "            \"schema\",\n",
      "            \"messages\",\n",
      "            \"AIMessage\"\n",
      "          ],\n",
      "          \"kwargs\": {\n",
      "            \"content\": \"NO_OUTPUT (The Gaussian kernel is not explicitly defined in the given context.)\",\n",
      "            \"additional_kwargs\": {}\n",
      "          }\n",
      "        }\n",
      "      }\n",
      "    ]\n",
      "  ],\n",
      "  \"llm_output\": {\n",
      "    \"token_usage\": {\n",
      "      \"prompt_tokens\": 228,\n",
      "      \"completion_tokens\": 15,\n",
      "      \"total_tokens\": 243\n",
      "    },\n",
      "    \"model_name\": \"gpt-35-turbo\",\n",
      "    \"system_fingerprint\": \"\"\n",
      "  },\n",
      "  \"run\": null\n",
      "}\n",
      "\u001b[36;1m\u001b[1;3m[chain/end]\u001b[0m \u001b[1m[1:chain:RetrievalQA > 14:chain:StuffDocumentsChain > 15:chain:LLMChain] [399ms] Exiting Chain run with output:\n",
      "\u001b[0m{\n",
      "  \"text\": \"NO_OUTPUT (The Gaussian kernel is not explicitly defined in the given context.)\"\n",
      "}\n",
      "\u001b[36;1m\u001b[1;3m[chain/end]\u001b[0m \u001b[1m[1:chain:RetrievalQA > 14:chain:StuffDocumentsChain] [400ms] Exiting Chain run with output:\n",
      "\u001b[0m{\n",
      "  \"output_text\": \"NO_OUTPUT (The Gaussian kernel is not explicitly defined in the given context.)\"\n",
      "}\n",
      "\u001b[36;1m\u001b[1;3m[chain/end]\u001b[0m \u001b[1m[1:chain:RetrievalQA] [3.28s] Exiting Chain run with output:\n",
      "\u001b[0m{\n",
      "  \"result\": \"NO_OUTPUT (The Gaussian kernel is not explicitly defined in the given context.)\"\n",
      "}\n"
     ]
    }
   ],
   "source": [
    "with debug_langchain():\n",
    "    question = \"What is Gaussian kernel?\"\n",
    "    # qa_chain({\"query\": question})\n",
    "    qa_chain.run(question)"
   ],
   "metadata": {
    "collapsed": false,
    "ExecuteTime": {
     "end_time": "2024-01-25T14:15:07.729802Z",
     "start_time": "2024-01-25T14:15:04.444379Z"
    }
   },
   "id": "7c0018fa24772250"
  },
  {
   "cell_type": "code",
   "execution_count": 35,
   "outputs": [
    {
     "name": "stdout",
     "output_type": "stream",
     "text": [
      "\u001b[32;1m\u001b[1;3m[chain/start]\u001b[0m \u001b[1m[1:chain:RetrievalQA] Entering Chain run with input:\n",
      "\u001b[0m{\n",
      "  \"query\": \"Who is Grandpa Panas?\"\n",
      "}\n",
      "\u001b[32;1m\u001b[1;3m[chain/start]\u001b[0m \u001b[1m[1:chain:RetrievalQA > 2:retriever:Retriever > 4:chain:LLMChain] Entering Chain run with input:\n",
      "\u001b[0m{\n",
      "  \"question\": \"Who is Grandpa Panas?\",\n",
      "  \"context\": \"Petro Yukhymovych Vesklyarov (Ukrainian: Вескляров Петро Юхимович) (June 10 [O.S. May 28] 1911 in Talne, Ukraine – January 5, 1994 in Kyiv) was a Ukrainian theater and television actor. He was also known by the nickname Did Panas (Grandpa Panas, Ukrainian: дід Панас).\\nBetween 1932 and 1940, Vesklyarov was an actor in a travelling workers' theatre, and between 1946 and 1959 he performed at the Taras Shevchenko Musical-Drama Theatre in Lutsk, Volyn. Between 1959 and 1982 Veslklyarov worked in the Dovzhenko Film Studios, appearing in a number of films. He starred in the 1959 drama film Ivanna and appeared in the 1970 comedy film Two Days of Miracles. During this time (1964-1986) he appeared as the character \\\"Дід Панас\\\" (Grandpa Panas) in the Ukrainian television series \\\"На добраніч, діти\\\"  (Goodnight, children).In 1973, he was awarded the title Meritorious Artist of the Ukrainian SSR.\\n\\n\\n== Commemoration ==\\nHe was buried in the columbarium of the Baikove cemetery. The widow left for the United States, before handing over the films with the recordings of \\\"Grandpa Panas\\\" to the Kapranov brothers.In 2019, a memorial plaque was installed on the premises of the Talne school, where the house where Petro Veskliarov was born stood. In 2022, in Talne, Cherkasy region, Krylov Street became Veskliarov Street.\\n\\n\\n== References ==\\n\\n\\n== External links ==\\nPetro Vesklyarov at IMDb\"\n",
      "}\n",
      "\u001b[32;1m\u001b[1;3m[llm/start]\u001b[0m \u001b[1m[1:chain:RetrievalQA > 2:retriever:Retriever > 4:chain:LLMChain > 5:llm:AzureChatOpenAI] Entering LLM run with input:\n",
      "\u001b[0m{\n",
      "  \"prompts\": [\n",
      "    \"Human: Given the following question and context, extract any part of the context AS IS that is relevant to answer the question. If none of the context is relevant return NO_OUTPUT. Remember, DO NOT edit the extracted parts of the context.\\nQuestion: Who is Grandpa Panas?\\nContext: Petro Yukhymovych Vesklyarov (Ukrainian: Вескляров Петро Юхимович) (June 10 [O.S. May 28] 1911 in Talne, Ukraine – January 5, 1994 in Kyiv) was a Ukrainian theater and television actor. He was also known by the nickname Did Panas (Grandpa Panas, Ukrainian: дід Панас).\\nBetween 1932 and 1940, Vesklyarov was an actor in a travelling workers' theatre, and between 1946 and 1959 he performed at the Taras Shevchenko Musical-Drama Theatre in Lutsk, Volyn. Between 1959 and 1982 Veslklyarov worked in the Dovzhenko Film Studios, appearing in a number of films. He starred in the 1959 drama film Ivanna and appeared in the 1970 comedy film Two Days of Miracles. During this time (1964-1986) he appeared as the character \\\"Дід Панас\\\" (Grandpa Panas) in the Ukrainian television series \\\"На добраніч, діти\\\"  (Goodnight, children).In 1973, he was awarded the title Meritorious Artist of the Ukrainian SSR.\\n\\n\\n== Commemoration ==\\nHe was buried in the columbarium of the Baikove cemetery. The widow left for the United States, before handing over the films with the recordings of \\\"Grandpa Panas\\\" to the Kapranov brothers.In 2019, a memorial plaque was installed on the premises of the Talne school, where the house where Petro Veskliarov was born stood. In 2022, in Talne, Cherkasy region, Krylov Street became Veskliarov Street.\\n\\n\\n== References ==\\n\\n\\n== External links ==\\nPetro Vesklyarov at IMDb\\nAnswer:\"\n",
      "  ]\n",
      "}\n"
     ]
    },
    {
     "name": "stderr",
     "output_type": "stream",
     "text": [
      "/opt/homebrew/Caskroom/miniforge/base/envs/llm-simple-QnA-example-1/lib/python3.10/site-packages/langchain/chains/llm.py:316: UserWarning: The predict_and_parse method is deprecated, instead pass an output parser directly to LLMChain.\n",
      "  warnings.warn(\n"
     ]
    },
    {
     "name": "stdout",
     "output_type": "stream",
     "text": [
      "\u001b[36;1m\u001b[1;3m[llm/end]\u001b[0m \u001b[1m[1:chain:RetrievalQA > 2:retriever:Retriever > 4:chain:LLMChain > 5:llm:AzureChatOpenAI] [1.32s] Exiting LLM run with output:\n",
      "\u001b[0m{\n",
      "  \"generations\": [\n",
      "    [\n",
      "      {\n",
      "        \"text\": \"Grandpa Panas is a nickname for Petro Yukhymovych Vesklyarov, a Ukrainian theater and television actor who appeared as the character \\\"Дід Панас\\\" (Grandpa Panas) in the Ukrainian television series \\\"На добраніч, діти\\\" (Goodnight, children).\",\n",
      "        \"generation_info\": {\n",
      "          \"finish_reason\": \"stop\"\n",
      "        },\n",
      "        \"type\": \"ChatGeneration\",\n",
      "        \"message\": {\n",
      "          \"lc\": 1,\n",
      "          \"type\": \"constructor\",\n",
      "          \"id\": [\n",
      "            \"langchain\",\n",
      "            \"schema\",\n",
      "            \"messages\",\n",
      "            \"AIMessage\"\n",
      "          ],\n",
      "          \"kwargs\": {\n",
      "            \"content\": \"Grandpa Panas is a nickname for Petro Yukhymovych Vesklyarov, a Ukrainian theater and television actor who appeared as the character \\\"Дід Панас\\\" (Grandpa Panas) in the Ukrainian television series \\\"На добраніч, діти\\\" (Goodnight, children).\",\n",
      "            \"additional_kwargs\": {}\n",
      "          }\n",
      "        }\n",
      "      }\n",
      "    ]\n",
      "  ],\n",
      "  \"llm_output\": {\n",
      "    \"token_usage\": {\n",
      "      \"prompt_tokens\": 469,\n",
      "      \"completion_tokens\": 67,\n",
      "      \"total_tokens\": 536\n",
      "    },\n",
      "    \"model_name\": \"gpt-35-turbo\",\n",
      "    \"system_fingerprint\": \"\"\n",
      "  },\n",
      "  \"run\": null\n",
      "}\n",
      "\u001b[36;1m\u001b[1;3m[chain/end]\u001b[0m \u001b[1m[1:chain:RetrievalQA > 2:retriever:Retriever > 4:chain:LLMChain] [1.32s] Exiting Chain run with output:\n",
      "\u001b[0m{\n",
      "  \"text\": \"Grandpa Panas is a nickname for Petro Yukhymovych Vesklyarov, a Ukrainian theater and television actor who appeared as the character \\\"Дід Панас\\\" (Grandpa Panas) in the Ukrainian television series \\\"На добраніч, діти\\\" (Goodnight, children).\"\n",
      "}\n",
      "\u001b[32;1m\u001b[1;3m[chain/start]\u001b[0m \u001b[1m[1:chain:RetrievalQA > 2:retriever:Retriever > 6:chain:LLMChain] Entering Chain run with input:\n",
      "\u001b[0m{\n",
      "  \"question\": \"Who is Grandpa Panas?\",\n",
      "  \"context\": \".\\n1941 — призваний у військовий театр Південно-Західного фронту, потрапив у полон, але втік. Згодом потрапив до окупованого гітлерівцями Києва, влаштувався на роботу на залізниці, де організував драматичний гурток. 1946 року був скерований до Луцька — у Волинський український музично-драматичний театр імені Тараса Шевченка, де працював до 1959-го.\\nУ Луцьку одружився із секретаркою театру Галиною, де народився його син Богдан.1959—1982 — на Київській кіностудії художніх фільмів імені Олександра Довженка.\\nЗ 1962 р. у ролі діда Панаса розповідав на Українському радіо «вечірню казку» для дітей (перед тим Вескляров працював у цій ролі на підміні іншого актора, якого згодом замінив цілком).1964—1986 — у ролі діда Панаса вів на Українському телебаченні програму «На добраніч, діти».\\n\\n\\n== Вшанування пам'яті ==\\nПохований у колумбарії Байкового кладовища. Вдова виїхала до США, перед тим передавши кіноплівки із записами «діда Панаса» братам Капрановим.\\n\\n2019 року на приміщенні тальнівської школи, на місці якої стояв будинок, де народився Петро Вескляров, встановлено пам'ятну дошку.\\nУ 2022 році у Тальному на Черкащині вулиця Крилова стала вулицею Весклярова.\\n\\n\\n== Ролі в театрі ==\\nМикола Задорожний («Украдене щастя» Івана Франка).\\nКомандор («Камінний господар» Лесі Українки)\"\n",
      "}\n",
      "\u001b[32;1m\u001b[1;3m[llm/start]\u001b[0m \u001b[1m[1:chain:RetrievalQA > 2:retriever:Retriever > 6:chain:LLMChain > 7:llm:AzureChatOpenAI] Entering LLM run with input:\n",
      "\u001b[0m{\n",
      "  \"prompts\": [\n",
      "    \"Human: Given the following question and context, extract any part of the context AS IS that is relevant to answer the question. If none of the context is relevant return NO_OUTPUT. Remember, DO NOT edit the extracted parts of the context.\\nQuestion: Who is Grandpa Panas?\\nContext: .\\n1941 — призваний у військовий театр Південно-Західного фронту, потрапив у полон, але втік. Згодом потрапив до окупованого гітлерівцями Києва, влаштувався на роботу на залізниці, де організував драматичний гурток. 1946 року був скерований до Луцька — у Волинський український музично-драматичний театр імені Тараса Шевченка, де працював до 1959-го.\\nУ Луцьку одружився із секретаркою театру Галиною, де народився його син Богдан.1959—1982 — на Київській кіностудії художніх фільмів імені Олександра Довженка.\\nЗ 1962 р. у ролі діда Панаса розповідав на Українському радіо «вечірню казку» для дітей (перед тим Вескляров працював у цій ролі на підміні іншого актора, якого згодом замінив цілком).1964—1986 — у ролі діда Панаса вів на Українському телебаченні програму «На добраніч, діти».\\n\\n\\n== Вшанування пам'яті ==\\nПохований у колумбарії Байкового кладовища. Вдова виїхала до США, перед тим передавши кіноплівки із записами «діда Панаса» братам Капрановим.\\n\\n2019 року на приміщенні тальнівської школи, на місці якої стояв будинок, де народився Петро Вескляров, встановлено пам'ятну дошку.\\nУ 2022 році у Тальному на Черкащині вулиця Крилова стала вулицею Весклярова.\\n\\n\\n== Ролі в театрі ==\\nМикола Задорожний («Украдене щастя» Івана Франка).\\nКомандор («Камінний господар» Лесі Українки)\\nAnswer:\"\n",
      "  ]\n",
      "}\n"
     ]
    },
    {
     "name": "stderr",
     "output_type": "stream",
     "text": [
      "/opt/homebrew/Caskroom/miniforge/base/envs/llm-simple-QnA-example-1/lib/python3.10/site-packages/langchain/chains/llm.py:316: UserWarning: The predict_and_parse method is deprecated, instead pass an output parser directly to LLMChain.\n",
      "  warnings.warn(\n"
     ]
    },
    {
     "name": "stdout",
     "output_type": "stream",
     "text": [
      "\u001b[36;1m\u001b[1;3m[llm/end]\u001b[0m \u001b[1m[1:chain:RetrievalQA > 2:retriever:Retriever > 6:chain:LLMChain > 7:llm:AzureChatOpenAI] [203ms] Exiting LLM run with output:\n",
      "\u001b[0m{\n",
      "  \"generations\": [\n",
      "    [\n",
      "      {\n",
      "        \"text\": \"NO_OUTPUT.\",\n",
      "        \"generation_info\": {\n",
      "          \"finish_reason\": \"stop\"\n",
      "        },\n",
      "        \"type\": \"ChatGeneration\",\n",
      "        \"message\": {\n",
      "          \"lc\": 1,\n",
      "          \"type\": \"constructor\",\n",
      "          \"id\": [\n",
      "            \"langchain\",\n",
      "            \"schema\",\n",
      "            \"messages\",\n",
      "            \"AIMessage\"\n",
      "          ],\n",
      "          \"kwargs\": {\n",
      "            \"content\": \"NO_OUTPUT.\",\n",
      "            \"additional_kwargs\": {}\n",
      "          }\n",
      "        }\n",
      "      }\n",
      "    ]\n",
      "  ],\n",
      "  \"llm_output\": {\n",
      "    \"token_usage\": {\n",
      "      \"prompt_tokens\": 827,\n",
      "      \"completion_tokens\": 3,\n",
      "      \"total_tokens\": 830\n",
      "    },\n",
      "    \"model_name\": \"gpt-35-turbo\",\n",
      "    \"system_fingerprint\": \"\"\n",
      "  },\n",
      "  \"run\": null\n",
      "}\n",
      "\u001b[36;1m\u001b[1;3m[chain/end]\u001b[0m \u001b[1m[1:chain:RetrievalQA > 2:retriever:Retriever > 6:chain:LLMChain] [208ms] Exiting Chain run with output:\n",
      "\u001b[0m{\n",
      "  \"text\": \"NO_OUTPUT.\"\n",
      "}\n",
      "\u001b[32;1m\u001b[1;3m[chain/start]\u001b[0m \u001b[1m[1:chain:RetrievalQA > 2:retriever:Retriever > 8:chain:LLMChain] Entering Chain run with input:\n",
      "\u001b[0m{\n",
      "  \"question\": \"Who is Grandpa Panas?\",\n",
      "  \"context\": \". Згодом Вескляров переїздить до столиці, де активно знімається у багатьох фільмах. Серед них: «Олекса Довбуш», «Гадюка», «Циган», «Іванна», «Вій», «Забудьте слово смерть» тощо. Відзнявся у приблизно 50 фільмах. Проте найбільше запам'ятався малечі та старшому глядачеві як казкар Дідусь Панас. Українська вишиванка Весклярова часом дратувала керівництво телебачення, його подекуди звинувачували в націоналізмі, а в 1970-х рр. кілька разів навіть намагалися замінити. Але від цієї ідеї довелося відмовитися під тиском обурених телеглядачів, які засипали студію Довженка та дирекцію УТ листами з проханнями повернути дідуся Панаса на екран і він повертався. Відданий українець, який ніколи не зраджував своєї мови та вишиванки, неодноразово звинувачувався у націоналізмі.\\nПетро Юхимович помер 5 січня 1994 році, прах похований у колумбарії Байкового цвинтаря міста Києва.\\n\\n\\n== Хронологія ==\\n1932—1940 — актор Черкаського робітничо-селянського театру, начальник та художній керівник клубу на станції Гребінка.\\n1941 — призваний у військовий театр Південно-Західного фронту, потрапив у полон, але втік. Згодом потрапив до окупованого гітлерівцями Києва, влаштувався на роботу на залізниці, де організував драматичний гурток\"\n",
      "}\n",
      "\u001b[32;1m\u001b[1;3m[llm/start]\u001b[0m \u001b[1m[1:chain:RetrievalQA > 2:retriever:Retriever > 8:chain:LLMChain > 9:llm:AzureChatOpenAI] Entering LLM run with input:\n",
      "\u001b[0m{\n",
      "  \"prompts\": [\n",
      "    \"Human: Given the following question and context, extract any part of the context AS IS that is relevant to answer the question. If none of the context is relevant return NO_OUTPUT. Remember, DO NOT edit the extracted parts of the context.\\nQuestion: Who is Grandpa Panas?\\nContext: . Згодом Вескляров переїздить до столиці, де активно знімається у багатьох фільмах. Серед них: «Олекса Довбуш», «Гадюка», «Циган», «Іванна», «Вій», «Забудьте слово смерть» тощо. Відзнявся у приблизно 50 фільмах. Проте найбільше запам'ятався малечі та старшому глядачеві як казкар Дідусь Панас. Українська вишиванка Весклярова часом дратувала керівництво телебачення, його подекуди звинувачували в націоналізмі, а в 1970-х рр. кілька разів навіть намагалися замінити. Але від цієї ідеї довелося відмовитися під тиском обурених телеглядачів, які засипали студію Довженка та дирекцію УТ листами з проханнями повернути дідуся Панаса на екран і він повертався. Відданий українець, який ніколи не зраджував своєї мови та вишиванки, неодноразово звинувачувався у націоналізмі.\\nПетро Юхимович помер 5 січня 1994 році, прах похований у колумбарії Байкового цвинтаря міста Києва.\\n\\n\\n== Хронологія ==\\n1932—1940 — актор Черкаського робітничо-селянського театру, начальник та художній керівник клубу на станції Гребінка.\\n1941 — призваний у військовий театр Південно-Західного фронту, потрапив у полон, але втік. Згодом потрапив до окупованого гітлерівцями Києва, влаштувався на роботу на залізниці, де організував драматичний гурток\\nAnswer:\"\n",
      "  ]\n",
      "}\n",
      "\u001b[36;1m\u001b[1;3m[llm/end]\u001b[0m \u001b[1m[1:chain:RetrievalQA > 2:retriever:Retriever > 8:chain:LLMChain > 9:llm:AzureChatOpenAI] [199ms] Exiting LLM run with output:\n",
      "\u001b[0m{\n",
      "  \"generations\": [\n",
      "    [\n",
      "      {\n",
      "        \"text\": \"NO_OUTPUT\",\n",
      "        \"generation_info\": {\n",
      "          \"finish_reason\": \"stop\"\n",
      "        },\n",
      "        \"type\": \"ChatGeneration\",\n",
      "        \"message\": {\n",
      "          \"lc\": 1,\n",
      "          \"type\": \"constructor\",\n",
      "          \"id\": [\n",
      "            \"langchain\",\n",
      "            \"schema\",\n",
      "            \"messages\",\n",
      "            \"AIMessage\"\n",
      "          ],\n",
      "          \"kwargs\": {\n",
      "            \"content\": \"NO_OUTPUT\",\n",
      "            \"additional_kwargs\": {}\n",
      "          }\n",
      "        }\n",
      "      }\n",
      "    ]\n",
      "  ],\n",
      "  \"llm_output\": {\n",
      "    \"token_usage\": {\n",
      "      \"prompt_tokens\": 800,\n",
      "      \"completion_tokens\": 2,\n",
      "      \"total_tokens\": 802\n",
      "    },\n",
      "    \"model_name\": \"gpt-35-turbo\",\n",
      "    \"system_fingerprint\": \"\"\n",
      "  },\n",
      "  \"run\": null\n",
      "}\n",
      "\u001b[36;1m\u001b[1;3m[chain/end]\u001b[0m \u001b[1m[1:chain:RetrievalQA > 2:retriever:Retriever > 8:chain:LLMChain] [202ms] Exiting Chain run with output:\n",
      "\u001b[0m{\n",
      "  \"text\": \"NO_OUTPUT\"\n",
      "}\n"
     ]
    },
    {
     "name": "stderr",
     "output_type": "stream",
     "text": [
      "/opt/homebrew/Caskroom/miniforge/base/envs/llm-simple-QnA-example-1/lib/python3.10/site-packages/langchain/chains/llm.py:316: UserWarning: The predict_and_parse method is deprecated, instead pass an output parser directly to LLMChain.\n",
      "  warnings.warn(\n",
      "/opt/homebrew/Caskroom/miniforge/base/envs/llm-simple-QnA-example-1/lib/python3.10/site-packages/langchain/chains/llm.py:316: UserWarning: The predict_and_parse method is deprecated, instead pass an output parser directly to LLMChain.\n",
      "  warnings.warn(\n"
     ]
    },
    {
     "name": "stdout",
     "output_type": "stream",
     "text": [
      "\u001b[32;1m\u001b[1;3m[chain/start]\u001b[0m \u001b[1m[1:chain:RetrievalQA > 2:retriever:Retriever > 10:chain:LLMChain] Entering Chain run with input:\n",
      "\u001b[0m{\n",
      "  \"question\": \"Who is Grandpa Panas?\",\n",
      "  \"context\": \"Петро́ Юхи́мович Вескляро́в, ім'я при народженні Пінхас Хаїмович Весклер (9 червня 1911(19110609), Тальне, Уманський повіт, Київська губернія, Російська імперія — 5 січня 1994, Київ) — український актор і телеведучий. Заслужений артист Української РСР (1973). Більш відомий під творчим псевдонімом «Дід Панас».\\n\\n\\n== Життєпис ==\\nНародився 9 червня 1911 року в райцентрі Тальне, що на Черкащині. \\nПрізвище Петра Юхимовича зазнало змін під час війни з нацизмом: від єврейського Векслер до Вескляров. Це сталося під час перебування в нацистському фільтраційному таборі, щоб приховати єврейське походження.\\nПрацював на київській залізниці, де організував театральний гурток, згодом його відправляють до Луцька, у Волинський обласний музично-драматичний театр ім. Тараса Шевченка, де він працював до 1959 року. Там зіграв чимало ролей: Миколу Задорожнього з  «Украденого щастя», Командора з «Камінного господаря», Монтанеллі з «Овода» тощо. Талановитого, фактурного, харизматичного актора помітили кінорежисери та почали запрошувати на зйомки у фільмах. Згодом Вескляров переїздить до столиці, де активно знімається у багатьох фільмах. Серед них: «Олекса Довбуш», «Гадюка», «Циган», «Іванна», «Вій», «Забудьте слово смерть» тощо\"\n",
      "}\n",
      "\u001b[32;1m\u001b[1;3m[llm/start]\u001b[0m \u001b[1m[1:chain:RetrievalQA > 2:retriever:Retriever > 10:chain:LLMChain > 11:llm:AzureChatOpenAI] Entering LLM run with input:\n",
      "\u001b[0m{\n",
      "  \"prompts\": [\n",
      "    \"Human: Given the following question and context, extract any part of the context AS IS that is relevant to answer the question. If none of the context is relevant return NO_OUTPUT. Remember, DO NOT edit the extracted parts of the context.\\nQuestion: Who is Grandpa Panas?\\nContext: Петро́ Юхи́мович Вескляро́в, ім'я при народженні Пінхас Хаїмович Весклер (9 червня 1911(19110609), Тальне, Уманський повіт, Київська губернія, Російська імперія — 5 січня 1994, Київ) — український актор і телеведучий. Заслужений артист Української РСР (1973). Більш відомий під творчим псевдонімом «Дід Панас».\\n\\n\\n== Життєпис ==\\nНародився 9 червня 1911 року в райцентрі Тальне, що на Черкащині. \\nПрізвище Петра Юхимовича зазнало змін під час війни з нацизмом: від єврейського Векслер до Вескляров. Це сталося під час перебування в нацистському фільтраційному таборі, щоб приховати єврейське походження.\\nПрацював на київській залізниці, де організував театральний гурток, згодом його відправляють до Луцька, у Волинський обласний музично-драматичний театр ім. Тараса Шевченка, де він працював до 1959 року. Там зіграв чимало ролей: Миколу Задорожнього з  «Украденого щастя», Командора з «Камінного господаря», Монтанеллі з «Овода» тощо. Талановитого, фактурного, харизматичного актора помітили кінорежисери та почали запрошувати на зйомки у фільмах. Згодом Вескляров переїздить до столиці, де активно знімається у багатьох фільмах. Серед них: «Олекса Довбуш», «Гадюка», «Циган», «Іванна», «Вій», «Забудьте слово смерть» тощо\\nAnswer:\"\n",
      "  ]\n",
      "}\n",
      "\u001b[36;1m\u001b[1;3m[llm/end]\u001b[0m \u001b[1m[1:chain:RetrievalQA > 2:retriever:Retriever > 10:chain:LLMChain > 11:llm:AzureChatOpenAI] [587ms] Exiting LLM run with output:\n",
      "\u001b[0m{\n",
      "  \"generations\": [\n",
      "    [\n",
      "      {\n",
      "        \"text\": \"Grandpa Panas is a creative pseudonym for Petro Yuhymovych Vesklyarov, a Ukrainian actor and TV presenter.\",\n",
      "        \"generation_info\": {\n",
      "          \"finish_reason\": \"stop\"\n",
      "        },\n",
      "        \"type\": \"ChatGeneration\",\n",
      "        \"message\": {\n",
      "          \"lc\": 1,\n",
      "          \"type\": \"constructor\",\n",
      "          \"id\": [\n",
      "            \"langchain\",\n",
      "            \"schema\",\n",
      "            \"messages\",\n",
      "            \"AIMessage\"\n",
      "          ],\n",
      "          \"kwargs\": {\n",
      "            \"content\": \"Grandpa Panas is a creative pseudonym for Petro Yuhymovych Vesklyarov, a Ukrainian actor and TV presenter.\",\n",
      "            \"additional_kwargs\": {}\n",
      "          }\n",
      "        }\n",
      "      }\n",
      "    ]\n",
      "  ],\n",
      "  \"llm_output\": {\n",
      "    \"token_usage\": {\n",
      "      \"prompt_tokens\": 818,\n",
      "      \"completion_tokens\": 28,\n",
      "      \"total_tokens\": 846\n",
      "    },\n",
      "    \"model_name\": \"gpt-35-turbo\",\n",
      "    \"system_fingerprint\": \"\"\n",
      "  },\n",
      "  \"run\": null\n",
      "}\n",
      "\u001b[36;1m\u001b[1;3m[chain/end]\u001b[0m \u001b[1m[1:chain:RetrievalQA > 2:retriever:Retriever > 10:chain:LLMChain] [590ms] Exiting Chain run with output:\n",
      "\u001b[0m{\n",
      "  \"text\": \"Grandpa Panas is a creative pseudonym for Petro Yuhymovych Vesklyarov, a Ukrainian actor and TV presenter.\"\n",
      "}\n",
      "\u001b[32;1m\u001b[1;3m[chain/start]\u001b[0m \u001b[1m[1:chain:RetrievalQA > 2:retriever:Retriever > 12:chain:LLMChain] Entering Chain run with input:\n",
      "\u001b[0m{\n",
      "  \"question\": \"Who is Grandpa Panas?\",\n",
      "  \"context\": \".\\nУ 2022 році у Тальному на Черкащині вулиця Крилова стала вулицею Весклярова.\\n\\n\\n== Ролі в театрі ==\\nМикола Задорожний («Украдене щастя» Івана Франка).\\nКомандор («Камінний господар» Лесі Українки).\\nГородничий («Ревізор» Миколи Гоголя).\\nМонтанеллі («Овід» Етель Л. Войнич).\\n\\n\\n== Цікаві факти ==\\nЗначного поширення набула легенда про те, що, будучи ведучим дитячої програми «На добраніч, діти», яка йшла у прямому ефірі, дід Панас завершив програму такою реплікою: «Отака хуйня, малята…» Речових доказів про те, що таке сталося, немає (з архівів телебачення вдалося зберегти лише одну плівку), свідчення ж свідків є суперечливими. Наприклад, колишній колега Весклярова з телебачення журналіст Володимир Заманський цей факт заперечував, а диктор УТ Світлана Білоножко — підтверджує, але вже після ефіру, хоча сама особисто свідком цього не була.\\nПисьменник Тимур Лито\"\n",
      "}\n",
      "\u001b[32;1m\u001b[1;3m[llm/start]\u001b[0m \u001b[1m[1:chain:RetrievalQA > 2:retriever:Retriever > 12:chain:LLMChain > 13:llm:AzureChatOpenAI] Entering LLM run with input:\n",
      "\u001b[0m{\n",
      "  \"prompts\": [\n",
      "    \"Human: Given the following question and context, extract any part of the context AS IS that is relevant to answer the question. If none of the context is relevant return NO_OUTPUT. Remember, DO NOT edit the extracted parts of the context.\\nQuestion: Who is Grandpa Panas?\\nContext: .\\nУ 2022 році у Тальному на Черкащині вулиця Крилова стала вулицею Весклярова.\\n\\n\\n== Ролі в театрі ==\\nМикола Задорожний («Украдене щастя» Івана Франка).\\nКомандор («Камінний господар» Лесі Українки).\\nГородничий («Ревізор» Миколи Гоголя).\\nМонтанеллі («Овід» Етель Л. Войнич).\\n\\n\\n== Цікаві факти ==\\nЗначного поширення набула легенда про те, що, будучи ведучим дитячої програми «На добраніч, діти», яка йшла у прямому ефірі, дід Панас завершив програму такою реплікою: «Отака хуйня, малята…» Речових доказів про те, що таке сталося, немає (з архівів телебачення вдалося зберегти лише одну плівку), свідчення ж свідків є суперечливими. Наприклад, колишній колега Весклярова з телебачення журналіст Володимир Заманський цей факт заперечував, а диктор УТ Світлана Білоножко — підтверджує, але вже після ефіру, хоча сама особисто свідком цього не була.\\nПисьменник Тимур Лито\\nAnswer:\"\n",
      "  ]\n",
      "}\n"
     ]
    },
    {
     "name": "stderr",
     "output_type": "stream",
     "text": [
      "/opt/homebrew/Caskroom/miniforge/base/envs/llm-simple-QnA-example-1/lib/python3.10/site-packages/langchain/chains/llm.py:316: UserWarning: The predict_and_parse method is deprecated, instead pass an output parser directly to LLMChain.\n",
      "  warnings.warn(\n"
     ]
    },
    {
     "name": "stdout",
     "output_type": "stream",
     "text": [
      "\u001b[36;1m\u001b[1;3m[llm/end]\u001b[0m \u001b[1m[1:chain:RetrievalQA > 2:retriever:Retriever > 12:chain:LLMChain > 13:llm:AzureChatOpenAI] [217ms] Exiting LLM run with output:\n",
      "\u001b[0m{\n",
      "  \"generations\": [\n",
      "    [\n",
      "      {\n",
      "        \"text\": \"NO_OUTPUT.\",\n",
      "        \"generation_info\": {\n",
      "          \"finish_reason\": \"stop\"\n",
      "        },\n",
      "        \"type\": \"ChatGeneration\",\n",
      "        \"message\": {\n",
      "          \"lc\": 1,\n",
      "          \"type\": \"constructor\",\n",
      "          \"id\": [\n",
      "            \"langchain\",\n",
      "            \"schema\",\n",
      "            \"messages\",\n",
      "            \"AIMessage\"\n",
      "          ],\n",
      "          \"kwargs\": {\n",
      "            \"content\": \"NO_OUTPUT.\",\n",
      "            \"additional_kwargs\": {}\n",
      "          }\n",
      "        }\n",
      "      }\n",
      "    ]\n",
      "  ],\n",
      "  \"llm_output\": {\n",
      "    \"token_usage\": {\n",
      "      \"prompt_tokens\": 571,\n",
      "      \"completion_tokens\": 3,\n",
      "      \"total_tokens\": 574\n",
      "    },\n",
      "    \"model_name\": \"gpt-35-turbo\",\n",
      "    \"system_fingerprint\": \"\"\n",
      "  },\n",
      "  \"run\": null\n",
      "}\n",
      "\u001b[36;1m\u001b[1;3m[chain/end]\u001b[0m \u001b[1m[1:chain:RetrievalQA > 2:retriever:Retriever > 12:chain:LLMChain] [220ms] Exiting Chain run with output:\n",
      "\u001b[0m{\n",
      "  \"text\": \"NO_OUTPUT.\"\n",
      "}\n",
      "\u001b[32;1m\u001b[1;3m[chain/start]\u001b[0m \u001b[1m[1:chain:RetrievalQA > 14:chain:StuffDocumentsChain] Entering Chain run with input:\n",
      "\u001b[0m[inputs]\n",
      "\u001b[32;1m\u001b[1;3m[chain/start]\u001b[0m \u001b[1m[1:chain:RetrievalQA > 14:chain:StuffDocumentsChain > 15:chain:LLMChain] Entering Chain run with input:\n",
      "\u001b[0m{\n",
      "  \"question\": \"Who is Grandpa Panas?\",\n",
      "  \"context\": \"Grandpa Panas is a nickname for Petro Yukhymovych Vesklyarov, a Ukrainian theater and television actor who appeared as the character \\\"Дід Панас\\\" (Grandpa Panas) in the Ukrainian television series \\\"На добраніч, діти\\\" (Goodnight, children).\\n\\nNO_OUTPUT.\\n\\nNO_OUTPUT\\n\\nGrandpa Panas is a creative pseudonym for Petro Yuhymovych Vesklyarov, a Ukrainian actor and TV presenter.\\n\\nNO_OUTPUT.\"\n",
      "}\n",
      "\u001b[32;1m\u001b[1;3m[llm/start]\u001b[0m \u001b[1m[1:chain:RetrievalQA > 14:chain:StuffDocumentsChain > 15:chain:LLMChain > 16:llm:AzureChatOpenAI] Entering LLM run with input:\n",
      "\u001b[0m{\n",
      "  \"prompts\": [\n",
      "    \"Human: Use the following pieces of context to answer the question at the end. Please provide a short single-sentence summary answer only. If you don't know the answer or if it's not present in given context, don't try to make up an answer.\\nContext: Grandpa Panas is a nickname for Petro Yukhymovych Vesklyarov, a Ukrainian theater and television actor who appeared as the character \\\"Дід Панас\\\" (Grandpa Panas) in the Ukrainian television series \\\"На добраніч, діти\\\" (Goodnight, children).\\n\\nNO_OUTPUT.\\n\\nNO_OUTPUT\\n\\nGrandpa Panas is a creative pseudonym for Petro Yuhymovych Vesklyarov, a Ukrainian actor and TV presenter.\\n\\nNO_OUTPUT.\\nQuestion: Who is Grandpa Panas?\\nHelpful Answer:\"\n",
      "  ]\n",
      "}\n",
      "\u001b[36;1m\u001b[1;3m[llm/end]\u001b[0m \u001b[1m[1:chain:RetrievalQA > 14:chain:StuffDocumentsChain > 15:chain:LLMChain > 16:llm:AzureChatOpenAI] [1.15s] Exiting LLM run with output:\n",
      "\u001b[0m{\n",
      "  \"generations\": [\n",
      "    [\n",
      "      {\n",
      "        \"text\": \"Grandpa Panas is a nickname for Petro Yukhymovych Vesklyarov, a Ukrainian theater and television actor who appeared as the character \\\"Дід Панас\\\" (Grandpa Panas) in the Ukrainian television series \\\"На добраніч, діти\\\" (Goodnight, children).\",\n",
      "        \"generation_info\": {\n",
      "          \"finish_reason\": \"stop\"\n",
      "        },\n",
      "        \"type\": \"ChatGeneration\",\n",
      "        \"message\": {\n",
      "          \"lc\": 1,\n",
      "          \"type\": \"constructor\",\n",
      "          \"id\": [\n",
      "            \"langchain\",\n",
      "            \"schema\",\n",
      "            \"messages\",\n",
      "            \"AIMessage\"\n",
      "          ],\n",
      "          \"kwargs\": {\n",
      "            \"content\": \"Grandpa Panas is a nickname for Petro Yukhymovych Vesklyarov, a Ukrainian theater and television actor who appeared as the character \\\"Дід Панас\\\" (Grandpa Panas) in the Ukrainian television series \\\"На добраніч, діти\\\" (Goodnight, children).\",\n",
      "            \"additional_kwargs\": {}\n",
      "          }\n",
      "        }\n",
      "      }\n",
      "    ]\n",
      "  ],\n",
      "  \"llm_output\": {\n",
      "    \"token_usage\": {\n",
      "      \"prompt_tokens\": 178,\n",
      "      \"completion_tokens\": 67,\n",
      "      \"total_tokens\": 245\n",
      "    },\n",
      "    \"model_name\": \"gpt-35-turbo\",\n",
      "    \"system_fingerprint\": \"\"\n",
      "  },\n",
      "  \"run\": null\n",
      "}\n",
      "\u001b[36;1m\u001b[1;3m[chain/end]\u001b[0m \u001b[1m[1:chain:RetrievalQA > 14:chain:StuffDocumentsChain > 15:chain:LLMChain] [1.16s] Exiting Chain run with output:\n",
      "\u001b[0m{\n",
      "  \"text\": \"Grandpa Panas is a nickname for Petro Yukhymovych Vesklyarov, a Ukrainian theater and television actor who appeared as the character \\\"Дід Панас\\\" (Grandpa Panas) in the Ukrainian television series \\\"На добраніч, діти\\\" (Goodnight, children).\"\n",
      "}\n",
      "\u001b[36;1m\u001b[1;3m[chain/end]\u001b[0m \u001b[1m[1:chain:RetrievalQA > 14:chain:StuffDocumentsChain] [1.16s] Exiting Chain run with output:\n",
      "\u001b[0m{\n",
      "  \"output_text\": \"Grandpa Panas is a nickname for Petro Yukhymovych Vesklyarov, a Ukrainian theater and television actor who appeared as the character \\\"Дід Панас\\\" (Grandpa Panas) in the Ukrainian television series \\\"На добраніч, діти\\\" (Goodnight, children).\"\n",
      "}\n",
      "\u001b[36;1m\u001b[1;3m[chain/end]\u001b[0m \u001b[1m[1:chain:RetrievalQA] [3.79s] Exiting Chain run with output:\n",
      "\u001b[0m{\n",
      "  \"result\": \"Grandpa Panas is a nickname for Petro Yukhymovych Vesklyarov, a Ukrainian theater and television actor who appeared as the character \\\"Дід Панас\\\" (Grandpa Panas) in the Ukrainian television series \\\"На добраніч, діти\\\" (Goodnight, children).\"\n",
      "}\n"
     ]
    }
   ],
   "source": [
    "with debug_langchain():\n",
    "    question = \"Who is Grandpa Panas?\"\n",
    "    # qa_chain({\"query\": question})\n",
    "    qa_chain.run(question)"
   ],
   "metadata": {
    "collapsed": false,
    "ExecuteTime": {
     "end_time": "2024-01-25T14:15:11.533931Z",
     "start_time": "2024-01-25T14:15:07.729372Z"
    }
   },
   "id": "339beb0b7f7ee422"
  },
  {
   "cell_type": "code",
   "execution_count": 36,
   "outputs": [
    {
     "name": "stdout",
     "output_type": "stream",
     "text": [
      "\u001b[32;1m\u001b[1;3m[chain/start]\u001b[0m \u001b[1m[1:chain:RetrievalQA] Entering Chain run with input:\n",
      "\u001b[0m{\n",
      "  \"query\": \"Хто такий дід Панас?\"\n",
      "}\n",
      "\u001b[32;1m\u001b[1;3m[chain/start]\u001b[0m \u001b[1m[1:chain:RetrievalQA > 2:retriever:Retriever > 4:chain:LLMChain] Entering Chain run with input:\n",
      "\u001b[0m{\n",
      "  \"question\": \"Хто такий дід Панас?\",\n",
      "  \"context\": \".\\n1941 — призваний у військовий театр Південно-Західного фронту, потрапив у полон, але втік. Згодом потрапив до окупованого гітлерівцями Києва, влаштувався на роботу на залізниці, де організував драматичний гурток. 1946 року був скерований до Луцька — у Волинський український музично-драматичний театр імені Тараса Шевченка, де працював до 1959-го.\\nУ Луцьку одружився із секретаркою театру Галиною, де народився його син Богдан.1959—1982 — на Київській кіностудії художніх фільмів імені Олександра Довженка.\\nЗ 1962 р. у ролі діда Панаса розповідав на Українському радіо «вечірню казку» для дітей (перед тим Вескляров працював у цій ролі на підміні іншого актора, якого згодом замінив цілком).1964—1986 — у ролі діда Панаса вів на Українському телебаченні програму «На добраніч, діти».\\n\\n\\n== Вшанування пам'яті ==\\nПохований у колумбарії Байкового кладовища. Вдова виїхала до США, перед тим передавши кіноплівки із записами «діда Панаса» братам Капрановим.\\n\\n2019 року на приміщенні тальнівської школи, на місці якої стояв будинок, де народився Петро Вескляров, встановлено пам'ятну дошку.\\nУ 2022 році у Тальному на Черкащині вулиця Крилова стала вулицею Весклярова.\\n\\n\\n== Ролі в театрі ==\\nМикола Задорожний («Украдене щастя» Івана Франка).\\nКомандор («Камінний господар» Лесі Українки)\"\n",
      "}\n",
      "\u001b[32;1m\u001b[1;3m[llm/start]\u001b[0m \u001b[1m[1:chain:RetrievalQA > 2:retriever:Retriever > 4:chain:LLMChain > 5:llm:AzureChatOpenAI] Entering LLM run with input:\n",
      "\u001b[0m{\n",
      "  \"prompts\": [\n",
      "    \"Human: Given the following question and context, extract any part of the context AS IS that is relevant to answer the question. If none of the context is relevant return NO_OUTPUT. Remember, DO NOT edit the extracted parts of the context.\\nQuestion: Хто такий дід Панас?\\nContext: .\\n1941 — призваний у військовий театр Південно-Західного фронту, потрапив у полон, але втік. Згодом потрапив до окупованого гітлерівцями Києва, влаштувався на роботу на залізниці, де організував драматичний гурток. 1946 року був скерований до Луцька — у Волинський український музично-драматичний театр імені Тараса Шевченка, де працював до 1959-го.\\nУ Луцьку одружився із секретаркою театру Галиною, де народився його син Богдан.1959—1982 — на Київській кіностудії художніх фільмів імені Олександра Довженка.\\nЗ 1962 р. у ролі діда Панаса розповідав на Українському радіо «вечірню казку» для дітей (перед тим Вескляров працював у цій ролі на підміні іншого актора, якого згодом замінив цілком).1964—1986 — у ролі діда Панаса вів на Українському телебаченні програму «На добраніч, діти».\\n\\n\\n== Вшанування пам'яті ==\\nПохований у колумбарії Байкового кладовища. Вдова виїхала до США, перед тим передавши кіноплівки із записами «діда Панаса» братам Капрановим.\\n\\n2019 року на приміщенні тальнівської школи, на місці якої стояв будинок, де народився Петро Вескляров, встановлено пам'ятну дошку.\\nУ 2022 році у Тальному на Черкащині вулиця Крилова стала вулицею Весклярова.\\n\\n\\n== Ролі в театрі ==\\nМикола Задорожний («Украдене щастя» Івана Франка).\\nКомандор («Камінний господар» Лесі Українки)\\nAnswer:\"\n",
      "  ]\n",
      "}\n"
     ]
    },
    {
     "name": "stderr",
     "output_type": "stream",
     "text": [
      "/opt/homebrew/Caskroom/miniforge/base/envs/llm-simple-QnA-example-1/lib/python3.10/site-packages/langchain/chains/llm.py:316: UserWarning: The predict_and_parse method is deprecated, instead pass an output parser directly to LLMChain.\n",
      "  warnings.warn(\n"
     ]
    },
    {
     "name": "stdout",
     "output_type": "stream",
     "text": [
      "\u001b[36;1m\u001b[1;3m[llm/end]\u001b[0m \u001b[1m[1:chain:RetrievalQA > 2:retriever:Retriever > 4:chain:LLMChain > 5:llm:AzureChatOpenAI] [2.11s] Exiting LLM run with output:\n",
      "\u001b[0m{\n",
      "  \"generations\": [\n",
      "    [\n",
      "      {\n",
      "        \"text\": \"З 1962 р. у ролі діда Панаса розповідав на Українському радіо «вечірню казку» для дітей (перед тим Вескляров працював у цій ролі на підміні іншого актора, якого згодом замінив цілком). 1964—1986 — у ролі діда Панаса вів на Українському телебаченні програму «На добраніч, діти».\",\n",
      "        \"generation_info\": {\n",
      "          \"finish_reason\": \"stop\"\n",
      "        },\n",
      "        \"type\": \"ChatGeneration\",\n",
      "        \"message\": {\n",
      "          \"lc\": 1,\n",
      "          \"type\": \"constructor\",\n",
      "          \"id\": [\n",
      "            \"langchain\",\n",
      "            \"schema\",\n",
      "            \"messages\",\n",
      "            \"AIMessage\"\n",
      "          ],\n",
      "          \"kwargs\": {\n",
      "            \"content\": \"З 1962 р. у ролі діда Панаса розповідав на Українському радіо «вечірню казку» для дітей (перед тим Вескляров працював у цій ролі на підміні іншого актора, якого згодом замінив цілком). 1964—1986 — у ролі діда Панаса вів на Українському телебаченні програму «На добраніч, діти».\",\n",
      "            \"additional_kwargs\": {}\n",
      "          }\n",
      "        }\n",
      "      }\n",
      "    ]\n",
      "  ],\n",
      "  \"llm_output\": {\n",
      "    \"token_usage\": {\n",
      "      \"prompt_tokens\": 832,\n",
      "      \"completion_tokens\": 166,\n",
      "      \"total_tokens\": 998\n",
      "    },\n",
      "    \"model_name\": \"gpt-35-turbo\",\n",
      "    \"system_fingerprint\": \"\"\n",
      "  },\n",
      "  \"run\": null\n",
      "}\n",
      "\u001b[36;1m\u001b[1;3m[chain/end]\u001b[0m \u001b[1m[1:chain:RetrievalQA > 2:retriever:Retriever > 4:chain:LLMChain] [2.11s] Exiting Chain run with output:\n",
      "\u001b[0m{\n",
      "  \"text\": \"З 1962 р. у ролі діда Панаса розповідав на Українському радіо «вечірню казку» для дітей (перед тим Вескляров працював у цій ролі на підміні іншого актора, якого згодом замінив цілком). 1964—1986 — у ролі діда Панаса вів на Українському телебаченні програму «На добраніч, діти».\"\n",
      "}\n",
      "\u001b[32;1m\u001b[1;3m[chain/start]\u001b[0m \u001b[1m[1:chain:RetrievalQA > 2:retriever:Retriever > 6:chain:LLMChain] Entering Chain run with input:\n",
      "\u001b[0m{\n",
      "  \"question\": \"Хто такий дід Панас?\",\n",
      "  \"context\": \"Петро́ Юхи́мович Вескляро́в, ім'я при народженні Пінхас Хаїмович Весклер (9 червня 1911(19110609), Тальне, Уманський повіт, Київська губернія, Російська імперія — 5 січня 1994, Київ) — український актор і телеведучий. Заслужений артист Української РСР (1973). Більш відомий під творчим псевдонімом «Дід Панас».\\n\\n\\n== Життєпис ==\\nНародився 9 червня 1911 року в райцентрі Тальне, що на Черкащині. \\nПрізвище Петра Юхимовича зазнало змін під час війни з нацизмом: від єврейського Векслер до Вескляров. Це сталося під час перебування в нацистському фільтраційному таборі, щоб приховати єврейське походження.\\nПрацював на київській залізниці, де організував театральний гурток, згодом його відправляють до Луцька, у Волинський обласний музично-драматичний театр ім. Тараса Шевченка, де він працював до 1959 року. Там зіграв чимало ролей: Миколу Задорожнього з  «Украденого щастя», Командора з «Камінного господаря», Монтанеллі з «Овода» тощо. Талановитого, фактурного, харизматичного актора помітили кінорежисери та почали запрошувати на зйомки у фільмах. Згодом Вескляров переїздить до столиці, де активно знімається у багатьох фільмах. Серед них: «Олекса Довбуш», «Гадюка», «Циган», «Іванна», «Вій», «Забудьте слово смерть» тощо\"\n",
      "}\n",
      "\u001b[32;1m\u001b[1;3m[llm/start]\u001b[0m \u001b[1m[1:chain:RetrievalQA > 2:retriever:Retriever > 6:chain:LLMChain > 7:llm:AzureChatOpenAI] Entering LLM run with input:\n",
      "\u001b[0m{\n",
      "  \"prompts\": [\n",
      "    \"Human: Given the following question and context, extract any part of the context AS IS that is relevant to answer the question. If none of the context is relevant return NO_OUTPUT. Remember, DO NOT edit the extracted parts of the context.\\nQuestion: Хто такий дід Панас?\\nContext: Петро́ Юхи́мович Вескляро́в, ім'я при народженні Пінхас Хаїмович Весклер (9 червня 1911(19110609), Тальне, Уманський повіт, Київська губернія, Російська імперія — 5 січня 1994, Київ) — український актор і телеведучий. Заслужений артист Української РСР (1973). Більш відомий під творчим псевдонімом «Дід Панас».\\n\\n\\n== Життєпис ==\\nНародився 9 червня 1911 року в райцентрі Тальне, що на Черкащині. \\nПрізвище Петра Юхимовича зазнало змін під час війни з нацизмом: від єврейського Векслер до Вескляров. Це сталося під час перебування в нацистському фільтраційному таборі, щоб приховати єврейське походження.\\nПрацював на київській залізниці, де організував театральний гурток, згодом його відправляють до Луцька, у Волинський обласний музично-драматичний театр ім. Тараса Шевченка, де він працював до 1959 року. Там зіграв чимало ролей: Миколу Задорожнього з  «Украденого щастя», Командора з «Камінного господаря», Монтанеллі з «Овода» тощо. Талановитого, фактурного, харизматичного актора помітили кінорежисери та почали запрошувати на зйомки у фільмах. Згодом Вескляров переїздить до столиці, де активно знімається у багатьох фільмах. Серед них: «Олекса Довбуш», «Гадюка», «Циган», «Іванна», «Вій», «Забудьте слово смерть» тощо\\nAnswer:\"\n",
      "  ]\n",
      "}\n"
     ]
    },
    {
     "name": "stderr",
     "output_type": "stream",
     "text": [
      "/opt/homebrew/Caskroom/miniforge/base/envs/llm-simple-QnA-example-1/lib/python3.10/site-packages/langchain/chains/llm.py:316: UserWarning: The predict_and_parse method is deprecated, instead pass an output parser directly to LLMChain.\n",
      "  warnings.warn(\n"
     ]
    },
    {
     "name": "stdout",
     "output_type": "stream",
     "text": [
      "\u001b[36;1m\u001b[1;3m[llm/end]\u001b[0m \u001b[1m[1:chain:RetrievalQA > 2:retriever:Retriever > 6:chain:LLMChain > 7:llm:AzureChatOpenAI] [2.82s] Exiting LLM run with output:\n",
      "\u001b[0m{\n",
      "  \"generations\": [\n",
      "    [\n",
      "      {\n",
      "        \"text\": \"Петро́ Юхи́мович Вескляро́в, ім'я при народженні Пінхас Хаїмович Весклер (9 червня 1911(19110609), Тальне, Уманський повіт, Київська губернія, Російська імперія — 5 січня 1994, Київ) — український актор і телеведучий. Заслужений артист Української РСР (1973). Більш відомий під творчим псевдонімом «Дід Панас».\",\n",
      "        \"generation_info\": {\n",
      "          \"finish_reason\": \"stop\"\n",
      "        },\n",
      "        \"type\": \"ChatGeneration\",\n",
      "        \"message\": {\n",
      "          \"lc\": 1,\n",
      "          \"type\": \"constructor\",\n",
      "          \"id\": [\n",
      "            \"langchain\",\n",
      "            \"schema\",\n",
      "            \"messages\",\n",
      "            \"AIMessage\"\n",
      "          ],\n",
      "          \"kwargs\": {\n",
      "            \"content\": \"Петро́ Юхи́мович Вескляро́в, ім'я при народженні Пінхас Хаїмович Весклер (9 червня 1911(19110609), Тальне, Уманський повіт, Київська губернія, Російська імперія — 5 січня 1994, Київ) — український актор і телеведучий. Заслужений артист Української РСР (1973). Більш відомий під творчим псевдонімом «Дід Панас».\",\n",
      "            \"additional_kwargs\": {}\n",
      "          }\n",
      "        }\n",
      "      }\n",
      "    ]\n",
      "  ],\n",
      "  \"llm_output\": {\n",
      "    \"token_usage\": {\n",
      "      \"prompt_tokens\": 823,\n",
      "      \"completion_tokens\": 206,\n",
      "      \"total_tokens\": 1029\n",
      "    },\n",
      "    \"model_name\": \"gpt-35-turbo\",\n",
      "    \"system_fingerprint\": \"\"\n",
      "  },\n",
      "  \"run\": null\n",
      "}\n",
      "\u001b[36;1m\u001b[1;3m[chain/end]\u001b[0m \u001b[1m[1:chain:RetrievalQA > 2:retriever:Retriever > 6:chain:LLMChain] [2.82s] Exiting Chain run with output:\n",
      "\u001b[0m{\n",
      "  \"text\": \"Петро́ Юхи́мович Вескляро́в, ім'я при народженні Пінхас Хаїмович Весклер (9 червня 1911(19110609), Тальне, Уманський повіт, Київська губернія, Російська імперія — 5 січня 1994, Київ) — український актор і телеведучий. Заслужений артист Української РСР (1973). Більш відомий під творчим псевдонімом «Дід Панас».\"\n",
      "}\n",
      "\u001b[32;1m\u001b[1;3m[chain/start]\u001b[0m \u001b[1m[1:chain:RetrievalQA > 2:retriever:Retriever > 8:chain:LLMChain] Entering Chain run with input:\n",
      "\u001b[0m{\n",
      "  \"question\": \"Хто такий дід Панас?\",\n",
      "  \"context\": \". Згодом Вескляров переїздить до столиці, де активно знімається у багатьох фільмах. Серед них: «Олекса Довбуш», «Гадюка», «Циган», «Іванна», «Вій», «Забудьте слово смерть» тощо. Відзнявся у приблизно 50 фільмах. Проте найбільше запам'ятався малечі та старшому глядачеві як казкар Дідусь Панас. Українська вишиванка Весклярова часом дратувала керівництво телебачення, його подекуди звинувачували в націоналізмі, а в 1970-х рр. кілька разів навіть намагалися замінити. Але від цієї ідеї довелося відмовитися під тиском обурених телеглядачів, які засипали студію Довженка та дирекцію УТ листами з проханнями повернути дідуся Панаса на екран і він повертався. Відданий українець, який ніколи не зраджував своєї мови та вишиванки, неодноразово звинувачувався у націоналізмі.\\nПетро Юхимович помер 5 січня 1994 році, прах похований у колумбарії Байкового цвинтаря міста Києва.\\n\\n\\n== Хронологія ==\\n1932—1940 — актор Черкаського робітничо-селянського театру, начальник та художній керівник клубу на станції Гребінка.\\n1941 — призваний у військовий театр Південно-Західного фронту, потрапив у полон, але втік. Згодом потрапив до окупованого гітлерівцями Києва, влаштувався на роботу на залізниці, де організував драматичний гурток\"\n",
      "}\n",
      "\u001b[32;1m\u001b[1;3m[llm/start]\u001b[0m \u001b[1m[1:chain:RetrievalQA > 2:retriever:Retriever > 8:chain:LLMChain > 9:llm:AzureChatOpenAI] Entering LLM run with input:\n",
      "\u001b[0m{\n",
      "  \"prompts\": [\n",
      "    \"Human: Given the following question and context, extract any part of the context AS IS that is relevant to answer the question. If none of the context is relevant return NO_OUTPUT. Remember, DO NOT edit the extracted parts of the context.\\nQuestion: Хто такий дід Панас?\\nContext: . Згодом Вескляров переїздить до столиці, де активно знімається у багатьох фільмах. Серед них: «Олекса Довбуш», «Гадюка», «Циган», «Іванна», «Вій», «Забудьте слово смерть» тощо. Відзнявся у приблизно 50 фільмах. Проте найбільше запам'ятався малечі та старшому глядачеві як казкар Дідусь Панас. Українська вишиванка Весклярова часом дратувала керівництво телебачення, його подекуди звинувачували в націоналізмі, а в 1970-х рр. кілька разів навіть намагалися замінити. Але від цієї ідеї довелося відмовитися під тиском обурених телеглядачів, які засипали студію Довженка та дирекцію УТ листами з проханнями повернути дідуся Панаса на екран і він повертався. Відданий українець, який ніколи не зраджував своєї мови та вишиванки, неодноразово звинувачувався у націоналізмі.\\nПетро Юхимович помер 5 січня 1994 році, прах похований у колумбарії Байкового цвинтаря міста Києва.\\n\\n\\n== Хронологія ==\\n1932—1940 — актор Черкаського робітничо-селянського театру, начальник та художній керівник клубу на станції Гребінка.\\n1941 — призваний у військовий театр Південно-Західного фронту, потрапив у полон, але втік. Згодом потрапив до окупованого гітлерівцями Києва, влаштувався на роботу на залізниці, де організував драматичний гурток\\nAnswer:\"\n",
      "  ]\n",
      "}\n"
     ]
    },
    {
     "name": "stderr",
     "output_type": "stream",
     "text": [
      "/opt/homebrew/Caskroom/miniforge/base/envs/llm-simple-QnA-example-1/lib/python3.10/site-packages/langchain/chains/llm.py:316: UserWarning: The predict_and_parse method is deprecated, instead pass an output parser directly to LLMChain.\n",
      "  warnings.warn(\n"
     ]
    },
    {
     "name": "stdout",
     "output_type": "stream",
     "text": [
      "\u001b[36;1m\u001b[1;3m[llm/end]\u001b[0m \u001b[1m[1:chain:RetrievalQA > 2:retriever:Retriever > 8:chain:LLMChain > 9:llm:AzureChatOpenAI] [527ms] Exiting LLM run with output:\n",
      "\u001b[0m{\n",
      "  \"generations\": [\n",
      "    [\n",
      "      {\n",
      "        \"text\": \"NO_OUTPUT. The context does not provide information about who Дід Панас is.\",\n",
      "        \"generation_info\": {\n",
      "          \"finish_reason\": \"stop\"\n",
      "        },\n",
      "        \"type\": \"ChatGeneration\",\n",
      "        \"message\": {\n",
      "          \"lc\": 1,\n",
      "          \"type\": \"constructor\",\n",
      "          \"id\": [\n",
      "            \"langchain\",\n",
      "            \"schema\",\n",
      "            \"messages\",\n",
      "            \"AIMessage\"\n",
      "          ],\n",
      "          \"kwargs\": {\n",
      "            \"content\": \"NO_OUTPUT. The context does not provide information about who Дід Панас is.\",\n",
      "            \"additional_kwargs\": {}\n",
      "          }\n",
      "        }\n",
      "      }\n",
      "    ]\n",
      "  ],\n",
      "  \"llm_output\": {\n",
      "    \"token_usage\": {\n",
      "      \"prompt_tokens\": 805,\n",
      "      \"completion_tokens\": 19,\n",
      "      \"total_tokens\": 824\n",
      "    },\n",
      "    \"model_name\": \"gpt-35-turbo\",\n",
      "    \"system_fingerprint\": \"\"\n",
      "  },\n",
      "  \"run\": null\n",
      "}\n",
      "\u001b[36;1m\u001b[1;3m[chain/end]\u001b[0m \u001b[1m[1:chain:RetrievalQA > 2:retriever:Retriever > 8:chain:LLMChain] [533ms] Exiting Chain run with output:\n",
      "\u001b[0m{\n",
      "  \"text\": \"NO_OUTPUT. The context does not provide information about who Дід Панас is.\"\n",
      "}\n",
      "\u001b[32;1m\u001b[1;3m[chain/start]\u001b[0m \u001b[1m[1:chain:RetrievalQA > 2:retriever:Retriever > 10:chain:LLMChain] Entering Chain run with input:\n",
      "\u001b[0m{\n",
      "  \"question\": \"Хто такий дід Панас?\",\n",
      "  \"context\": \"Petro Yukhymovych Vesklyarov (Ukrainian: Вескляров Петро Юхимович) (June 10 [O.S. May 28] 1911 in Talne, Ukraine – January 5, 1994 in Kyiv) was a Ukrainian theater and television actor. He was also known by the nickname Did Panas (Grandpa Panas, Ukrainian: дід Панас).\\nBetween 1932 and 1940, Vesklyarov was an actor in a travelling workers' theatre, and between 1946 and 1959 he performed at the Taras Shevchenko Musical-Drama Theatre in Lutsk, Volyn. Between 1959 and 1982 Veslklyarov worked in the Dovzhenko Film Studios, appearing in a number of films. He starred in the 1959 drama film Ivanna and appeared in the 1970 comedy film Two Days of Miracles. During this time (1964-1986) he appeared as the character \\\"Дід Панас\\\" (Grandpa Panas) in the Ukrainian television series \\\"На добраніч, діти\\\"  (Goodnight, children).In 1973, he was awarded the title Meritorious Artist of the Ukrainian SSR.\\n\\n\\n== Commemoration ==\\nHe was buried in the columbarium of the Baikove cemetery. The widow left for the United States, before handing over the films with the recordings of \\\"Grandpa Panas\\\" to the Kapranov brothers.In 2019, a memorial plaque was installed on the premises of the Talne school, where the house where Petro Veskliarov was born stood. In 2022, in Talne, Cherkasy region, Krylov Street became Veskliarov Street.\\n\\n\\n== References ==\\n\\n\\n== External links ==\\nPetro Vesklyarov at IMDb\"\n",
      "}\n",
      "\u001b[32;1m\u001b[1;3m[llm/start]\u001b[0m \u001b[1m[1:chain:RetrievalQA > 2:retriever:Retriever > 10:chain:LLMChain > 11:llm:AzureChatOpenAI] Entering LLM run with input:\n",
      "\u001b[0m{\n",
      "  \"prompts\": [\n",
      "    \"Human: Given the following question and context, extract any part of the context AS IS that is relevant to answer the question. If none of the context is relevant return NO_OUTPUT. Remember, DO NOT edit the extracted parts of the context.\\nQuestion: Хто такий дід Панас?\\nContext: Petro Yukhymovych Vesklyarov (Ukrainian: Вескляров Петро Юхимович) (June 10 [O.S. May 28] 1911 in Talne, Ukraine – January 5, 1994 in Kyiv) was a Ukrainian theater and television actor. He was also known by the nickname Did Panas (Grandpa Panas, Ukrainian: дід Панас).\\nBetween 1932 and 1940, Vesklyarov was an actor in a travelling workers' theatre, and between 1946 and 1959 he performed at the Taras Shevchenko Musical-Drama Theatre in Lutsk, Volyn. Between 1959 and 1982 Veslklyarov worked in the Dovzhenko Film Studios, appearing in a number of films. He starred in the 1959 drama film Ivanna and appeared in the 1970 comedy film Two Days of Miracles. During this time (1964-1986) he appeared as the character \\\"Дід Панас\\\" (Grandpa Panas) in the Ukrainian television series \\\"На добраніч, діти\\\"  (Goodnight, children).In 1973, he was awarded the title Meritorious Artist of the Ukrainian SSR.\\n\\n\\n== Commemoration ==\\nHe was buried in the columbarium of the Baikove cemetery. The widow left for the United States, before handing over the films with the recordings of \\\"Grandpa Panas\\\" to the Kapranov brothers.In 2019, a memorial plaque was installed on the premises of the Talne school, where the house where Petro Veskliarov was born stood. In 2022, in Talne, Cherkasy region, Krylov Street became Veskliarov Street.\\n\\n\\n== References ==\\n\\n\\n== External links ==\\nPetro Vesklyarov at IMDb\\nAnswer:\"\n",
      "  ]\n",
      "}\n"
     ]
    },
    {
     "name": "stderr",
     "output_type": "stream",
     "text": [
      "/opt/homebrew/Caskroom/miniforge/base/envs/llm-simple-QnA-example-1/lib/python3.10/site-packages/langchain/chains/llm.py:316: UserWarning: The predict_and_parse method is deprecated, instead pass an output parser directly to LLMChain.\n",
      "  warnings.warn(\n"
     ]
    },
    {
     "name": "stdout",
     "output_type": "stream",
     "text": [
      "\u001b[36;1m\u001b[1;3m[llm/end]\u001b[0m \u001b[1m[1:chain:RetrievalQA > 2:retriever:Retriever > 10:chain:LLMChain > 11:llm:AzureChatOpenAI] [557ms] Exiting LLM run with output:\n",
      "\u001b[0m{\n",
      "  \"generations\": [\n",
      "    [\n",
      "      {\n",
      "        \"text\": \"Petro Vesklyarov was also known by the nickname Did Panas (Grandpa Panas, Ukrainian: дід Панас).\",\n",
      "        \"generation_info\": {\n",
      "          \"finish_reason\": \"stop\"\n",
      "        },\n",
      "        \"type\": \"ChatGeneration\",\n",
      "        \"message\": {\n",
      "          \"lc\": 1,\n",
      "          \"type\": \"constructor\",\n",
      "          \"id\": [\n",
      "            \"langchain\",\n",
      "            \"schema\",\n",
      "            \"messages\",\n",
      "            \"AIMessage\"\n",
      "          ],\n",
      "          \"kwargs\": {\n",
      "            \"content\": \"Petro Vesklyarov was also known by the nickname Did Panas (Grandpa Panas, Ukrainian: дід Панас).\",\n",
      "            \"additional_kwargs\": {}\n",
      "          }\n",
      "        }\n",
      "      }\n",
      "    ]\n",
      "  ],\n",
      "  \"llm_output\": {\n",
      "    \"token_usage\": {\n",
      "      \"prompt_tokens\": 474,\n",
      "      \"completion_tokens\": 30,\n",
      "      \"total_tokens\": 504\n",
      "    },\n",
      "    \"model_name\": \"gpt-35-turbo\",\n",
      "    \"system_fingerprint\": \"\"\n",
      "  },\n",
      "  \"run\": null\n",
      "}\n",
      "\u001b[36;1m\u001b[1;3m[chain/end]\u001b[0m \u001b[1m[1:chain:RetrievalQA > 2:retriever:Retriever > 10:chain:LLMChain] [560ms] Exiting Chain run with output:\n",
      "\u001b[0m{\n",
      "  \"text\": \"Petro Vesklyarov was also known by the nickname Did Panas (Grandpa Panas, Ukrainian: дід Панас).\"\n",
      "}\n",
      "\u001b[32;1m\u001b[1;3m[chain/start]\u001b[0m \u001b[1m[1:chain:RetrievalQA > 2:retriever:Retriever > 12:chain:LLMChain] Entering Chain run with input:\n",
      "\u001b[0m{\n",
      "  \"question\": \"Хто такий дід Панас?\",\n",
      "  \"context\": \".\\nУ 2022 році у Тальному на Черкащині вулиця Крилова стала вулицею Весклярова.\\n\\n\\n== Ролі в театрі ==\\nМикола Задорожний («Украдене щастя» Івана Франка).\\nКомандор («Камінний господар» Лесі Українки).\\nГородничий («Ревізор» Миколи Гоголя).\\nМонтанеллі («Овід» Етель Л. Войнич).\\n\\n\\n== Цікаві факти ==\\nЗначного поширення набула легенда про те, що, будучи ведучим дитячої програми «На добраніч, діти», яка йшла у прямому ефірі, дід Панас завершив програму такою реплікою: «Отака хуйня, малята…» Речових доказів про те, що таке сталося, немає (з архівів телебачення вдалося зберегти лише одну плівку), свідчення ж свідків є суперечливими. Наприклад, колишній колега Весклярова з телебачення журналіст Володимир Заманський цей факт заперечував, а диктор УТ Світлана Білоножко — підтверджує, але вже після ефіру, хоча сама особисто свідком цього не була.\\nПисьменник Тимур Лито\"\n",
      "}\n",
      "\u001b[32;1m\u001b[1;3m[llm/start]\u001b[0m \u001b[1m[1:chain:RetrievalQA > 2:retriever:Retriever > 12:chain:LLMChain > 13:llm:AzureChatOpenAI] Entering LLM run with input:\n",
      "\u001b[0m{\n",
      "  \"prompts\": [\n",
      "    \"Human: Given the following question and context, extract any part of the context AS IS that is relevant to answer the question. If none of the context is relevant return NO_OUTPUT. Remember, DO NOT edit the extracted parts of the context.\\nQuestion: Хто такий дід Панас?\\nContext: .\\nУ 2022 році у Тальному на Черкащині вулиця Крилова стала вулицею Весклярова.\\n\\n\\n== Ролі в театрі ==\\nМикола Задорожний («Украдене щастя» Івана Франка).\\nКомандор («Камінний господар» Лесі Українки).\\nГородничий («Ревізор» Миколи Гоголя).\\nМонтанеллі («Овід» Етель Л. Войнич).\\n\\n\\n== Цікаві факти ==\\nЗначного поширення набула легенда про те, що, будучи ведучим дитячої програми «На добраніч, діти», яка йшла у прямому ефірі, дід Панас завершив програму такою реплікою: «Отака хуйня, малята…» Речових доказів про те, що таке сталося, немає (з архівів телебачення вдалося зберегти лише одну плівку), свідчення ж свідків є суперечливими. Наприклад, колишній колега Весклярова з телебачення журналіст Володимир Заманський цей факт заперечував, а диктор УТ Світлана Білоножко — підтверджує, але вже після ефіру, хоча сама особисто свідком цього не була.\\nПисьменник Тимур Лито\\nAnswer:\"\n",
      "  ]\n",
      "}\n",
      "\u001b[36;1m\u001b[1;3m[llm/end]\u001b[0m \u001b[1m[1:chain:RetrievalQA > 2:retriever:Retriever > 12:chain:LLMChain > 13:llm:AzureChatOpenAI] [163ms] Exiting LLM run with output:\n",
      "\u001b[0m{\n",
      "  \"generations\": [\n",
      "    [\n",
      "      {\n",
      "        \"text\": \"NO_OUTPUT\",\n",
      "        \"generation_info\": {\n",
      "          \"finish_reason\": \"stop\"\n",
      "        },\n",
      "        \"type\": \"ChatGeneration\",\n",
      "        \"message\": {\n",
      "          \"lc\": 1,\n",
      "          \"type\": \"constructor\",\n",
      "          \"id\": [\n",
      "            \"langchain\",\n",
      "            \"schema\",\n",
      "            \"messages\",\n",
      "            \"AIMessage\"\n",
      "          ],\n",
      "          \"kwargs\": {\n",
      "            \"content\": \"NO_OUTPUT\",\n",
      "            \"additional_kwargs\": {}\n",
      "          }\n",
      "        }\n",
      "      }\n",
      "    ]\n",
      "  ],\n",
      "  \"llm_output\": {\n",
      "    \"token_usage\": {\n",
      "      \"prompt_tokens\": 576,\n",
      "      \"completion_tokens\": 2,\n",
      "      \"total_tokens\": 578\n",
      "    },\n",
      "    \"model_name\": \"gpt-35-turbo\",\n",
      "    \"system_fingerprint\": \"\"\n",
      "  },\n",
      "  \"run\": null\n",
      "}\n",
      "\u001b[36;1m\u001b[1;3m[chain/end]\u001b[0m \u001b[1m[1:chain:RetrievalQA > 2:retriever:Retriever > 12:chain:LLMChain] [167ms] Exiting Chain run with output:\n",
      "\u001b[0m{\n",
      "  \"text\": \"NO_OUTPUT\"\n",
      "}\n",
      "\u001b[32;1m\u001b[1;3m[chain/start]\u001b[0m \u001b[1m[1:chain:RetrievalQA > 14:chain:StuffDocumentsChain] Entering Chain run with input:\n",
      "\u001b[0m[inputs]\n",
      "\u001b[32;1m\u001b[1;3m[chain/start]\u001b[0m \u001b[1m[1:chain:RetrievalQA > 14:chain:StuffDocumentsChain > 15:chain:LLMChain] Entering Chain run with input:\n",
      "\u001b[0m{\n",
      "  \"question\": \"Хто такий дід Панас?\",\n",
      "  \"context\": \"З 1962 р. у ролі діда Панаса розповідав на Українському радіо «вечірню казку» для дітей (перед тим Вескляров працював у цій ролі на підміні іншого актора, якого згодом замінив цілком). 1964—1986 — у ролі діда Панаса вів на Українському телебаченні програму «На добраніч, діти».\\n\\nПетро́ Юхи́мович Вескляро́в, ім'я при народженні Пінхас Хаїмович Весклер (9 червня 1911(19110609), Тальне, Уманський повіт, Київська губернія, Російська імперія — 5 січня 1994, Київ) — український актор і телеведучий. Заслужений артист Української РСР (1973). Більш відомий під творчим псевдонімом «Дід Панас».\\n\\nNO_OUTPUT. The context does not provide information about who Дід Панас is.\\n\\nPetro Vesklyarov was also known by the nickname Did Panas (Grandpa Panas, Ukrainian: дід Панас).\\n\\nNO_OUTPUT\"\n",
      "}\n",
      "\u001b[32;1m\u001b[1;3m[llm/start]\u001b[0m \u001b[1m[1:chain:RetrievalQA > 14:chain:StuffDocumentsChain > 15:chain:LLMChain > 16:llm:AzureChatOpenAI] Entering LLM run with input:\n",
      "\u001b[0m{\n",
      "  \"prompts\": [\n",
      "    \"Human: Use the following pieces of context to answer the question at the end. Please provide a short single-sentence summary answer only. If you don't know the answer or if it's not present in given context, don't try to make up an answer.\\nContext: З 1962 р. у ролі діда Панаса розповідав на Українському радіо «вечірню казку» для дітей (перед тим Вескляров працював у цій ролі на підміні іншого актора, якого згодом замінив цілком). 1964—1986 — у ролі діда Панаса вів на Українському телебаченні програму «На добраніч, діти».\\n\\nПетро́ Юхи́мович Вескляро́в, ім'я при народженні Пінхас Хаїмович Весклер (9 червня 1911(19110609), Тальне, Уманський повіт, Київська губернія, Російська імперія — 5 січня 1994, Київ) — український актор і телеведучий. Заслужений артист Української РСР (1973). Більш відомий під творчим псевдонімом «Дід Панас».\\n\\nNO_OUTPUT. The context does not provide information about who Дід Панас is.\\n\\nPetro Vesklyarov was also known by the nickname Did Panas (Grandpa Panas, Ukrainian: дід Панас).\\n\\nNO_OUTPUT\\nQuestion: Хто такий дід Панас?\\nHelpful Answer:\"\n",
      "  ]\n",
      "}\n"
     ]
    },
    {
     "name": "stderr",
     "output_type": "stream",
     "text": [
      "/opt/homebrew/Caskroom/miniforge/base/envs/llm-simple-QnA-example-1/lib/python3.10/site-packages/langchain/chains/llm.py:316: UserWarning: The predict_and_parse method is deprecated, instead pass an output parser directly to LLMChain.\n",
      "  warnings.warn(\n"
     ]
    },
    {
     "name": "stdout",
     "output_type": "stream",
     "text": [
      "\u001b[36;1m\u001b[1;3m[llm/end]\u001b[0m \u001b[1m[1:chain:RetrievalQA > 14:chain:StuffDocumentsChain > 15:chain:LLMChain > 16:llm:AzureChatOpenAI] [518ms] Exiting LLM run with output:\n",
      "\u001b[0m{\n",
      "  \"generations\": [\n",
      "    [\n",
      "      {\n",
      "        \"text\": \"Petro Vesklyarov, a Ukrainian actor and TV host who was known by the nickname Did Panas.\",\n",
      "        \"generation_info\": {\n",
      "          \"finish_reason\": \"stop\"\n",
      "        },\n",
      "        \"type\": \"ChatGeneration\",\n",
      "        \"message\": {\n",
      "          \"lc\": 1,\n",
      "          \"type\": \"constructor\",\n",
      "          \"id\": [\n",
      "            \"langchain\",\n",
      "            \"schema\",\n",
      "            \"messages\",\n",
      "            \"AIMessage\"\n",
      "          ],\n",
      "          \"kwargs\": {\n",
      "            \"content\": \"Petro Vesklyarov, a Ukrainian actor and TV host who was known by the nickname Did Panas.\",\n",
      "            \"additional_kwargs\": {}\n",
      "          }\n",
      "        }\n",
      "      }\n",
      "    ]\n",
      "  ],\n",
      "  \"llm_output\": {\n",
      "    \"token_usage\": {\n",
      "      \"prompt_tokens\": 505,\n",
      "      \"completion_tokens\": 23,\n",
      "      \"total_tokens\": 528\n",
      "    },\n",
      "    \"model_name\": \"gpt-35-turbo\",\n",
      "    \"system_fingerprint\": \"\"\n",
      "  },\n",
      "  \"run\": null\n",
      "}\n",
      "\u001b[36;1m\u001b[1;3m[chain/end]\u001b[0m \u001b[1m[1:chain:RetrievalQA > 14:chain:StuffDocumentsChain > 15:chain:LLMChain] [521ms] Exiting Chain run with output:\n",
      "\u001b[0m{\n",
      "  \"text\": \"Petro Vesklyarov, a Ukrainian actor and TV host who was known by the nickname Did Panas.\"\n",
      "}\n",
      "\u001b[36;1m\u001b[1;3m[chain/end]\u001b[0m \u001b[1m[1:chain:RetrievalQA > 14:chain:StuffDocumentsChain] [522ms] Exiting Chain run with output:\n",
      "\u001b[0m{\n",
      "  \"output_text\": \"Petro Vesklyarov, a Ukrainian actor and TV host who was known by the nickname Did Panas.\"\n",
      "}\n",
      "\u001b[36;1m\u001b[1;3m[chain/end]\u001b[0m \u001b[1m[1:chain:RetrievalQA] [6.83s] Exiting Chain run with output:\n",
      "\u001b[0m{\n",
      "  \"result\": \"Petro Vesklyarov, a Ukrainian actor and TV host who was known by the nickname Did Panas.\"\n",
      "}\n"
     ]
    }
   ],
   "source": [
    "with debug_langchain():\n",
    "    question = \"Хто такий дід Панас?\"\n",
    "    # qa_chain({\"query\": question})\n",
    "    qa_chain.run(question)"
   ],
   "metadata": {
    "collapsed": false,
    "ExecuteTime": {
     "end_time": "2024-01-25T14:15:18.374705Z",
     "start_time": "2024-01-25T14:15:11.533379Z"
    }
   },
   "id": "e3b2f10970f37a47"
  },
  {
   "cell_type": "code",
   "execution_count": 37,
   "outputs": [
    {
     "name": "stdout",
     "output_type": "stream",
     "text": [
      "\u001b[32;1m\u001b[1;3m[chain/start]\u001b[0m \u001b[1m[1:chain:RetrievalQA] Entering Chain run with input:\n",
      "\u001b[0m{\n",
      "  \"query\": \"Що таке розпізнавання іменованих сутностей?\"\n",
      "}\n",
      "\u001b[32;1m\u001b[1;3m[chain/start]\u001b[0m \u001b[1m[1:chain:RetrievalQA > 2:retriever:Retriever > 4:chain:LLMChain] Entering Chain run with input:\n",
      "\u001b[0m{\n",
      "  \"question\": \"Що таке розпізнавання іменованих сутностей?\",\n",
      "  \"context\": \"У обробці природної мови зв'язування сутностей (англ. Entity Linking), яке також називають зв'язування іменованих сутностей (ЗІС), розпізнавання іменованих сутностей (РІС), розпізнавання і неоднозначності іменованих сутностей (РНІС) або нормалізація іменованих сутностей (НІС), — це присвоєння унікальної ідентичності об'єктам (наприклад, відомим особам, місцям чи компаніям), що згадуються у тексті. Наприклад, розглянемо речення «Дніпро — річка України». Ідея полягає в тому, щоб визначити, що «Дніпро» належить до річки Дніпро, а не до Дніпро-арена чи будь-якої іншої організації, яку можна назвати «Дніпро». Зв'язування сутностей відрізняється від розпізнавання іменованих сутностей (РІС) тим, що РІС ідентифікує появу іменованої сутності в тексті, але не визначає, що саме це за сутність (див. Відмінності від інших технік).\\n\\n\\n== Вступ ==\\nУ зв'язуванні сутностей слова, що цікавлять (імена осіб, місцеположення та компанії) відображаються з вхідного тексту до відповідних унікальних сутностей у цільовій базі знань. Слова, що представляють інтерес, називаються названими сутностями (НС), згадками або поверхневими формами\"\n",
      "}\n",
      "\u001b[32;1m\u001b[1;3m[llm/start]\u001b[0m \u001b[1m[1:chain:RetrievalQA > 2:retriever:Retriever > 4:chain:LLMChain > 5:llm:AzureChatOpenAI] Entering LLM run with input:\n",
      "\u001b[0m{\n",
      "  \"prompts\": [\n",
      "    \"Human: Given the following question and context, extract any part of the context AS IS that is relevant to answer the question. If none of the context is relevant return NO_OUTPUT. Remember, DO NOT edit the extracted parts of the context.\\nQuestion: Що таке розпізнавання іменованих сутностей?\\nContext: У обробці природної мови зв'язування сутностей (англ. Entity Linking), яке також називають зв'язування іменованих сутностей (ЗІС), розпізнавання іменованих сутностей (РІС), розпізнавання і неоднозначності іменованих сутностей (РНІС) або нормалізація іменованих сутностей (НІС), — це присвоєння унікальної ідентичності об'єктам (наприклад, відомим особам, місцям чи компаніям), що згадуються у тексті. Наприклад, розглянемо речення «Дніпро — річка України». Ідея полягає в тому, щоб визначити, що «Дніпро» належить до річки Дніпро, а не до Дніпро-арена чи будь-якої іншої організації, яку можна назвати «Дніпро». Зв'язування сутностей відрізняється від розпізнавання іменованих сутностей (РІС) тим, що РІС ідентифікує появу іменованої сутності в тексті, але не визначає, що саме це за сутність (див. Відмінності від інших технік).\\n\\n\\n== Вступ ==\\nУ зв'язуванні сутностей слова, що цікавлять (імена осіб, місцеположення та компанії) відображаються з вхідного тексту до відповідних унікальних сутностей у цільовій базі знань. Слова, що представляють інтерес, називаються названими сутностями (НС), згадками або поверхневими формами\\nAnswer:\"\n",
      "  ]\n",
      "}\n"
     ]
    },
    {
     "name": "stderr",
     "output_type": "stream",
     "text": [
      "/opt/homebrew/Caskroom/miniforge/base/envs/llm-simple-QnA-example-1/lib/python3.10/site-packages/langchain/chains/llm.py:316: UserWarning: The predict_and_parse method is deprecated, instead pass an output parser directly to LLMChain.\n",
      "  warnings.warn(\n"
     ]
    },
    {
     "name": "stdout",
     "output_type": "stream",
     "text": [
      "\u001b[36;1m\u001b[1;3m[llm/end]\u001b[0m \u001b[1m[1:chain:RetrievalQA > 2:retriever:Retriever > 4:chain:LLMChain > 5:llm:AzureChatOpenAI] [914ms] Exiting LLM run with output:\n",
      "\u001b[0m{\n",
      "  \"generations\": [\n",
      "    [\n",
      "      {\n",
      "        \"text\": \"Розпізнавання іменованих сутностей (РІС) - це ідентифікація появи іменованої сутності в тексті.\",\n",
      "        \"generation_info\": {\n",
      "          \"finish_reason\": \"stop\"\n",
      "        },\n",
      "        \"type\": \"ChatGeneration\",\n",
      "        \"message\": {\n",
      "          \"lc\": 1,\n",
      "          \"type\": \"constructor\",\n",
      "          \"id\": [\n",
      "            \"langchain\",\n",
      "            \"schema\",\n",
      "            \"messages\",\n",
      "            \"AIMessage\"\n",
      "          ],\n",
      "          \"kwargs\": {\n",
      "            \"content\": \"Розпізнавання іменованих сутностей (РІС) - це ідентифікація появи іменованої сутності в тексті.\",\n",
      "            \"additional_kwargs\": {}\n",
      "          }\n",
      "        }\n",
      "      }\n",
      "    ]\n",
      "  ],\n",
      "  \"llm_output\": {\n",
      "    \"token_usage\": {\n",
      "      \"prompt_tokens\": 764,\n",
      "      \"completion_tokens\": 57,\n",
      "      \"total_tokens\": 821\n",
      "    },\n",
      "    \"model_name\": \"gpt-35-turbo\",\n",
      "    \"system_fingerprint\": \"\"\n",
      "  },\n",
      "  \"run\": null\n",
      "}\n",
      "\u001b[36;1m\u001b[1;3m[chain/end]\u001b[0m \u001b[1m[1:chain:RetrievalQA > 2:retriever:Retriever > 4:chain:LLMChain] [917ms] Exiting Chain run with output:\n",
      "\u001b[0m{\n",
      "  \"text\": \"Розпізнавання іменованих сутностей (РІС) - це ідентифікація появи іменованої сутності в тексті.\"\n",
      "}\n",
      "\u001b[32;1m\u001b[1;3m[chain/start]\u001b[0m \u001b[1m[1:chain:RetrievalQA > 2:retriever:Retriever > 6:chain:LLMChain] Entering Chain run with input:\n",
      "\u001b[0m{\n",
      "  \"question\": \"Що таке розпізнавання іменованих сутностей?\",\n",
      "  \"context\": \". Перша фаза, як правило, зводиться до проблеми сегментації: імена визначаються як суміжні проміжки токенів, без вкладеності, таким чином «Банк Америки» є єдиним ім'ям, попри те, що всередині цього імені підрядок «Америки» є іншим ім'ям. Задача сегментування є формально подібною до поверхнево-синтаксичного аналізу. Другий етап вимагає вибору онтології, за допомогою якої можна організувати категорії речей.\\nЧасові вирази та деякі числові вирази (наприклад, гроші, відсотки тощо) також можуть розглядатися як іменовані сутності в контексті завдання РІС. Хоча деякі приклади таких типів є гарними прикладами жорстких позначень (наприклад, 2001 рік), є також багато недійсних (наприклад, я беру відпустки в «червні»). У першому випадку 2001 рік відноситься до 2001-го року григоріанського календаря. У другому випадку місяць червень може стосуватися місяця невизначеного року (минулий червень, наступний червень, кожен червень тощо). Можна стверджувати, що визначення іменованої сутності в таких випадках втрачається з практичних причин. Таким чином, термін іменована сутність не є строгим і часто має пояснюватися в контексті, в якому він використовується.У літературі були запропоновані певні ієрархії типів іменованих сутностей\"\n",
      "}\n",
      "\u001b[32;1m\u001b[1;3m[llm/start]\u001b[0m \u001b[1m[1:chain:RetrievalQA > 2:retriever:Retriever > 6:chain:LLMChain > 7:llm:AzureChatOpenAI] Entering LLM run with input:\n",
      "\u001b[0m{\n",
      "  \"prompts\": [\n",
      "    \"Human: Given the following question and context, extract any part of the context AS IS that is relevant to answer the question. If none of the context is relevant return NO_OUTPUT. Remember, DO NOT edit the extracted parts of the context.\\nQuestion: Що таке розпізнавання іменованих сутностей?\\nContext: . Перша фаза, як правило, зводиться до проблеми сегментації: імена визначаються як суміжні проміжки токенів, без вкладеності, таким чином «Банк Америки» є єдиним ім'ям, попри те, що всередині цього імені підрядок «Америки» є іншим ім'ям. Задача сегментування є формально подібною до поверхнево-синтаксичного аналізу. Другий етап вимагає вибору онтології, за допомогою якої можна організувати категорії речей.\\nЧасові вирази та деякі числові вирази (наприклад, гроші, відсотки тощо) також можуть розглядатися як іменовані сутності в контексті завдання РІС. Хоча деякі приклади таких типів є гарними прикладами жорстких позначень (наприклад, 2001 рік), є також багато недійсних (наприклад, я беру відпустки в «червні»). У першому випадку 2001 рік відноситься до 2001-го року григоріанського календаря. У другому випадку місяць червень може стосуватися місяця невизначеного року (минулий червень, наступний червень, кожен червень тощо). Можна стверджувати, що визначення іменованої сутності в таких випадках втрачається з практичних причин. Таким чином, термін іменована сутність не є строгим і часто має пояснюватися в контексті, в якому він використовується.У літературі були запропоновані певні ієрархії типів іменованих сутностей\\nAnswer:\"\n",
      "  ]\n",
      "}\n"
     ]
    },
    {
     "name": "stderr",
     "output_type": "stream",
     "text": [
      "/opt/homebrew/Caskroom/miniforge/base/envs/llm-simple-QnA-example-1/lib/python3.10/site-packages/langchain/chains/llm.py:316: UserWarning: The predict_and_parse method is deprecated, instead pass an output parser directly to LLMChain.\n",
      "  warnings.warn(\n"
     ]
    },
    {
     "name": "stdout",
     "output_type": "stream",
     "text": [
      "\u001b[36;1m\u001b[1;3m[llm/end]\u001b[0m \u001b[1m[1:chain:RetrievalQA > 2:retriever:Retriever > 6:chain:LLMChain > 7:llm:AzureChatOpenAI] [3.80s] Exiting LLM run with output:\n",
      "\u001b[0m{\n",
      "  \"generations\": [\n",
      "    [\n",
      "      {\n",
      "        \"text\": \"Перша фаза, як правило, зводиться до проблеми сегментації: імена визначаються як суміжні проміжки токенів, без вкладеності, таким чином «Банк Америки» є єдиним ім'ям, попри те, що всередині цього імені підрядок «Америки» є іншим ім'ям. Часові вирази та деякі числові вирази (наприклад, гроші, відсотки тощо) також можуть розглядатися як іменовані сутності в контексті завдання РІС.\",\n",
      "        \"generation_info\": {\n",
      "          \"finish_reason\": \"stop\"\n",
      "        },\n",
      "        \"type\": \"ChatGeneration\",\n",
      "        \"message\": {\n",
      "          \"lc\": 1,\n",
      "          \"type\": \"constructor\",\n",
      "          \"id\": [\n",
      "            \"langchain\",\n",
      "            \"schema\",\n",
      "            \"messages\",\n",
      "            \"AIMessage\"\n",
      "          ],\n",
      "          \"kwargs\": {\n",
      "            \"content\": \"Перша фаза, як правило, зводиться до проблеми сегментації: імена визначаються як суміжні проміжки токенів, без вкладеності, таким чином «Банк Америки» є єдиним ім'ям, попри те, що всередині цього імені підрядок «Америки» є іншим ім'ям. Часові вирази та деякі числові вирази (наприклад, гроші, відсотки тощо) також можуть розглядатися як іменовані сутності в контексті завдання РІС.\",\n",
      "            \"additional_kwargs\": {}\n",
      "          }\n",
      "        }\n",
      "      }\n",
      "    ]\n",
      "  ],\n",
      "  \"llm_output\": {\n",
      "    \"token_usage\": {\n",
      "      \"prompt_tokens\": 786,\n",
      "      \"completion_tokens\": 222,\n",
      "      \"total_tokens\": 1008\n",
      "    },\n",
      "    \"model_name\": \"gpt-35-turbo\",\n",
      "    \"system_fingerprint\": \"\"\n",
      "  },\n",
      "  \"run\": null\n",
      "}\n",
      "\u001b[36;1m\u001b[1;3m[chain/end]\u001b[0m \u001b[1m[1:chain:RetrievalQA > 2:retriever:Retriever > 6:chain:LLMChain] [3.81s] Exiting Chain run with output:\n",
      "\u001b[0m{\n",
      "  \"text\": \"Перша фаза, як правило, зводиться до проблеми сегментації: імена визначаються як суміжні проміжки токенів, без вкладеності, таким чином «Банк Америки» є єдиним ім'ям, попри те, що всередині цього імені підрядок «Америки» є іншим ім'ям. Часові вирази та деякі числові вирази (наприклад, гроші, відсотки тощо) також можуть розглядатися як іменовані сутності в контексті завдання РІС.\"\n",
      "}\n",
      "\u001b[32;1m\u001b[1;3m[chain/start]\u001b[0m \u001b[1m[1:chain:RetrievalQA > 2:retriever:Retriever > 8:chain:LLMChain] Entering Chain run with input:\n",
      "\u001b[0m{\n",
      "  \"question\": \"Що таке розпізнавання іменованих сутностей?\",\n",
      "  \"context\": \"Розпізнавання іменованих сутностей (РІС) (також відоме як ідентифікація об'єктної сутності, фрагментація об'єктної сутності та видобуток об'єктної сутності) — це підзадача видобування інформації, яка намагається знайти і класифікувати іменовані сутності в неструктурованому тексті в заздалегідь визначені категорії, такі як імена людей, організації, місця, медичні коди, час, кількості, грошові значення, відсотки тощо.\\n\\nБільшість досліджень у системах РІС було структуровано як отримання не коментованого блоку тексту, такого як:  І створення коментованого блоку тексту, який виділяє імена об'єктів:\\n\\nУ цьому прикладі було виявлено та класифіковано ім'я особи, що складається з одного токену, назва компанії з двох токенів та часового виразу.\\nСучасні системи РІС для англійської мови показують продуктивність близьку до людської. Наприклад, найкраща система, що коментувала MUC-7, набрала 93,39 % оцінки F1, а анотатори — 97,60 % і 96,95 %.\\n\\n\\n== Платформи розпізнавання іменованих сутностей ==\\nДо визначних платформ РІС належать:\\n\\nGATE підтримує РІС для багатьох мов і доменів, які використовуються через графічний інтерфейс і Java API.\\nOpenNLP містить в собі засноване на правилах і статистичне розпізнавання іменованих об'єктів.\\nSpaCy має швидке статистичне РІС, а також візуалізатор іменованих сутностей з відкритим вихідним кодом\"\n",
      "}\n",
      "\u001b[32;1m\u001b[1;3m[llm/start]\u001b[0m \u001b[1m[1:chain:RetrievalQA > 2:retriever:Retriever > 8:chain:LLMChain > 9:llm:AzureChatOpenAI] Entering LLM run with input:\n",
      "\u001b[0m{\n",
      "  \"prompts\": [\n",
      "    \"Human: Given the following question and context, extract any part of the context AS IS that is relevant to answer the question. If none of the context is relevant return NO_OUTPUT. Remember, DO NOT edit the extracted parts of the context.\\nQuestion: Що таке розпізнавання іменованих сутностей?\\nContext: Розпізнавання іменованих сутностей (РІС) (також відоме як ідентифікація об'єктної сутності, фрагментація об'єктної сутності та видобуток об'єктної сутності) — це підзадача видобування інформації, яка намагається знайти і класифікувати іменовані сутності в неструктурованому тексті в заздалегідь визначені категорії, такі як імена людей, організації, місця, медичні коди, час, кількості, грошові значення, відсотки тощо.\\n\\nБільшість досліджень у системах РІС було структуровано як отримання не коментованого блоку тексту, такого як:  І створення коментованого блоку тексту, який виділяє імена об'єктів:\\n\\nУ цьому прикладі було виявлено та класифіковано ім'я особи, що складається з одного токену, назва компанії з двох токенів та часового виразу.\\nСучасні системи РІС для англійської мови показують продуктивність близьку до людської. Наприклад, найкраща система, що коментувала MUC-7, набрала 93,39 % оцінки F1, а анотатори — 97,60 % і 96,95 %.\\n\\n\\n== Платформи розпізнавання іменованих сутностей ==\\nДо визначних платформ РІС належать:\\n\\nGATE підтримує РІС для багатьох мов і доменів, які використовуються через графічний інтерфейс і Java API.\\nOpenNLP містить в собі засноване на правилах і статистичне розпізнавання іменованих об'єктів.\\nSpaCy має швидке статистичне РІС, а також візуалізатор іменованих сутностей з відкритим вихідним кодом\\nAnswer:\"\n",
      "  ]\n",
      "}\n"
     ]
    },
    {
     "name": "stderr",
     "output_type": "stream",
     "text": [
      "/opt/homebrew/Caskroom/miniforge/base/envs/llm-simple-QnA-example-1/lib/python3.10/site-packages/langchain/chains/llm.py:316: UserWarning: The predict_and_parse method is deprecated, instead pass an output parser directly to LLMChain.\n",
      "  warnings.warn(\n"
     ]
    },
    {
     "name": "stdout",
     "output_type": "stream",
     "text": [
      "\u001b[36;1m\u001b[1;3m[llm/end]\u001b[0m \u001b[1m[1:chain:RetrievalQA > 2:retriever:Retriever > 8:chain:LLMChain > 9:llm:AzureChatOpenAI] [4.21s] Exiting LLM run with output:\n",
      "\u001b[0m{\n",
      "  \"generations\": [\n",
      "    [\n",
      "      {\n",
      "        \"text\": \"Розпізнавання іменованих сутностей (РІС) (також відоме як ідентифікація об'єктної сутності, фрагментація об'єктної сутності та видобуток об'єктної сутності) — це підзадача видобування інформації, яка намагається знайти і класифікувати іменовані сутності в неструктурованому тексті в заздалегідь визначені категорії, такі як імена людей, організації, місця, медичні коди, час, кількості, грошові значення, відсотки тощо.\",\n",
      "        \"generation_info\": {\n",
      "          \"finish_reason\": \"stop\"\n",
      "        },\n",
      "        \"type\": \"ChatGeneration\",\n",
      "        \"message\": {\n",
      "          \"lc\": 1,\n",
      "          \"type\": \"constructor\",\n",
      "          \"id\": [\n",
      "            \"langchain\",\n",
      "            \"schema\",\n",
      "            \"messages\",\n",
      "            \"AIMessage\"\n",
      "          ],\n",
      "          \"kwargs\": {\n",
      "            \"content\": \"Розпізнавання іменованих сутностей (РІС) (також відоме як ідентифікація об'єктної сутності, фрагментація об'єктної сутності та видобуток об'єктної сутності) — це підзадача видобування інформації, яка намагається знайти і класифікувати іменовані сутності в неструктурованому тексті в заздалегідь визначені категорії, такі як імена людей, організації, місця, медичні коди, час, кількості, грошові значення, відсотки тощо.\",\n",
      "            \"additional_kwargs\": {}\n",
      "          }\n",
      "        }\n",
      "      }\n",
      "    ]\n",
      "  ],\n",
      "  \"llm_output\": {\n",
      "    \"token_usage\": {\n",
      "      \"prompt_tokens\": 838,\n",
      "      \"completion_tokens\": 255,\n",
      "      \"total_tokens\": 1093\n",
      "    },\n",
      "    \"model_name\": \"gpt-35-turbo\",\n",
      "    \"system_fingerprint\": \"\"\n",
      "  },\n",
      "  \"run\": null\n",
      "}\n",
      "\u001b[36;1m\u001b[1;3m[chain/end]\u001b[0m \u001b[1m[1:chain:RetrievalQA > 2:retriever:Retriever > 8:chain:LLMChain] [4.21s] Exiting Chain run with output:\n",
      "\u001b[0m{\n",
      "  \"text\": \"Розпізнавання іменованих сутностей (РІС) (також відоме як ідентифікація об'єктної сутності, фрагментація об'єктної сутності та видобуток об'єктної сутності) — це підзадача видобування інформації, яка намагається знайти і класифікувати іменовані сутності в неструктурованому тексті в заздалегідь визначені категорії, такі як імена людей, організації, місця, медичні коди, час, кількості, грошові значення, відсотки тощо.\"\n",
      "}\n",
      "\u001b[32;1m\u001b[1;3m[chain/start]\u001b[0m \u001b[1m[1:chain:RetrievalQA > 2:retriever:Retriever > 10:chain:LLMChain] Entering Chain run with input:\n",
      "\u001b[0m{\n",
      "  \"question\": \"Що таке розпізнавання іменованих сутностей?\",\n",
      "  \"context\": \".\\nOpenNLP містить в собі засноване на правилах і статистичне розпізнавання іменованих об'єктів.\\nSpaCy має швидке статистичне РІС, а також візуалізатор іменованих сутностей з відкритим вихідним кодом.\\n\\n\\n== Визначення проблеми ==\\nУ виразі іменована сутність, слово «іменована» обмежує завдання для тих сутностей, для яких можна поставити у відповідність один або кілька рядків, таких як слова або фрази, послідовно для деяких референтів. Це тісно пов'язане з жорсткими позначеннями, визначеними Кріпке, хоча на практиці РІС має справу з багатьма іменами та референтами, які не є філософськи «жорсткими». Наприклад, автомобільна компанія, створена Генрі Фордом в 1903 році, може називатися Ford або Ford Motor Company, хоча «Ford» також може посилатися на багато інших суб'єктів (див. Ford). Жорсткі позначення включають власні імена, а також назви певних біологічних видів і речовин, за виключенням займенників (наприклад, «він», див. вирішення кореферентності), описів референтів за їх властивостями (див. також De dicto і de re), а також назв видів речей, на відміну від об'єктів (наприклад, «Банк»).\\nПовне розпізнавання іменованої сутності часто розбивається, концептуально і, можливо, також в реалізації, як дві різні задачі: виявлення імен та класифікація їх по типу сутностей (наприклад, особи, організації, місця та інші)\"\n",
      "}\n",
      "\u001b[32;1m\u001b[1;3m[llm/start]\u001b[0m \u001b[1m[1:chain:RetrievalQA > 2:retriever:Retriever > 10:chain:LLMChain > 11:llm:AzureChatOpenAI] Entering LLM run with input:\n",
      "\u001b[0m{\n",
      "  \"prompts\": [\n",
      "    \"Human: Given the following question and context, extract any part of the context AS IS that is relevant to answer the question. If none of the context is relevant return NO_OUTPUT. Remember, DO NOT edit the extracted parts of the context.\\nQuestion: Що таке розпізнавання іменованих сутностей?\\nContext: .\\nOpenNLP містить в собі засноване на правилах і статистичне розпізнавання іменованих об'єктів.\\nSpaCy має швидке статистичне РІС, а також візуалізатор іменованих сутностей з відкритим вихідним кодом.\\n\\n\\n== Визначення проблеми ==\\nУ виразі іменована сутність, слово «іменована» обмежує завдання для тих сутностей, для яких можна поставити у відповідність один або кілька рядків, таких як слова або фрази, послідовно для деяких референтів. Це тісно пов'язане з жорсткими позначеннями, визначеними Кріпке, хоча на практиці РІС має справу з багатьма іменами та референтами, які не є філософськи «жорсткими». Наприклад, автомобільна компанія, створена Генрі Фордом в 1903 році, може називатися Ford або Ford Motor Company, хоча «Ford» також може посилатися на багато інших суб'єктів (див. Ford). Жорсткі позначення включають власні імена, а також назви певних біологічних видів і речовин, за виключенням займенників (наприклад, «він», див. вирішення кореферентності), описів референтів за їх властивостями (див. також De dicto і de re), а також назв видів речей, на відміну від об'єктів (наприклад, «Банк»).\\nПовне розпізнавання іменованої сутності часто розбивається, концептуально і, можливо, також в реалізації, як дві різні задачі: виявлення імен та класифікація їх по типу сутностей (наприклад, особи, організації, місця та інші)\\nAnswer:\"\n",
      "  ]\n",
      "}\n"
     ]
    },
    {
     "name": "stderr",
     "output_type": "stream",
     "text": [
      "/opt/homebrew/Caskroom/miniforge/base/envs/llm-simple-QnA-example-1/lib/python3.10/site-packages/langchain/chains/llm.py:316: UserWarning: The predict_and_parse method is deprecated, instead pass an output parser directly to LLMChain.\n",
      "  warnings.warn(\n"
     ]
    },
    {
     "name": "stdout",
     "output_type": "stream",
     "text": [
      "\u001b[36;1m\u001b[1;3m[llm/end]\u001b[0m \u001b[1m[1:chain:RetrievalQA > 2:retriever:Retriever > 10:chain:LLMChain > 11:llm:AzureChatOpenAI] [2.41s] Exiting LLM run with output:\n",
      "\u001b[0m{\n",
      "  \"generations\": [\n",
      "    [\n",
      "      {\n",
      "        \"text\": \"OpenNLP містить в собі засноване на правилах і статистичне розпізнавання іменованих об'єктів. SpaCy має швидке статистичне РІС, а також візуалізатор іменованих сутностей з відкритим вихідним кодом.\",\n",
      "        \"generation_info\": {\n",
      "          \"finish_reason\": \"stop\"\n",
      "        },\n",
      "        \"type\": \"ChatGeneration\",\n",
      "        \"message\": {\n",
      "          \"lc\": 1,\n",
      "          \"type\": \"constructor\",\n",
      "          \"id\": [\n",
      "            \"langchain\",\n",
      "            \"schema\",\n",
      "            \"messages\",\n",
      "            \"AIMessage\"\n",
      "          ],\n",
      "          \"kwargs\": {\n",
      "            \"content\": \"OpenNLP містить в собі засноване на правилах і статистичне розпізнавання іменованих об'єктів. SpaCy має швидке статистичне РІС, а також візуалізатор іменованих сутностей з відкритим вихідним кодом.\",\n",
      "            \"additional_kwargs\": {}\n",
      "          }\n",
      "        }\n",
      "      }\n",
      "    ]\n",
      "  ],\n",
      "  \"llm_output\": {\n",
      "    \"token_usage\": {\n",
      "      \"prompt_tokens\": 823,\n",
      "      \"completion_tokens\": 108,\n",
      "      \"total_tokens\": 931\n",
      "    },\n",
      "    \"model_name\": \"gpt-35-turbo\",\n",
      "    \"system_fingerprint\": \"\"\n",
      "  },\n",
      "  \"run\": null\n",
      "}\n",
      "\u001b[36;1m\u001b[1;3m[chain/end]\u001b[0m \u001b[1m[1:chain:RetrievalQA > 2:retriever:Retriever > 10:chain:LLMChain] [2.42s] Exiting Chain run with output:\n",
      "\u001b[0m{\n",
      "  \"text\": \"OpenNLP містить в собі засноване на правилах і статистичне розпізнавання іменованих об'єктів. SpaCy має швидке статистичне РІС, а також візуалізатор іменованих сутностей з відкритим вихідним кодом.\"\n",
      "}\n",
      "\u001b[32;1m\u001b[1;3m[chain/start]\u001b[0m \u001b[1m[1:chain:RetrievalQA > 2:retriever:Retriever > 12:chain:LLMChain] Entering Chain run with input:\n",
      "\u001b[0m{\n",
      "  \"question\": \"Що таке розпізнавання іменованих сутностей?\",\n",
      "  \"context\": \". Таким чином, термін іменована сутність не є строгим і часто має пояснюватися в контексті, в якому він використовується.У літературі були запропоновані певні ієрархії типів іменованих сутностей. Категорії BBN, запропоновані в 2002 році, використовуються для питально-відповідної системи і складаються з 29 типів і 64 підтипів. Розширена ієрархія Секіна, запропонована в 2002 році, складається з 200 підтипів. Зовсім недавно, в 2011 році Ріттер використовував ієрархію на основі загальних типів об'єктів\"\n",
      "}\n",
      "\u001b[32;1m\u001b[1;3m[llm/start]\u001b[0m \u001b[1m[1:chain:RetrievalQA > 2:retriever:Retriever > 12:chain:LLMChain > 13:llm:AzureChatOpenAI] Entering LLM run with input:\n",
      "\u001b[0m{\n",
      "  \"prompts\": [\n",
      "    \"Human: Given the following question and context, extract any part of the context AS IS that is relevant to answer the question. If none of the context is relevant return NO_OUTPUT. Remember, DO NOT edit the extracted parts of the context.\\nQuestion: Що таке розпізнавання іменованих сутностей?\\nContext: . Таким чином, термін іменована сутність не є строгим і часто має пояснюватися в контексті, в якому він використовується.У літературі були запропоновані певні ієрархії типів іменованих сутностей. Категорії BBN, запропоновані в 2002 році, використовуються для питально-відповідної системи і складаються з 29 типів і 64 підтипів. Розширена ієрархія Секіна, запропонована в 2002 році, складається з 200 підтипів. Зовсім недавно, в 2011 році Ріттер використовував ієрархію на основі загальних типів об'єктів\\nAnswer:\"\n",
      "  ]\n",
      "}\n"
     ]
    },
    {
     "name": "stderr",
     "output_type": "stream",
     "text": [
      "/opt/homebrew/Caskroom/miniforge/base/envs/llm-simple-QnA-example-1/lib/python3.10/site-packages/langchain/chains/llm.py:316: UserWarning: The predict_and_parse method is deprecated, instead pass an output parser directly to LLMChain.\n",
      "  warnings.warn(\n"
     ]
    },
    {
     "name": "stdout",
     "output_type": "stream",
     "text": [
      "\u001b[36;1m\u001b[1;3m[llm/end]\u001b[0m \u001b[1m[1:chain:RetrievalQA > 2:retriever:Retriever > 12:chain:LLMChain > 13:llm:AzureChatOpenAI] [484ms] Exiting LLM run with output:\n",
      "\u001b[0m{\n",
      "  \"generations\": [\n",
      "    [\n",
      "      {\n",
      "        \"text\": \"Що таке розпізнавання іменованих сутностей?\",\n",
      "        \"generation_info\": {\n",
      "          \"finish_reason\": \"stop\"\n",
      "        },\n",
      "        \"type\": \"ChatGeneration\",\n",
      "        \"message\": {\n",
      "          \"lc\": 1,\n",
      "          \"type\": \"constructor\",\n",
      "          \"id\": [\n",
      "            \"langchain\",\n",
      "            \"schema\",\n",
      "            \"messages\",\n",
      "            \"AIMessage\"\n",
      "          ],\n",
      "          \"kwargs\": {\n",
      "            \"content\": \"Що таке розпізнавання іменованих сутностей?\",\n",
      "            \"additional_kwargs\": {}\n",
      "          }\n",
      "        }\n",
      "      }\n",
      "    ]\n",
      "  ],\n",
      "  \"llm_output\": {\n",
      "    \"token_usage\": {\n",
      "      \"prompt_tokens\": 383,\n",
      "      \"completion_tokens\": 25,\n",
      "      \"total_tokens\": 408\n",
      "    },\n",
      "    \"model_name\": \"gpt-35-turbo\",\n",
      "    \"system_fingerprint\": \"\"\n",
      "  },\n",
      "  \"run\": null\n",
      "}\n",
      "\u001b[36;1m\u001b[1;3m[chain/end]\u001b[0m \u001b[1m[1:chain:RetrievalQA > 2:retriever:Retriever > 12:chain:LLMChain] [489ms] Exiting Chain run with output:\n",
      "\u001b[0m{\n",
      "  \"text\": \"Що таке розпізнавання іменованих сутностей?\"\n",
      "}\n",
      "\u001b[32;1m\u001b[1;3m[chain/start]\u001b[0m \u001b[1m[1:chain:RetrievalQA > 14:chain:StuffDocumentsChain] Entering Chain run with input:\n",
      "\u001b[0m[inputs]\n",
      "\u001b[32;1m\u001b[1;3m[chain/start]\u001b[0m \u001b[1m[1:chain:RetrievalQA > 14:chain:StuffDocumentsChain > 15:chain:LLMChain] Entering Chain run with input:\n",
      "\u001b[0m{\n",
      "  \"question\": \"Що таке розпізнавання іменованих сутностей?\",\n",
      "  \"context\": \"Розпізнавання іменованих сутностей (РІС) - це ідентифікація появи іменованої сутності в тексті.\\n\\nПерша фаза, як правило, зводиться до проблеми сегментації: імена визначаються як суміжні проміжки токенів, без вкладеності, таким чином «Банк Америки» є єдиним ім'ям, попри те, що всередині цього імені підрядок «Америки» є іншим ім'ям. Часові вирази та деякі числові вирази (наприклад, гроші, відсотки тощо) також можуть розглядатися як іменовані сутності в контексті завдання РІС.\\n\\nРозпізнавання іменованих сутностей (РІС) (також відоме як ідентифікація об'єктної сутності, фрагментація об'єктної сутності та видобуток об'єктної сутності) — це підзадача видобування інформації, яка намагається знайти і класифікувати іменовані сутності в неструктурованому тексті в заздалегідь визначені категорії, такі як імена людей, організації, місця, медичні коди, час, кількості, грошові значення, відсотки тощо.\\n\\nOpenNLP містить в собі засноване на правилах і статистичне розпізнавання іменованих об'єктів. SpaCy має швидке статистичне РІС, а також візуалізатор іменованих сутностей з відкритим вихідним кодом.\\n\\nЩо таке розпізнавання іменованих сутностей?\"\n",
      "}\n",
      "\u001b[32;1m\u001b[1;3m[llm/start]\u001b[0m \u001b[1m[1:chain:RetrievalQA > 14:chain:StuffDocumentsChain > 15:chain:LLMChain > 16:llm:AzureChatOpenAI] Entering LLM run with input:\n",
      "\u001b[0m{\n",
      "  \"prompts\": [\n",
      "    \"Human: Use the following pieces of context to answer the question at the end. Please provide a short single-sentence summary answer only. If you don't know the answer or if it's not present in given context, don't try to make up an answer.\\nContext: Розпізнавання іменованих сутностей (РІС) - це ідентифікація появи іменованої сутності в тексті.\\n\\nПерша фаза, як правило, зводиться до проблеми сегментації: імена визначаються як суміжні проміжки токенів, без вкладеності, таким чином «Банк Америки» є єдиним ім'ям, попри те, що всередині цього імені підрядок «Америки» є іншим ім'ям. Часові вирази та деякі числові вирази (наприклад, гроші, відсотки тощо) також можуть розглядатися як іменовані сутності в контексті завдання РІС.\\n\\nРозпізнавання іменованих сутностей (РІС) (також відоме як ідентифікація об'єктної сутності, фрагментація об'єктної сутності та видобуток об'єктної сутності) — це підзадача видобування інформації, яка намагається знайти і класифікувати іменовані сутності в неструктурованому тексті в заздалегідь визначені категорії, такі як імена людей, організації, місця, медичні коди, час, кількості, грошові значення, відсотки тощо.\\n\\nOpenNLP містить в собі засноване на правилах і статистичне розпізнавання іменованих об'єктів. SpaCy має швидке статистичне РІС, а також візуалізатор іменованих сутностей з відкритим вихідним кодом.\\n\\nЩо таке розпізнавання іменованих сутностей?\\nQuestion: Що таке розпізнавання іменованих сутностей?\\nHelpful Answer:\"\n",
      "  ]\n",
      "}\n",
      "\u001b[36;1m\u001b[1;3m[llm/end]\u001b[0m \u001b[1m[1:chain:RetrievalQA > 14:chain:StuffDocumentsChain > 15:chain:LLMChain > 16:llm:AzureChatOpenAI] [2.06s] Exiting LLM run with output:\n",
      "\u001b[0m{\n",
      "  \"generations\": [\n",
      "    [\n",
      "      {\n",
      "        \"text\": \"Розпізнавання іменованих сутностей (РІС) - це ідентифікація появи іменованої сутності в тексті, таких як імена людей, організації, місця, медичні коди, час, кількості, грошові значення, відсотки тощо.\",\n",
      "        \"generation_info\": {\n",
      "          \"finish_reason\": \"stop\"\n",
      "        },\n",
      "        \"type\": \"ChatGeneration\",\n",
      "        \"message\": {\n",
      "          \"lc\": 1,\n",
      "          \"type\": \"constructor\",\n",
      "          \"id\": [\n",
      "            \"langchain\",\n",
      "            \"schema\",\n",
      "            \"messages\",\n",
      "            \"AIMessage\"\n",
      "          ],\n",
      "          \"kwargs\": {\n",
      "            \"content\": \"Розпізнавання іменованих сутностей (РІС) - це ідентифікація появи іменованої сутності в тексті, таких як імена людей, організації, місця, медичні коди, час, кількості, грошові значення, відсотки тощо.\",\n",
      "            \"additional_kwargs\": {}\n",
      "          }\n",
      "        }\n",
      "      }\n",
      "    ]\n",
      "  ],\n",
      "  \"llm_output\": {\n",
      "    \"token_usage\": {\n",
      "      \"prompt_tokens\": 759,\n",
      "      \"completion_tokens\": 123,\n",
      "      \"total_tokens\": 882\n",
      "    },\n",
      "    \"model_name\": \"gpt-35-turbo\",\n",
      "    \"system_fingerprint\": \"\"\n",
      "  },\n",
      "  \"run\": null\n",
      "}\n",
      "\u001b[36;1m\u001b[1;3m[chain/end]\u001b[0m \u001b[1m[1:chain:RetrievalQA > 14:chain:StuffDocumentsChain > 15:chain:LLMChain] [2.06s] Exiting Chain run with output:\n",
      "\u001b[0m{\n",
      "  \"text\": \"Розпізнавання іменованих сутностей (РІС) - це ідентифікація появи іменованої сутності в тексті, таких як імена людей, організації, місця, медичні коди, час, кількості, грошові значення, відсотки тощо.\"\n",
      "}\n",
      "\u001b[36;1m\u001b[1;3m[chain/end]\u001b[0m \u001b[1m[1:chain:RetrievalQA > 14:chain:StuffDocumentsChain] [2.06s] Exiting Chain run with output:\n",
      "\u001b[0m{\n",
      "  \"output_text\": \"Розпізнавання іменованих сутностей (РІС) - це ідентифікація появи іменованої сутності в тексті, таких як імена людей, організації, місця, медичні коди, час, кількості, грошові значення, відсотки тощо.\"\n",
      "}\n",
      "\u001b[36;1m\u001b[1;3m[chain/end]\u001b[0m \u001b[1m[1:chain:RetrievalQA] [14.03s] Exiting Chain run with output:\n",
      "\u001b[0m{\n",
      "  \"result\": \"Розпізнавання іменованих сутностей (РІС) - це ідентифікація появи іменованої сутності в тексті, таких як імена людей, організації, місця, медичні коди, час, кількості, грошові значення, відсотки тощо.\"\n",
      "}\n"
     ]
    }
   ],
   "source": [
    "with debug_langchain():\n",
    "    question = \"Що таке розпізнавання іменованих сутностей?\"\n",
    "    # qa_chain({\"query\": question})\n",
    "    qa_chain.run(question)"
   ],
   "metadata": {
    "collapsed": false,
    "ExecuteTime": {
     "end_time": "2024-01-25T14:15:32.418951Z",
     "start_time": "2024-01-25T14:15:18.373270Z"
    }
   },
   "id": "2fbf0a4a1c54ed92"
  },
  {
   "cell_type": "code",
   "execution_count": 37,
   "outputs": [],
   "source": [],
   "metadata": {
    "collapsed": false,
    "ExecuteTime": {
     "end_time": "2024-01-25T14:15:32.430871Z",
     "start_time": "2024-01-25T14:15:32.417081Z"
    }
   },
   "id": "a548a0079586dd25"
  }
 ],
 "metadata": {
  "kernelspec": {
   "display_name": "Python 3",
   "language": "python",
   "name": "python3"
  },
  "language_info": {
   "codemirror_mode": {
    "name": "ipython",
    "version": 2
   },
   "file_extension": ".py",
   "mimetype": "text/x-python",
   "name": "python",
   "nbconvert_exporter": "python",
   "pygments_lexer": "ipython2",
   "version": "2.7.6"
  }
 },
 "nbformat": 4,
 "nbformat_minor": 5
}
